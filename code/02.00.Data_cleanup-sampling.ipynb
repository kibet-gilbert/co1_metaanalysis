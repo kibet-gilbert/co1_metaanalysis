{
 "cells": [
  {
   "cell_type": "markdown",
   "metadata": {},
   "source": [
    "# **Data cleaning and sorting**\n",
    "This notebook covers a summary come detailed analysis of the contents of the text (.tsv) country files generated from [01.Data_downloading_and_transformation](./01.Data_downloading_and_transformation.ipnb)\n",
    "## **Goals**\n",
    "1. To Understand the summary contents of the .tsv files\n",
    "2. To Analyse the outlook of each sequence: length and content"
   ]
  },
  {
   "cell_type": "markdown",
   "metadata": {},
   "source": [
    "### **Chacking installation status of packages, Installing tidyverse package and loading dplyr or magrittr packages**"
   ]
  },
  {
   "cell_type": "code",
   "execution_count": 1,
   "metadata": {},
   "outputs": [
    {
     "data": {
      "text/html": [
       "'/home/kibet/bioinformatics/github/co1_metaanalysis/code'"
      ],
      "text/latex": [
       "'/home/kibet/bioinformatics/github/co1\\_metaanalysis/code'"
      ],
      "text/markdown": [
       "'/home/kibet/bioinformatics/github/co1_metaanalysis/code'"
      ],
      "text/plain": [
       "[1] \"/home/kibet/bioinformatics/github/co1_metaanalysis/code\""
      ]
     },
     "metadata": {},
     "output_type": "display_data"
    }
   ],
   "source": [
    "getwd()"
   ]
  },
  {
   "cell_type": "code",
   "execution_count": 2,
   "metadata": {},
   "outputs": [
    {
     "name": "stdout",
     "output_type": "stream",
     "text": [
      "\n",
      "Checking if needed packages are installed... 'tidyverse','dplyr' and 'magrittr'\n",
      "Excellent tidyverse already installed.\n",
      "proceeding with clean_up and sorting\n"
     ]
    }
   ],
   "source": [
    "#Checking if a package is installed and if not installed it is installed. if installed it is loaded. \"install.packages(\"tidyverse\")\" installs tidyverse\n",
    "cat(\"\\nChecking if needed packages are installed... 'tidyverse','dplyr' and 'magrittr'\")\n",
    "if(\"tidyverse\" %in% rownames(installed.packages()) == FALSE) {\n",
    "        install.packages(\"tidyverse\")\n",
    "} else {\n",
    "        cat(\"\\nExcellent tidyverse already installed.\\nproceeding with clean_up and sorting\\n\")\n",
    "        ## loads dplyr and magrittr packages\n",
    "        suppressMessages(library(dplyr))\n",
    "        suppressMessages(library(magrittr))\n",
    "        suppressMessages(library(tools))\n",
    "}"
   ]
  },
  {
   "cell_type": "code",
   "execution_count": 3,
   "metadata": {},
   "outputs": [],
   "source": [
    "suppressMessages(library(dplyr));suppressMessages(library(magrittr))"
   ]
  },
  {
   "cell_type": "markdown",
   "metadata": {},
   "source": [
    "### **Loading the .tsv data file to R**"
   ]
  },
  {
   "cell_type": "code",
   "execution_count": 4,
   "metadata": {},
   "outputs": [],
   "source": [
    "bold_data = read.delim(\"/home/kibet/bioinformatics/github/co1_metaanalysis/data/input/bold_data/diptera_13012021/diptera_13012021.tsv\", \n",
    "                       stringsAsFactors = F, header = T, na.strings = \"\") \n",
    "# seems to work ok. bold2.tsv does not contain any '\\r' characters"
   ]
  },
  {
   "cell_type": "markdown",
   "metadata": {},
   "source": [
    "### **The Overall look of the data**"
   ]
  },
  {
   "cell_type": "code",
   "execution_count": 5,
   "metadata": {},
   "outputs": [
    {
     "name": "stdout",
     "output_type": "stream",
     "text": [
      "'data.frame':\t81302 obs. of  80 variables:\n",
      " $ processid                 : chr  \"GBDP32377-19\" \"GBDP32805-19\" \"GBDP32808-19\" \"GBDP32817-19\" ...\n",
      " $ sampleid                  : chr  \"MF446534\" \"KX853282\" \"KX853251\" \"KX853243\" ...\n",
      " $ recordID                  : int  9905930 9906358 9906361 9906370 9906371 9906373 9906469 9906470 9906472 9906578 ...\n",
      " $ catalognum                : chr  NA NA NA NA ...\n",
      " $ fieldnum                  : chr  \"ZFMK_D190\" NA NA NA ...\n",
      " $ institution_storing       : chr  \"Mined from GenBank, NCBI\" \"Mined from GenBank, NCBI\" \"Mined from GenBank, NCBI\" \"Mined from GenBank, NCBI\" ...\n",
      " $ collection_code           : logi  NA NA NA NA NA NA ...\n",
      " $ bin_uri                   : chr  \"BOLD:AAZ6524\" NA NA \"BOLD:AED2981\" ...\n",
      " $ phylum_taxID              : int  20 20 20 20 20 20 20 20 20 20 ...\n",
      " $ phylum_name               : chr  \"Arthropoda\" \"Arthropoda\" \"Arthropoda\" \"Arthropoda\" ...\n",
      " $ class_taxID               : int  82 82 82 82 82 82 82 82 82 82 ...\n",
      " $ class_name                : chr  \"Insecta\" \"Insecta\" \"Insecta\" \"Insecta\" ...\n",
      " $ order_taxID               : int  127 127 127 127 127 127 127 127 127 127 ...\n",
      " $ order_name                : chr  \"Diptera\" \"Diptera\" \"Diptera\" \"Diptera\" ...\n",
      " $ family_taxID              : int  1823 567 567 567 567 567 567 567 567 567 ...\n",
      " $ family_name               : chr  \"Syrphidae\" \"Ceratopogonidae\" \"Ceratopogonidae\" \"Ceratopogonidae\" ...\n",
      " $ subfamily_taxID           : int  5924 237167 237167 237167 237167 237167 237167 237167 237167 237167 ...\n",
      " $ subfamily_name            : chr  \"Syrphinae\" \"Ceratopogoninae\" \"Ceratopogoninae\" \"Ceratopogoninae\" ...\n",
      " $ genus_taxID               : int  79311 2403 2403 2403 2403 2403 2403 2403 2403 2403 ...\n",
      " $ genus_name                : chr  \"Ischiodon\" \"Culicoides\" \"Culicoides\" \"Culicoides\" ...\n",
      " $ species_taxID             : int  171028 919728 682519 650500 27425 919732 27425 27425 27425 27425 ...\n",
      " $ species_name              : chr  \"Ischiodon aegyptius\" \"Culicoides sp. G HB-2016\" \"Culicoides shaklawensis\" \"Culicoides jumineri\" ...\n",
      " $ subspecies_taxID          : int  NA NA NA NA NA NA NA NA NA NA ...\n",
      " $ subspecies_name           : chr  NA NA NA NA ...\n",
      " $ identification_provided_by: chr  NA NA NA NA ...\n",
      " $ identification_method     : logi  NA NA NA NA NA NA ...\n",
      " $ identification_reference  : chr  \"Wiedemann, 1830\" NA NA NA ...\n",
      " $ tax_note                  : logi  NA NA NA NA NA NA ...\n",
      " $ voucher_status            : chr  NA NA NA NA ...\n",
      " $ tissue_type               : chr  NA NA NA NA ...\n",
      " $ collection_event_id       : logi  NA NA NA NA NA NA ...\n",
      " $ collectors                : chr  NA NA NA NA ...\n",
      " $ collectiondate_start      : logi  NA NA NA NA NA NA ...\n",
      " $ collectiondate_end        : logi  NA NA NA NA NA NA ...\n",
      " $ collectiontime            : logi  NA NA NA NA NA NA ...\n",
      " $ collection_note           : chr  NA NA NA NA ...\n",
      " $ site_code                 : chr  NA NA NA NA ...\n",
      " $ sampling_protocol         : chr  NA NA NA NA ...\n",
      " $ lifestage                 : chr  NA NA NA NA ...\n",
      " $ sex                       : chr  NA NA NA NA ...\n",
      " $ reproduction              : chr  NA NA NA NA ...\n",
      " $ habitat                   : chr  NA NA NA NA ...\n",
      " $ associated_specimens      : chr  NA NA NA NA ...\n",
      " $ associated_taxa           : chr  NA NA NA NA ...\n",
      " $ extrainfo                 : chr  NA NA NA NA ...\n",
      " $ notes                     : chr  NA NA NA NA ...\n",
      " $ lat                       : num  35.9 NA NA NA NA NA NA NA NA NA ...\n",
      " $ lon                       : num  0.72 NA NA NA NA NA NA NA NA NA ...\n",
      " $ coord_source              : chr  NA NA NA NA ...\n",
      " $ coord_accuracy            : logi  NA NA NA NA NA NA ...\n",
      " $ elev                      : num  NA NA NA NA NA NA NA NA NA NA ...\n",
      " $ depth                     : logi  NA NA NA NA NA NA ...\n",
      " $ elev_accuracy             : int  NA NA NA NA NA NA NA NA NA NA ...\n",
      " $ depth_accuracy            : logi  NA NA NA NA NA NA ...\n",
      " $ country                   : chr  \"Algeria\" \"Algeria\" \"Algeria\" \"Algeria\" ...\n",
      " $ province_state            : chr  NA NA NA NA ...\n",
      " $ region                    : chr  NA NA NA NA ...\n",
      " $ sector                    : chr  NA NA NA NA ...\n",
      " $ exactsite                 : chr  NA NA NA NA ...\n",
      " $ image_ids                 : int  NA NA NA NA NA NA NA NA NA NA ...\n",
      " $ image_urls                : chr  NA NA NA NA ...\n",
      " $ media_descriptors         : chr  NA NA NA NA ...\n",
      " $ captions                  : chr  NA NA NA NA ...\n",
      " $ copyright_holders         : chr  NA NA NA NA ...\n",
      " $ copyright_years           : int  NA NA NA NA NA NA NA NA NA NA ...\n",
      " $ copyright_licenses        : chr  NA NA NA NA ...\n",
      " $ copyright_institutions    : chr  NA NA NA NA ...\n",
      " $ photographers             : chr  NA NA NA NA ...\n",
      " $ sequenceID                : int  11667402 11742976 11742969 11742967 11742961 11742973 11742374 11742375 11742377 11742942 ...\n",
      " $ markercode                : chr  \"COI-5P\" \"COI-5P\" \"COI-5P\" \"COI-5P\" ...\n",
      " $ genbank_accession         : chr  \"MF446534\" \"KX853282\" \"KX853251\" \"KX853243\" ...\n",
      " $ nucleotides               : chr  \"GGAACATGAGCTGGAATAGTAGGAACATCTCTAAGAATTTTAATTCGTGCAGAACTTGGACATCCAGGAGCTTTAATTGGAGATGATCAAATTTATAACGTAATTGTAACA\"| __truncated__ \"TCCAATCATATTAGGGTCTCCAGATATAGCATTTCCTCGTATAAATAATATAAGATTTTGATTATTACCTCCATCATTATCATTATTATTATTATCATCTATATCAGAAAT\"| __truncated__ \"CCCATTAATATTAGGAGCCCCTGATATAGCCTTTCCGCGTATAAATAATATAAGATTTTGAATACTCCCCCCTTCTTTATCACTATTATTAGTTAGAAGCTTAGTAGAAAA\"| __truncated__ \"CCCCCTAATATTAGGGGCCCCTGATATAGCTTTTCCCCGAATAAATAATATAAGATTCTGAATACTCCCTCCTTCTCTTTCTCTTCTATTAGTTAGAAGTTTAGTAGAAAA\"| __truncated__ ...\n",
      " $ trace_ids                 : int  NA NA NA NA NA NA NA NA NA NA ...\n",
      " $ trace_names               : chr  NA NA NA NA ...\n",
      " $ trace_links               : chr  NA NA NA NA ...\n",
      " $ run_dates                 : chr  NA NA NA NA ...\n",
      " $ sequencing_centers        : chr  NA NA NA NA ...\n",
      " $ directions                : chr  NA NA NA NA ...\n",
      " $ seq_primers               : chr  NA NA NA NA ...\n",
      " $ marker_codes              : chr  NA NA NA NA ...\n"
     ]
    }
   ],
   "source": [
    "str(bold_data)"
   ]
  },
  {
   "cell_type": "code",
   "execution_count": 6,
   "metadata": {},
   "outputs": [
    {
     "name": "stdout",
     "output_type": "stream",
     "text": [
      " [1] \"processid\"                  \"sampleid\"                  \n",
      " [3] \"recordID\"                   \"catalognum\"                \n",
      " [5] \"fieldnum\"                   \"institution_storing\"       \n",
      " [7] \"collection_code\"            \"bin_uri\"                   \n",
      " [9] \"phylum_taxID\"               \"phylum_name\"               \n",
      "[11] \"class_taxID\"                \"class_name\"                \n",
      "[13] \"order_taxID\"                \"order_name\"                \n",
      "[15] \"family_taxID\"               \"family_name\"               \n",
      "[17] \"subfamily_taxID\"            \"subfamily_name\"            \n",
      "[19] \"genus_taxID\"                \"genus_name\"                \n",
      "[21] \"species_taxID\"              \"species_name\"              \n",
      "[23] \"subspecies_taxID\"           \"subspecies_name\"           \n",
      "[25] \"identification_provided_by\" \"identification_method\"     \n",
      "[27] \"identification_reference\"   \"tax_note\"                  \n",
      "[29] \"voucher_status\"             \"tissue_type\"               \n",
      "[31] \"collection_event_id\"        \"collectors\"                \n",
      "[33] \"collectiondate_start\"       \"collectiondate_end\"        \n",
      "[35] \"collectiontime\"             \"collection_note\"           \n",
      "[37] \"site_code\"                  \"sampling_protocol\"         \n",
      "[39] \"lifestage\"                  \"sex\"                       \n",
      "[41] \"reproduction\"               \"habitat\"                   \n",
      "[43] \"associated_specimens\"       \"associated_taxa\"           \n",
      "[45] \"extrainfo\"                  \"notes\"                     \n",
      "[47] \"lat\"                        \"lon\"                       \n",
      "[49] \"coord_source\"               \"coord_accuracy\"            \n",
      "[51] \"elev\"                       \"depth\"                     \n",
      "[53] \"elev_accuracy\"              \"depth_accuracy\"            \n",
      "[55] \"country\"                    \"province_state\"            \n",
      "[57] \"region\"                     \"sector\"                    \n",
      "[59] \"exactsite\"                  \"image_ids\"                 \n",
      "[61] \"image_urls\"                 \"media_descriptors\"         \n",
      "[63] \"captions\"                   \"copyright_holders\"         \n",
      "[65] \"copyright_years\"            \"copyright_licenses\"        \n",
      "[67] \"copyright_institutions\"     \"photographers\"             \n",
      "[69] \"sequenceID\"                 \"markercode\"                \n",
      "[71] \"genbank_accession\"          \"nucleotides\"               \n",
      "[73] \"trace_ids\"                  \"trace_names\"               \n",
      "[75] \"trace_links\"                \"run_dates\"                 \n",
      "[77] \"sequencing_centers\"         \"directions\"                \n",
      "[79] \"seq_primers\"                \"marker_codes\"              \n"
     ]
    }
   ],
   "source": [
    "print(names(bold_data))"
   ]
  },
  {
   "cell_type": "markdown",
   "metadata": {},
   "source": [
    "### **Countries represented**\n",
    "Note: Countries include; Atlantic Ocean(137), Costa Rica(1291), Indian Ocean(3), India(1), Israel(27) and United States(2) = 1461 in total"
   ]
  },
  {
   "cell_type": "code",
   "execution_count": 7,
   "metadata": {},
   "outputs": [
    {
     "name": "stdout",
     "output_type": "stream",
     "text": [
      "52 countries are represented in bold_data: Algeria;Angola;Benin;Botswana;Burkina Faso;Burundi;Cameroon;Cape Verde;Central African Republic;Comoros;Cote d'Ivoire;Democratic Republic of the Congo;Djibouti;Egypt;Equatorial Guinea;Ethiopia;Gabon;Gambia;Ghana;Guinea;Guinea-Bissau;Kenya;Lesotho;Costa Rica;Liberia;Libya;Madagascar;Malawi;Mali;Mauritania;Mauritius;Morocco;Mozambique;Namibia;Niger;Nigeria;Republic of the Congo;Reunion;Rwanda;Sao Tome and Principe;Senegal;Seychelles;Sierra Leone;South Africa;Sudan;Swaziland;Tanzania;Togo;Tunisia;Uganda;Zambia;Zimbabwe"
     ]
    },
    {
     "data": {
      "text/html": [
       "<table>\n",
       "<caption>A data.frame: 52 × 2</caption>\n",
       "<thead>\n",
       "\t<tr><th scope=col>Var1</th><th scope=col>Freq</th></tr>\n",
       "\t<tr><th scope=col>&lt;fct&gt;</th><th scope=col>&lt;int&gt;</th></tr>\n",
       "</thead>\n",
       "<tbody>\n",
       "\t<tr><td>Algeria                         </td><td>  245</td></tr>\n",
       "\t<tr><td>Angola                          </td><td>    9</td></tr>\n",
       "\t<tr><td>Benin                           </td><td>  232</td></tr>\n",
       "\t<tr><td>Botswana                        </td><td>   37</td></tr>\n",
       "\t<tr><td>Burkina Faso                    </td><td>  316</td></tr>\n",
       "\t<tr><td>Burundi                         </td><td>  105</td></tr>\n",
       "\t<tr><td>Cameroon                        </td><td>  230</td></tr>\n",
       "\t<tr><td>Cape Verde                      </td><td>   20</td></tr>\n",
       "\t<tr><td>Central African Republic        </td><td>   48</td></tr>\n",
       "\t<tr><td>Comoros                         </td><td>   18</td></tr>\n",
       "\t<tr><td>Costa Rica                      </td><td>  228</td></tr>\n",
       "\t<tr><td>Cote d'Ivoire                   </td><td>  139</td></tr>\n",
       "\t<tr><td>Democratic Republic of the Congo</td><td>  267</td></tr>\n",
       "\t<tr><td>Djibouti                        </td><td>    3</td></tr>\n",
       "\t<tr><td>Egypt                           </td><td> 8139</td></tr>\n",
       "\t<tr><td>Equatorial Guinea               </td><td>   15</td></tr>\n",
       "\t<tr><td>Ethiopia                        </td><td>  143</td></tr>\n",
       "\t<tr><td>Gabon                           </td><td>15225</td></tr>\n",
       "\t<tr><td>Gambia                          </td><td>   17</td></tr>\n",
       "\t<tr><td>Ghana                           </td><td>  207</td></tr>\n",
       "\t<tr><td>Guinea                          </td><td>   74</td></tr>\n",
       "\t<tr><td>Guinea-Bissau                   </td><td>   30</td></tr>\n",
       "\t<tr><td>Kenya                           </td><td>15549</td></tr>\n",
       "\t<tr><td>Lesotho                         </td><td>    8</td></tr>\n",
       "\t<tr><td>Liberia                         </td><td>   88</td></tr>\n",
       "\t<tr><td>Libya                           </td><td>    1</td></tr>\n",
       "\t<tr><td>Madagascar                      </td><td>15747</td></tr>\n",
       "\t<tr><td>Malawi                          </td><td>   92</td></tr>\n",
       "\t<tr><td>Mali                            </td><td>  315</td></tr>\n",
       "\t<tr><td>Mauritania                      </td><td>    1</td></tr>\n",
       "\t<tr><td>Mauritius                       </td><td>   42</td></tr>\n",
       "\t<tr><td>Morocco                         </td><td>  388</td></tr>\n",
       "\t<tr><td>Mozambique                      </td><td>  220</td></tr>\n",
       "\t<tr><td>Namibia                         </td><td>  121</td></tr>\n",
       "\t<tr><td>Niger                           </td><td>    2</td></tr>\n",
       "\t<tr><td>Nigeria                         </td><td>  246</td></tr>\n",
       "\t<tr><td>Republic of the Congo           </td><td>   13</td></tr>\n",
       "\t<tr><td>Reunion                         </td><td>  180</td></tr>\n",
       "\t<tr><td>Rwanda                          </td><td>    9</td></tr>\n",
       "\t<tr><td>Sao Tome and Principe           </td><td>   50</td></tr>\n",
       "\t<tr><td>Senegal                         </td><td> 1336</td></tr>\n",
       "\t<tr><td>Seychelles                      </td><td>   11</td></tr>\n",
       "\t<tr><td>Sierra Leone                    </td><td>    2</td></tr>\n",
       "\t<tr><td>South Africa                    </td><td>19299</td></tr>\n",
       "\t<tr><td>Sudan                           </td><td>   32</td></tr>\n",
       "\t<tr><td>Swaziland                       </td><td>    7</td></tr>\n",
       "\t<tr><td>Tanzania                        </td><td>  398</td></tr>\n",
       "\t<tr><td>Togo                            </td><td>   82</td></tr>\n",
       "\t<tr><td>Tunisia                         </td><td>  191</td></tr>\n",
       "\t<tr><td>Uganda                          </td><td>  899</td></tr>\n",
       "\t<tr><td>Zambia                          </td><td>  169</td></tr>\n",
       "\t<tr><td>Zimbabwe                        </td><td>   57</td></tr>\n",
       "</tbody>\n",
       "</table>\n"
      ],
      "text/latex": [
       "A data.frame: 52 × 2\n",
       "\\begin{tabular}{ll}\n",
       " Var1 & Freq\\\\\n",
       " <fct> & <int>\\\\\n",
       "\\hline\n",
       "\t Algeria                          &   245\\\\\n",
       "\t Angola                           &     9\\\\\n",
       "\t Benin                            &   232\\\\\n",
       "\t Botswana                         &    37\\\\\n",
       "\t Burkina Faso                     &   316\\\\\n",
       "\t Burundi                          &   105\\\\\n",
       "\t Cameroon                         &   230\\\\\n",
       "\t Cape Verde                       &    20\\\\\n",
       "\t Central African Republic         &    48\\\\\n",
       "\t Comoros                          &    18\\\\\n",
       "\t Costa Rica                       &   228\\\\\n",
       "\t Cote d'Ivoire                    &   139\\\\\n",
       "\t Democratic Republic of the Congo &   267\\\\\n",
       "\t Djibouti                         &     3\\\\\n",
       "\t Egypt                            &  8139\\\\\n",
       "\t Equatorial Guinea                &    15\\\\\n",
       "\t Ethiopia                         &   143\\\\\n",
       "\t Gabon                            & 15225\\\\\n",
       "\t Gambia                           &    17\\\\\n",
       "\t Ghana                            &   207\\\\\n",
       "\t Guinea                           &    74\\\\\n",
       "\t Guinea-Bissau                    &    30\\\\\n",
       "\t Kenya                            & 15549\\\\\n",
       "\t Lesotho                          &     8\\\\\n",
       "\t Liberia                          &    88\\\\\n",
       "\t Libya                            &     1\\\\\n",
       "\t Madagascar                       & 15747\\\\\n",
       "\t Malawi                           &    92\\\\\n",
       "\t Mali                             &   315\\\\\n",
       "\t Mauritania                       &     1\\\\\n",
       "\t Mauritius                        &    42\\\\\n",
       "\t Morocco                          &   388\\\\\n",
       "\t Mozambique                       &   220\\\\\n",
       "\t Namibia                          &   121\\\\\n",
       "\t Niger                            &     2\\\\\n",
       "\t Nigeria                          &   246\\\\\n",
       "\t Republic of the Congo            &    13\\\\\n",
       "\t Reunion                          &   180\\\\\n",
       "\t Rwanda                           &     9\\\\\n",
       "\t Sao Tome and Principe            &    50\\\\\n",
       "\t Senegal                          &  1336\\\\\n",
       "\t Seychelles                       &    11\\\\\n",
       "\t Sierra Leone                     &     2\\\\\n",
       "\t South Africa                     & 19299\\\\\n",
       "\t Sudan                            &    32\\\\\n",
       "\t Swaziland                        &     7\\\\\n",
       "\t Tanzania                         &   398\\\\\n",
       "\t Togo                             &    82\\\\\n",
       "\t Tunisia                          &   191\\\\\n",
       "\t Uganda                           &   899\\\\\n",
       "\t Zambia                           &   169\\\\\n",
       "\t Zimbabwe                         &    57\\\\\n",
       "\\end{tabular}\n"
      ],
      "text/markdown": [
       "\n",
       "A data.frame: 52 × 2\n",
       "\n",
       "| Var1 &lt;fct&gt; | Freq &lt;int&gt; |\n",
       "|---|---|\n",
       "| Algeria                          |   245 |\n",
       "| Angola                           |     9 |\n",
       "| Benin                            |   232 |\n",
       "| Botswana                         |    37 |\n",
       "| Burkina Faso                     |   316 |\n",
       "| Burundi                          |   105 |\n",
       "| Cameroon                         |   230 |\n",
       "| Cape Verde                       |    20 |\n",
       "| Central African Republic         |    48 |\n",
       "| Comoros                          |    18 |\n",
       "| Costa Rica                       |   228 |\n",
       "| Cote d'Ivoire                    |   139 |\n",
       "| Democratic Republic of the Congo |   267 |\n",
       "| Djibouti                         |     3 |\n",
       "| Egypt                            |  8139 |\n",
       "| Equatorial Guinea                |    15 |\n",
       "| Ethiopia                         |   143 |\n",
       "| Gabon                            | 15225 |\n",
       "| Gambia                           |    17 |\n",
       "| Ghana                            |   207 |\n",
       "| Guinea                           |    74 |\n",
       "| Guinea-Bissau                    |    30 |\n",
       "| Kenya                            | 15549 |\n",
       "| Lesotho                          |     8 |\n",
       "| Liberia                          |    88 |\n",
       "| Libya                            |     1 |\n",
       "| Madagascar                       | 15747 |\n",
       "| Malawi                           |    92 |\n",
       "| Mali                             |   315 |\n",
       "| Mauritania                       |     1 |\n",
       "| Mauritius                        |    42 |\n",
       "| Morocco                          |   388 |\n",
       "| Mozambique                       |   220 |\n",
       "| Namibia                          |   121 |\n",
       "| Niger                            |     2 |\n",
       "| Nigeria                          |   246 |\n",
       "| Republic of the Congo            |    13 |\n",
       "| Reunion                          |   180 |\n",
       "| Rwanda                           |     9 |\n",
       "| Sao Tome and Principe            |    50 |\n",
       "| Senegal                          |  1336 |\n",
       "| Seychelles                       |    11 |\n",
       "| Sierra Leone                     |     2 |\n",
       "| South Africa                     | 19299 |\n",
       "| Sudan                            |    32 |\n",
       "| Swaziland                        |     7 |\n",
       "| Tanzania                         |   398 |\n",
       "| Togo                             |    82 |\n",
       "| Tunisia                          |   191 |\n",
       "| Uganda                           |   899 |\n",
       "| Zambia                           |   169 |\n",
       "| Zimbabwe                         |    57 |\n",
       "\n"
      ],
      "text/plain": [
       "   Var1                             Freq \n",
       "1  Algeria                            245\n",
       "2  Angola                               9\n",
       "3  Benin                              232\n",
       "4  Botswana                            37\n",
       "5  Burkina Faso                       316\n",
       "6  Burundi                            105\n",
       "7  Cameroon                           230\n",
       "8  Cape Verde                          20\n",
       "9  Central African Republic            48\n",
       "10 Comoros                             18\n",
       "11 Costa Rica                         228\n",
       "12 Cote d'Ivoire                      139\n",
       "13 Democratic Republic of the Congo   267\n",
       "14 Djibouti                             3\n",
       "15 Egypt                             8139\n",
       "16 Equatorial Guinea                   15\n",
       "17 Ethiopia                           143\n",
       "18 Gabon                            15225\n",
       "19 Gambia                              17\n",
       "20 Ghana                              207\n",
       "21 Guinea                              74\n",
       "22 Guinea-Bissau                       30\n",
       "23 Kenya                            15549\n",
       "24 Lesotho                              8\n",
       "25 Liberia                             88\n",
       "26 Libya                                1\n",
       "27 Madagascar                       15747\n",
       "28 Malawi                              92\n",
       "29 Mali                               315\n",
       "30 Mauritania                           1\n",
       "31 Mauritius                           42\n",
       "32 Morocco                            388\n",
       "33 Mozambique                         220\n",
       "34 Namibia                            121\n",
       "35 Niger                                2\n",
       "36 Nigeria                            246\n",
       "37 Republic of the Congo               13\n",
       "38 Reunion                            180\n",
       "39 Rwanda                               9\n",
       "40 Sao Tome and Principe               50\n",
       "41 Senegal                           1336\n",
       "42 Seychelles                          11\n",
       "43 Sierra Leone                         2\n",
       "44 South Africa                     19299\n",
       "45 Sudan                               32\n",
       "46 Swaziland                            7\n",
       "47 Tanzania                           398\n",
       "48 Togo                                82\n",
       "49 Tunisia                            191\n",
       "50 Uganda                             899\n",
       "51 Zambia                             169\n",
       "52 Zimbabwe                            57"
      ]
     },
     "metadata": {},
     "output_type": "display_data"
    }
   ],
   "source": [
    "cat(length(unique(bold_data$country)), \"countries are represented in bold_data: \")\n",
    "cat(c(unique(bold_data$country)), sep=\";\")\n",
    "as.data.frame(table(c(bold_data$country)))"
   ]
  },
  {
   "cell_type": "markdown",
   "metadata": {},
   "source": [
    "## **Loading sample data from exclusively East Africa:**\n",
    "1. Kenya, \n",
    "2. Tanzania, \n",
    "3. Uganda, \n",
    "4. Rwanda, \n",
    "5. Burundi, \n",
    "6. South Sudan and \n",
    "7. Ethiopia"
   ]
  },
  {
   "cell_type": "markdown",
   "metadata": {},
   "source": [
    "### **Looking at the summary of the sample_dataframe.**"
   ]
  },
  {
   "cell_type": "code",
   "execution_count": 9,
   "metadata": {},
   "outputs": [
    {
     "name": "stdout",
     "output_type": "stream",
     "text": [
      "'data.frame':\t41238 obs. of  80 variables:\n",
      " $ processid                 : chr  \"ACRJP031-09\" \"ACRJP194-09\" \"ACRJP221-09\" \"ACRJP419-10\" ...\n",
      " $ sampleid                  : chr  \"BC-MNHNJP0313\" \"BC-MNHNJP0536\" \"BC-MNHNJP0563\" \"BC-MNHNJP0856\" ...\n",
      " $ recordID                  : int  1134352 1134515 1134542 1608687 1608835 2496776 2506330 2506373 2506395 2508075 ...\n",
      " $ catalognum                : chr  NA NA NA NA ...\n",
      " $ fieldnum                  : chr  \"BC-MNHNJP0313\" \"BC-MNHNJP0536\" \"BC-MNHNJP0563\" \"BC-MNHNJP0856\" ...\n",
      " $ institution_storing       : chr  \"Research Collection of Dominique Bernaud\" \"Museum National d'Histoire Naturelle, Paris\" \"Museum National d'Histoire Naturelle, Paris\" \"Research Collection of Dominique Bernaud\" ...\n",
      " $ collection_code           : logi  NA NA NA NA NA NA ...\n",
      " $ bin_uri                   : chr  \"BOLD:AAC9562\" \"BOLD:AAE8435\" \"BOLD:AAD8963\" \"BOLD:AAE0506\" ...\n",
      " $ phylum_taxID              : int  20 20 20 20 20 20 20 20 20 20 ...\n",
      " $ phylum_name               : chr  \"Arthropoda\" \"Arthropoda\" \"Arthropoda\" \"Arthropoda\" ...\n",
      " $ class_taxID               : int  82 82 82 82 82 82 82 82 82 82 ...\n",
      " $ class_name                : chr  \"Insecta\" \"Insecta\" \"Insecta\" \"Insecta\" ...\n",
      " $ order_taxID               : int  113 113 113 113 113 113 113 113 113 113 ...\n",
      " $ order_name                : chr  \"Lepidoptera\" \"Lepidoptera\" \"Lepidoptera\" \"Lepidoptera\" ...\n",
      " $ family_taxID              : int  723 NA NA 723 NA NA 665 NA 425 545 ...\n",
      " $ family_name               : chr  \"Nymphalidae\" NA NA \"Nymphalidae\" ...\n",
      " $ subfamily_taxID           : int  3591 NA NA 3591 NA NA NA NA 5833 NA ...\n",
      " $ subfamily_name            : chr  \"Heliconiinae\" NA NA \"Heliconiinae\" ...\n",
      " $ genus_taxID               : int  7130 NA NA 7130 NA NA NA NA 720479 NA ...\n",
      " $ genus_name                : chr  \"Acraea\" NA NA \"Acraea\" ...\n",
      " $ species_taxID             : int  214325 NA NA 313800 NA NA NA NA 720486 NA ...\n",
      " $ species_name              : chr  \"Acraea schubotzi\" NA NA \"Acraea ducarmei\" ...\n",
      " $ subspecies_taxID          : int  NA NA NA NA NA NA NA NA NA NA ...\n",
      " $ subspecies_name           : chr  NA NA NA NA ...\n",
      " $ identification_provided_by: chr  \"Bernaud Dominique\" \"Jacques L. Pierre\" \"Jacques L. Pierre\" \"Bernaud Dominique\" ...\n",
      " $ identification_method     : chr  NA NA NA NA ...\n",
      " $ identification_reference  : chr  NA NA NA NA ...\n",
      " $ tax_note                  : logi  NA NA NA NA NA NA ...\n",
      " $ voucher_status            : chr  NA NA NA NA ...\n",
      " $ tissue_type               : chr  NA NA NA NA ...\n",
      " $ collection_event_id       : logi  NA NA NA NA NA NA ...\n",
      " $ collectors                : chr  \"JP Lequeux\" \"Vingergoedt\" \"Vingerhoedt\" \"Lequeux\" ...\n",
      " $ collectiondate_start      : logi  NA NA NA NA NA NA ...\n",
      " $ collectiondate_end        : logi  NA NA NA NA NA NA ...\n",
      " $ collectiontime            : chr  NA NA NA NA ...\n",
      " $ collection_note           : chr  NA NA NA NA ...\n",
      " $ site_code                 : chr  NA NA NA NA ...\n",
      " $ sampling_protocol         : chr  NA NA NA NA ...\n",
      " $ lifestage                 : chr  \"A\" \"A\" \"A\" \"A\" ...\n",
      " $ sex                       : chr  \"M\" \"M\" \"M\" \"M\" ...\n",
      " $ reproduction              : chr  \"S\" \"S\" \"S\" \"S\" ...\n",
      " $ habitat                   : chr  NA NA NA NA ...\n",
      " $ associated_specimens      : chr  NA NA NA NA ...\n",
      " $ associated_taxa           : chr  NA NA NA NA ...\n",
      " $ extrainfo                 : chr  NA NA NA \"Paratype\" ...\n",
      " $ notes                     : chr  NA NA NA NA ...\n",
      " $ lat                       : num  0.5 NA NA NA NA ...\n",
      " $ lon                       : num  30 NA NA NA NA ...\n",
      " $ coord_source              : chr  NA NA NA NA ...\n",
      " $ coord_accuracy            : num  NA NA NA NA NA NA NA NA NA NA ...\n",
      " $ elev                      : num  NA NA NA NA NA ...\n",
      " $ depth                     : logi  NA NA NA NA NA NA ...\n",
      " $ elev_accuracy             : num  NA NA NA NA NA NA NA NA NA NA ...\n",
      " $ depth_accuracy            : logi  NA NA NA NA NA NA ...\n",
      " $ country                   : chr  \"Uganda\" \"Kenya\" \"Kenya\" \"Uganda\" ...\n",
      " $ province_state            : chr  NA NA NA NA ...\n",
      " $ region                    : chr  NA NA NA NA ...\n",
      " $ sector                    : chr  NA NA NA NA ...\n",
      " $ exactsite                 : chr  \"Semliki Fst\" NA NA \"Patiko - Gulu\" ...\n",
      " $ image_ids                 : chr  NA NA NA NA ...\n",
      " $ image_urls                : chr  NA NA NA NA ...\n",
      " $ media_descriptors         : chr  NA NA NA NA ...\n",
      " $ captions                  : chr  NA NA NA NA ...\n",
      " $ copyright_holders         : chr  NA NA NA NA ...\n",
      " $ copyright_years           : chr  NA NA NA NA ...\n",
      " $ copyright_licenses        : chr  NA NA NA NA ...\n",
      " $ copyright_institutions    : chr  NA NA NA NA ...\n",
      " $ photographers             : chr  NA NA NA NA ...\n",
      " $ sequenceID                : int  3433346 3326280 3326300 3701223 3696276 4473416 4470826 4470890 4470850 4496624 ...\n",
      " $ markercode                : chr  \"COI-5P\" \"COI-5P\" \"COI-5P\" \"COI-5P\" ...\n",
      " $ genbank_accession         : chr  \"HQ546425\" \"HQ546483-SUPPRESSED\" \"HQ546506-SUPPRESSED\" \"HQ920054\" ...\n",
      " $ nucleotides               : chr  \"AACTCTATACTTTATTTTCGGGATTTGAGCAGGATTAATTGGAACCTCCTTAAGTCTTTTAATTCGAGTAGAATTAAGTAATCCAGGATCCTTTATTAATGATGATCAAAT\"| __truncated__ \"AACTTTATATTTTATTTTTGGTATTTGATCGGGAATAATTGGAACATCATTAAGTTTATTAATTCGAACAGAATTAGGTAACCCAGGGTCTTTAATTGGAGATGATCAAAT\"| __truncated__ \"AACATTATATTTTATTTTTGGGATCTGATCTGGAATAGTAGGGACATCTTTAAGTATACTAATTCGAATAGAACTAGGAAATCCTGGATGTTTAATTGGGGATGATCAAAT\"| __truncated__ \"AACTTTATATTTTATTTTTGGAATTTGAGCAGGACTAATCGGTACCTCTCTCAGTTTATTAATTCGAATTGAATTAAGTAACCCTGGATCCTTTATTAATAATGACCAAAT\"| __truncated__ ...\n",
      " $ trace_ids                 : chr  \"1785152|1785179|1785206|1785234\" \"1523835|1523917\" \"1523857|1523939\" \"2406424|2406465\" ...\n",
      " $ trace_names               : chr  \"ACRJP031-09[LepF1,MLepR1]_F.ab1|ACRJP031-09[LepF1,MLepR1]_R.ab1|ACRJP031-09[MLepF1,LepR1]_F.ab1|ACRJP031-09[MLe\"| __truncated__ \"ACRJP194-09[LepF1,LepR1]_F.ab1|ACRJP194-09[LepF1,LepR1]_R.ab1\" \"ACRJP221-09[LepF1,LepR1]_F.ab1|ACRJP221-09[LepF1,LepR1]_R.ab1\" \"ACRJP419-10[LepF1,LepR1]_F.ab1|ACRJP419-10[LepF1,LepR1]_R.ab1\" ...\n",
      " $ trace_links               : chr  \"http://trace.boldsystems.org/traceIO/bold.org/1509880|http://trace.boldsystems.org/traceIO/bold.org/1509907|htt\"| __truncated__ \"http://trace.boldsystems.org/traceIO/bold.org/1257014|http://trace.boldsystems.org/traceIO/bold.org/1257096\" \"http://trace.boldsystems.org/traceIO/bold.org/1257036|http://trace.boldsystems.org/traceIO/bold.org/1257118\" \"http://trace.boldsystems.org/traceIO/bold.org/2099969|http://trace.boldsystems.org/traceIO/bold.org/2100010\" ...\n",
      " $ run_dates                 : chr  \"2009-12-16 19:48:40|2009-12-16 20:33:35|2009-12-19 23:31:55|2009-12-21 21:55:25\" \"2009-07-31 16:03:03|2009-07-31 20:20:54\" \"2009-07-31 16:03:03|2009-07-31 20:20:54\" \"2010-09-24 20:13:35|2010-09-24 21:39:54\" ...\n",
      " $ sequencing_centers        : chr  \"Biodiversity Institute of Ontario|Biodiversity Institute of Ontario|Biodiversity Institute of Ontario|Biodivers\"| __truncated__ \"Biodiversity Institute of Ontario|Biodiversity Institute of Ontario\" \"Biodiversity Institute of Ontario|Biodiversity Institute of Ontario\" \"Biodiversity Institute of Ontario|Biodiversity Institute of Ontario\" ...\n",
      " $ directions                : chr  \"F|R|F|R\" \"F|R\" \"F|R\" \"F|R\" ...\n",
      " $ seq_primers               : chr  \"LepF1|MLepR1|MLepF1|LepR1\" \"LepF1|LepR1\" \"LepF1|LepR1\" \"LepF1|LepR1\" ...\n",
      " $ marker_codes              : chr  \"COI-5P|COI-5P|COI-5P|COI-5P\" \"COI-5P|COI-5P\" \"COI-5P|COI-5P\" \"COI-5P|COI-5P\" ...\n"
     ]
    }
   ],
   "source": [
    "sample_data = read.delim(\"../data/input/test_data/bold.tsv\", \n",
    "                         stringsAsFactors = F, header = T, na.strings = \"\") \n",
    "str(sample_data)"
   ]
  },
  {
   "cell_type": "markdown",
   "metadata": {},
   "source": [
    "### Copeland's data"
   ]
  },
  {
   "cell_type": "code",
   "execution_count": 8,
   "metadata": {},
   "outputs": [
    {
     "name": "stdout",
     "output_type": "stream",
     "text": [
      "R.Copeland | RS Copeland | R. Copeland | R.S. Copeland | R Copeland | R.S.Copeland | R. S. Copeland | Robert Copeland | J. Bukhebi & RS Copeland | R S Copeland | J.Bukhebi & R S Copeland | R S.Copeland | RS  Copeland | R.S Copeland | J.Bukhebi & R.S Copeland | J.Bukhebi & RS Copeland | Bob Copeland"
     ]
    },
    {
     "data": {
      "text/html": [
       "<table>\n",
       "<caption>A data.frame: 17 × 2</caption>\n",
       "<thead>\n",
       "\t<tr><th scope=col>Var1</th><th scope=col>Freq</th></tr>\n",
       "\t<tr><th scope=col>&lt;fct&gt;</th><th scope=col>&lt;int&gt;</th></tr>\n",
       "</thead>\n",
       "<tbody>\n",
       "\t<tr><td>Bob Copeland            </td><td>  10</td></tr>\n",
       "\t<tr><td>J. Bukhebi &amp; RS Copeland</td><td> 895</td></tr>\n",
       "\t<tr><td>J.Bukhebi &amp; R S Copeland</td><td><span style=white-space:pre-wrap>  41</span></td></tr>\n",
       "\t<tr><td>J.Bukhebi &amp; R.S Copeland</td><td><span style=white-space:pre-wrap>  16</span></td></tr>\n",
       "\t<tr><td>J.Bukhebi &amp; RS Copeland </td><td><span style=white-space:pre-wrap>  83</span></td></tr>\n",
       "\t<tr><td>R Copeland              </td><td>  35</td></tr>\n",
       "\t<tr><td>R S Copeland            </td><td> 196</td></tr>\n",
       "\t<tr><td>R S.Copeland            </td><td>  19</td></tr>\n",
       "\t<tr><td>R. Copeland             </td><td> 526</td></tr>\n",
       "\t<tr><td>R. S. Copeland          </td><td> 144</td></tr>\n",
       "\t<tr><td>R.Copeland              </td><td>  20</td></tr>\n",
       "\t<tr><td>R.S Copeland            </td><td>  29</td></tr>\n",
       "\t<tr><td>R.S. Copeland           </td><td> 436</td></tr>\n",
       "\t<tr><td>R.S.Copeland            </td><td>  32</td></tr>\n",
       "\t<tr><td>Robert Copeland         </td><td>2603</td></tr>\n",
       "\t<tr><td>RS  Copeland            </td><td>  26</td></tr>\n",
       "\t<tr><td>RS Copeland             </td><td>1922</td></tr>\n",
       "</tbody>\n",
       "</table>\n"
      ],
      "text/latex": [
       "A data.frame: 17 × 2\n",
       "\\begin{tabular}{r|ll}\n",
       " Var1 & Freq\\\\\n",
       " <fct> & <int>\\\\\n",
       "\\hline\n",
       "\t Bob Copeland             &   10\\\\\n",
       "\t J. Bukhebi \\& RS Copeland &  895\\\\\n",
       "\t J.Bukhebi \\& R S Copeland &   41\\\\\n",
       "\t J.Bukhebi \\& R.S Copeland &   16\\\\\n",
       "\t J.Bukhebi \\& RS Copeland  &   83\\\\\n",
       "\t R Copeland               &   35\\\\\n",
       "\t R S Copeland             &  196\\\\\n",
       "\t R S.Copeland             &   19\\\\\n",
       "\t R. Copeland              &  526\\\\\n",
       "\t R. S. Copeland           &  144\\\\\n",
       "\t R.Copeland               &   20\\\\\n",
       "\t R.S Copeland             &   29\\\\\n",
       "\t R.S. Copeland            &  436\\\\\n",
       "\t R.S.Copeland             &   32\\\\\n",
       "\t Robert Copeland          & 2603\\\\\n",
       "\t RS  Copeland             &   26\\\\\n",
       "\t RS Copeland              & 1922\\\\\n",
       "\\end{tabular}\n"
      ],
      "text/markdown": [
       "\n",
       "A data.frame: 17 × 2\n",
       "\n",
       "| Var1 &lt;fct&gt; | Freq &lt;int&gt; |\n",
       "|---|---|\n",
       "| Bob Copeland             |   10 |\n",
       "| J. Bukhebi &amp; RS Copeland |  895 |\n",
       "| J.Bukhebi &amp; R S Copeland |   41 |\n",
       "| J.Bukhebi &amp; R.S Copeland |   16 |\n",
       "| J.Bukhebi &amp; RS Copeland  |   83 |\n",
       "| R Copeland               |   35 |\n",
       "| R S Copeland             |  196 |\n",
       "| R S.Copeland             |   19 |\n",
       "| R. Copeland              |  526 |\n",
       "| R. S. Copeland           |  144 |\n",
       "| R.Copeland               |   20 |\n",
       "| R.S Copeland             |   29 |\n",
       "| R.S. Copeland            |  436 |\n",
       "| R.S.Copeland             |   32 |\n",
       "| Robert Copeland          | 2603 |\n",
       "| RS  Copeland             |   26 |\n",
       "| RS Copeland              | 1922 |\n",
       "\n"
      ],
      "text/plain": [
       "   Var1                     Freq\n",
       "1  Bob Copeland               10\n",
       "2  J. Bukhebi & RS Copeland  895\n",
       "3  J.Bukhebi & R S Copeland   41\n",
       "4  J.Bukhebi & R.S Copeland   16\n",
       "5  J.Bukhebi & RS Copeland    83\n",
       "6  R Copeland                 35\n",
       "7  R S Copeland              196\n",
       "8  R S.Copeland               19\n",
       "9  R. Copeland               526\n",
       "10 R. S. Copeland            144\n",
       "11 R.Copeland                 20\n",
       "12 R.S Copeland               29\n",
       "13 R.S. Copeland             436\n",
       "14 R.S.Copeland               32\n",
       "15 Robert Copeland          2603\n",
       "16 RS  Copeland               26\n",
       "17 RS Copeland              1922"
      ]
     },
     "metadata": {},
     "output_type": "display_data"
    },
    {
     "data": {
      "text/html": [
       "<table>\n",
       "<caption>A data.frame: 6350 × 2</caption>\n",
       "<thead>\n",
       "\t<tr><th scope=col>Var1</th><th scope=col>Freq</th></tr>\n",
       "\t<tr><th scope=col>&lt;fct&gt;</th><th scope=col>&lt;int&gt;</th></tr>\n",
       "</thead>\n",
       "<tbody>\n",
       "\t<tr><td>. Onbekend                                                         </td><td>  9</td></tr>\n",
       "\t<tr><td>0                                                                  </td><td>  1</td></tr>\n",
       "\t<tr><td>0G 1984GR00402                                                     </td><td>  1</td></tr>\n",
       "\t<tr><td>2016 Allendale Class                                               </td><td> 41</td></tr>\n",
       "\t<tr><td>2rd year UKZN students                                             </td><td> 12</td></tr>\n",
       "\t<tr><td>989 m                                                              </td><td>  1</td></tr>\n",
       "\t<tr><td>A Barbet                                                           </td><td>  1</td></tr>\n",
       "\t<tr><td>A Bok                                                              </td><td>  1</td></tr>\n",
       "\t<tr><td>A Eicker                                                           </td><td>  1</td></tr>\n",
       "\t<tr><td>A Fotie                                                            </td><td>  4</td></tr>\n",
       "\t<tr><td>A Fraser                                                           </td><td> 91</td></tr>\n",
       "\t<tr><td>A Galal-Khallaf                                                    </td><td> 20</td></tr>\n",
       "\t<tr><td>A H Kirk-Spriggs                                                   </td><td>  2</td></tr>\n",
       "\t<tr><td>A Hausmann                                                         </td><td>  2</td></tr>\n",
       "\t<tr><td>A Honiball                                                         </td><td>  5</td></tr>\n",
       "\t<tr><td>A J Urban                                                          </td><td>  6</td></tr>\n",
       "\t<tr><td>A Jakiel, A Stepien, P Jozwiak, B Serigstad, M Blazewicz-Paszkowycz</td><td>  2</td></tr>\n",
       "\t<tr><td>A Meunier                                                          </td><td> 41</td></tr>\n",
       "\t<tr><td>A Oldewage                                                         </td><td>  3</td></tr>\n",
       "\t<tr><td>A Rakotoarisolo                                                    </td><td>  1</td></tr>\n",
       "\t<tr><td>A Viviers                                                          </td><td>  3</td></tr>\n",
       "\t<tr><td>A Watsham                                                          </td><td>  7</td></tr>\n",
       "\t<tr><td>A Whitfield                                                        </td><td>  9</td></tr>\n",
       "\t<tr><td>A. A. Enti                                                         </td><td>  3</td></tr>\n",
       "\t<tr><td>A. Afolabi                                                         </td><td> 15</td></tr>\n",
       "\t<tr><td>A. Ahamadi                                                         </td><td> 10</td></tr>\n",
       "\t<tr><td>A. Alvarez                                                         </td><td>  3</td></tr>\n",
       "\t<tr><td>A. Apinda, T. Zidat                                                </td><td>155</td></tr>\n",
       "\t<tr><td>A. Aulombard                                                       </td><td>  8</td></tr>\n",
       "\t<tr><td>A. B. Williams                                                     </td><td> 42</td></tr>\n",
       "\t<tr><td>⋮</td><td>⋮</td></tr>\n",
       "\t<tr><td>Z. Hora                                </td><td>   1</td></tr>\n",
       "\t<tr><td>Z. Marzouk                             </td><td>  38</td></tr>\n",
       "\t<tr><td>Z. Musilova, L. Kalous                 </td><td>   1</td></tr>\n",
       "\t<tr><td><span style=white-space:pre-wrap>Z. Shoba &amp; K. Waddington               </span></td><td><span style=white-space:pre-wrap>  16</span></td></tr>\n",
       "\t<tr><td>Z. Shoba, K. Waddington                </td><td> 677</td></tr>\n",
       "\t<tr><td><span style=white-space:pre-wrap>Z. shoba, K. Waddington &amp; S. Singh     </span></td><td><span style=white-space:pre-wrap>  20</span></td></tr>\n",
       "\t<tr><td>Z. Shoba, K. Waddington, S. Singh      </td><td>  99</td></tr>\n",
       "\t<tr><td>Z. Shoba, M. Ziganira                  </td><td>2218</td></tr>\n",
       "\t<tr><td>Z. Weidenhoffer (CZ)                   </td><td>   1</td></tr>\n",
       "\t<tr><td>Z.T. Nagi                              </td><td>   3</td></tr>\n",
       "\t<tr><td>Zach Kobrinsky                         </td><td>  11</td></tr>\n",
       "\t<tr><td>Zacharie Sohou                         </td><td>   1</td></tr>\n",
       "\t<tr><td>Zaloumis S.P.                          </td><td>   1</td></tr>\n",
       "\t<tr><td>Zambatis G.                            </td><td>   7</td></tr>\n",
       "\t<tr><td>Zambatis N.                            </td><td>  39</td></tr>\n",
       "\t<tr><td>Zambatis N...                          </td><td>   1</td></tr>\n",
       "\t<tr><td>Zambatis, N.                           </td><td>   1</td></tr>\n",
       "\t<tr><td>Zantovska                              </td><td>   1</td></tr>\n",
       "\t<tr><td>Zdenko Tokar                           </td><td>   2</td></tr>\n",
       "\t<tr><td>Zeinab Soliman                         </td><td>   1</td></tr>\n",
       "\t<tr><td>Zerny                                  </td><td>   2</td></tr>\n",
       "\t<tr><td>Zietsman PC                            </td><td>   2</td></tr>\n",
       "\t<tr><td>Zietsman, P.C.                         </td><td>   3</td></tr>\n",
       "\t<tr><td><span style=white-space:pre-wrap>Zietzman, P.C. &amp; Peyper, T.            </span></td><td><span style=white-space:pre-wrap>   1</span></td></tr>\n",
       "\t<tr><td>ZMUC expedition                        </td><td>   2</td></tr>\n",
       "\t<tr><td>Zool. Mus. Copenhagen Expedition       </td><td>   2</td></tr>\n",
       "\t<tr><td>Zoologische Staatssammlung Muenchen (D)</td><td>   2</td></tr>\n",
       "\t<tr><td>Zoubir Harrat                          </td><td>  10</td></tr>\n",
       "\t<tr><td>Zumbado Manuel Angel                   </td><td>  37</td></tr>\n",
       "\t<tr><td>Zwick, Andreas                         </td><td>   1</td></tr>\n",
       "</tbody>\n",
       "</table>\n"
      ],
      "text/latex": [
       "A data.frame: 6350 × 2\n",
       "\\begin{tabular}{r|ll}\n",
       " Var1 & Freq\\\\\n",
       " <fct> & <int>\\\\\n",
       "\\hline\n",
       "\t . Onbekend                                                          &   9\\\\\n",
       "\t 0                                                                   &   1\\\\\n",
       "\t 0G 1984GR00402                                                      &   1\\\\\n",
       "\t 2016 Allendale Class                                                &  41\\\\\n",
       "\t 2rd year UKZN students                                              &  12\\\\\n",
       "\t 989 m                                                               &   1\\\\\n",
       "\t A Barbet                                                            &   1\\\\\n",
       "\t A Bok                                                               &   1\\\\\n",
       "\t A Eicker                                                            &   1\\\\\n",
       "\t A Fotie                                                             &   4\\\\\n",
       "\t A Fraser                                                            &  91\\\\\n",
       "\t A Galal-Khallaf                                                     &  20\\\\\n",
       "\t A H Kirk-Spriggs                                                    &   2\\\\\n",
       "\t A Hausmann                                                          &   2\\\\\n",
       "\t A Honiball                                                          &   5\\\\\n",
       "\t A J Urban                                                           &   6\\\\\n",
       "\t A Jakiel, A Stepien, P Jozwiak, B Serigstad, M Blazewicz-Paszkowycz &   2\\\\\n",
       "\t A Meunier                                                           &  41\\\\\n",
       "\t A Oldewage                                                          &   3\\\\\n",
       "\t A Rakotoarisolo                                                     &   1\\\\\n",
       "\t A Viviers                                                           &   3\\\\\n",
       "\t A Watsham                                                           &   7\\\\\n",
       "\t A Whitfield                                                         &   9\\\\\n",
       "\t A. A. Enti                                                          &   3\\\\\n",
       "\t A. Afolabi                                                          &  15\\\\\n",
       "\t A. Ahamadi                                                          &  10\\\\\n",
       "\t A. Alvarez                                                          &   3\\\\\n",
       "\t A. Apinda, T. Zidat                                                 & 155\\\\\n",
       "\t A. Aulombard                                                        &   8\\\\\n",
       "\t A. B. Williams                                                      &  42\\\\\n",
       "\t ⋮ & ⋮\\\\\n",
       "\t Z. Hora                                 &    1\\\\\n",
       "\t Z. Marzouk                              &   38\\\\\n",
       "\t Z. Musilova, L. Kalous                  &    1\\\\\n",
       "\t Z. Shoba \\& K. Waddington                &   16\\\\\n",
       "\t Z. Shoba, K. Waddington                 &  677\\\\\n",
       "\t Z. shoba, K. Waddington \\& S. Singh      &   20\\\\\n",
       "\t Z. Shoba, K. Waddington, S. Singh       &   99\\\\\n",
       "\t Z. Shoba, M. Ziganira                   & 2218\\\\\n",
       "\t Z. Weidenhoffer (CZ)                    &    1\\\\\n",
       "\t Z.T. Nagi                               &    3\\\\\n",
       "\t Zach Kobrinsky                          &   11\\\\\n",
       "\t Zacharie Sohou                          &    1\\\\\n",
       "\t Zaloumis S.P.                           &    1\\\\\n",
       "\t Zambatis G.                             &    7\\\\\n",
       "\t Zambatis N.                             &   39\\\\\n",
       "\t Zambatis N...                           &    1\\\\\n",
       "\t Zambatis, N.                            &    1\\\\\n",
       "\t Zantovska                               &    1\\\\\n",
       "\t Zdenko Tokar                            &    2\\\\\n",
       "\t Zeinab Soliman                          &    1\\\\\n",
       "\t Zerny                                   &    2\\\\\n",
       "\t Zietsman PC                             &    2\\\\\n",
       "\t Zietsman, P.C.                          &    3\\\\\n",
       "\t Zietzman, P.C. \\& Peyper, T.             &    1\\\\\n",
       "\t ZMUC expedition                         &    2\\\\\n",
       "\t Zool. Mus. Copenhagen Expedition        &    2\\\\\n",
       "\t Zoologische Staatssammlung Muenchen (D) &    2\\\\\n",
       "\t Zoubir Harrat                           &   10\\\\\n",
       "\t Zumbado Manuel Angel                    &   37\\\\\n",
       "\t Zwick, Andreas                          &    1\\\\\n",
       "\\end{tabular}\n"
      ],
      "text/markdown": [
       "\n",
       "A data.frame: 6350 × 2\n",
       "\n",
       "| Var1 &lt;fct&gt; | Freq &lt;int&gt; |\n",
       "|---|---|\n",
       "| . Onbekend                                                          |   9 |\n",
       "| 0                                                                   |   1 |\n",
       "| 0G 1984GR00402                                                      |   1 |\n",
       "| 2016 Allendale Class                                                |  41 |\n",
       "| 2rd year UKZN students                                              |  12 |\n",
       "| 989 m                                                               |   1 |\n",
       "| A Barbet                                                            |   1 |\n",
       "| A Bok                                                               |   1 |\n",
       "| A Eicker                                                            |   1 |\n",
       "| A Fotie                                                             |   4 |\n",
       "| A Fraser                                                            |  91 |\n",
       "| A Galal-Khallaf                                                     |  20 |\n",
       "| A H Kirk-Spriggs                                                    |   2 |\n",
       "| A Hausmann                                                          |   2 |\n",
       "| A Honiball                                                          |   5 |\n",
       "| A J Urban                                                           |   6 |\n",
       "| A Jakiel, A Stepien, P Jozwiak, B Serigstad, M Blazewicz-Paszkowycz |   2 |\n",
       "| A Meunier                                                           |  41 |\n",
       "| A Oldewage                                                          |   3 |\n",
       "| A Rakotoarisolo                                                     |   1 |\n",
       "| A Viviers                                                           |   3 |\n",
       "| A Watsham                                                           |   7 |\n",
       "| A Whitfield                                                         |   9 |\n",
       "| A. A. Enti                                                          |   3 |\n",
       "| A. Afolabi                                                          |  15 |\n",
       "| A. Ahamadi                                                          |  10 |\n",
       "| A. Alvarez                                                          |   3 |\n",
       "| A. Apinda, T. Zidat                                                 | 155 |\n",
       "| A. Aulombard                                                        |   8 |\n",
       "| A. B. Williams                                                      |  42 |\n",
       "| ⋮ | ⋮ |\n",
       "| Z. Hora                                 |    1 |\n",
       "| Z. Marzouk                              |   38 |\n",
       "| Z. Musilova, L. Kalous                  |    1 |\n",
       "| Z. Shoba &amp; K. Waddington                |   16 |\n",
       "| Z. Shoba, K. Waddington                 |  677 |\n",
       "| Z. shoba, K. Waddington &amp; S. Singh      |   20 |\n",
       "| Z. Shoba, K. Waddington, S. Singh       |   99 |\n",
       "| Z. Shoba, M. Ziganira                   | 2218 |\n",
       "| Z. Weidenhoffer (CZ)                    |    1 |\n",
       "| Z.T. Nagi                               |    3 |\n",
       "| Zach Kobrinsky                          |   11 |\n",
       "| Zacharie Sohou                          |    1 |\n",
       "| Zaloumis S.P.                           |    1 |\n",
       "| Zambatis G.                             |    7 |\n",
       "| Zambatis N.                             |   39 |\n",
       "| Zambatis N...                           |    1 |\n",
       "| Zambatis, N.                            |    1 |\n",
       "| Zantovska                               |    1 |\n",
       "| Zdenko Tokar                            |    2 |\n",
       "| Zeinab Soliman                          |    1 |\n",
       "| Zerny                                   |    2 |\n",
       "| Zietsman PC                             |    2 |\n",
       "| Zietsman, P.C.                          |    3 |\n",
       "| Zietzman, P.C. &amp; Peyper, T.             |    1 |\n",
       "| ZMUC expedition                         |    2 |\n",
       "| Zool. Mus. Copenhagen Expedition        |    2 |\n",
       "| Zoologische Staatssammlung Muenchen (D) |    2 |\n",
       "| Zoubir Harrat                           |   10 |\n",
       "| Zumbado Manuel Angel                    |   37 |\n",
       "| Zwick, Andreas                          |    1 |\n",
       "\n"
      ],
      "text/plain": [
       "     Var1                                                                Freq\n",
       "1    . Onbekend                                                            9 \n",
       "2    0                                                                     1 \n",
       "3    0G 1984GR00402                                                        1 \n",
       "4    2016 Allendale Class                                                 41 \n",
       "5    2rd year UKZN students                                               12 \n",
       "6    989 m                                                                 1 \n",
       "7    A Barbet                                                              1 \n",
       "8    A Bok                                                                 1 \n",
       "9    A Eicker                                                              1 \n",
       "10   A Fotie                                                               4 \n",
       "11   A Fraser                                                             91 \n",
       "12   A Galal-Khallaf                                                      20 \n",
       "13   A H Kirk-Spriggs                                                      2 \n",
       "14   A Hausmann                                                            2 \n",
       "15   A Honiball                                                            5 \n",
       "16   A J Urban                                                             6 \n",
       "17   A Jakiel, A Stepien, P Jozwiak, B Serigstad, M Blazewicz-Paszkowycz   2 \n",
       "18   A Meunier                                                            41 \n",
       "19   A Oldewage                                                            3 \n",
       "20   A Rakotoarisolo                                                       1 \n",
       "21   A Viviers                                                             3 \n",
       "22   A Watsham                                                             7 \n",
       "23   A Whitfield                                                           9 \n",
       "24   A. A. Enti                                                            3 \n",
       "25   A. Afolabi                                                           15 \n",
       "26   A. Ahamadi                                                           10 \n",
       "27   A. Alvarez                                                            3 \n",
       "28   A. Apinda, T. Zidat                                                 155 \n",
       "29   A. Aulombard                                                          8 \n",
       "30   A. B. Williams                                                       42 \n",
       "⋮    ⋮                                                                   ⋮   \n",
       "6321 Z. Hora                                                                1\n",
       "6322 Z. Marzouk                                                            38\n",
       "6323 Z. Musilova, L. Kalous                                                 1\n",
       "6324 Z. Shoba & K. Waddington                                              16\n",
       "6325 Z. Shoba, K. Waddington                                              677\n",
       "6326 Z. shoba, K. Waddington & S. Singh                                    20\n",
       "6327 Z. Shoba, K. Waddington, S. Singh                                     99\n",
       "6328 Z. Shoba, M. Ziganira                                               2218\n",
       "6329 Z. Weidenhoffer (CZ)                                                   1\n",
       "6330 Z.T. Nagi                                                              3\n",
       "6331 Zach Kobrinsky                                                        11\n",
       "6332 Zacharie Sohou                                                         1\n",
       "6333 Zaloumis S.P.                                                          1\n",
       "6334 Zambatis G.                                                            7\n",
       "6335 Zambatis N.                                                           39\n",
       "6336 Zambatis N...                                                          1\n",
       "6337 Zambatis, N.                                                           1\n",
       "6338 Zantovska                                                              1\n",
       "6339 Zdenko Tokar                                                           2\n",
       "6340 Zeinab Soliman                                                         1\n",
       "6341 Zerny                                                                  2\n",
       "6342 Zietsman PC                                                            2\n",
       "6343 Zietsman, P.C.                                                         3\n",
       "6344 Zietzman, P.C. & Peyper, T.                                            1\n",
       "6345 ZMUC expedition                                                        2\n",
       "6346 Zool. Mus. Copenhagen Expedition                                       2\n",
       "6347 Zoologische Staatssammlung Muenchen (D)                                2\n",
       "6348 Zoubir Harrat                                                         10\n",
       "6349 Zumbado Manuel Angel                                                  37\n",
       "6350 Zwick, Andreas                                                         1"
      ]
     },
     "metadata": {},
     "output_type": "display_data"
    },
    {
     "data": {
      "text/html": [
       "7033"
      ],
      "text/latex": [
       "7033"
      ],
      "text/markdown": [
       "7033"
      ],
      "text/plain": [
       "[1] 7033"
      ]
     },
     "metadata": {},
     "output_type": "display_data"
    },
    {
     "data": {
      "text/html": [
       "<table>\n",
       "<caption>A data.frame: 1 × 2</caption>\n",
       "<thead>\n",
       "\t<tr><th scope=col>Var1</th><th scope=col>Freq</th></tr>\n",
       "\t<tr><th scope=col>&lt;fct&gt;</th><th scope=col>&lt;int&gt;</th></tr>\n",
       "</thead>\n",
       "<tbody>\n",
       "\t<tr><td>COI-5P</td><td>6795</td></tr>\n",
       "</tbody>\n",
       "</table>\n"
      ],
      "text/latex": [
       "A data.frame: 1 × 2\n",
       "\\begin{tabular}{r|ll}\n",
       " Var1 & Freq\\\\\n",
       " <fct> & <int>\\\\\n",
       "\\hline\n",
       "\t COI-5P & 6795\\\\\n",
       "\\end{tabular}\n"
      ],
      "text/markdown": [
       "\n",
       "A data.frame: 1 × 2\n",
       "\n",
       "| Var1 &lt;fct&gt; | Freq &lt;int&gt; |\n",
       "|---|---|\n",
       "| COI-5P | 6795 |\n",
       "\n"
      ],
      "text/plain": [
       "  Var1   Freq\n",
       "1 COI-5P 6795"
      ]
     },
     "metadata": {},
     "output_type": "display_data"
    },
    {
     "data": {
      "text/html": [
       "<table>\n",
       "<caption>A data.frame: 13 × 2</caption>\n",
       "<thead>\n",
       "\t<tr><th scope=col>Var1</th><th scope=col>Freq</th></tr>\n",
       "\t<tr><th scope=col>&lt;fct&gt;</th><th scope=col>&lt;int&gt;</th></tr>\n",
       "</thead>\n",
       "<tbody>\n",
       "\t<tr><td>Araneae         </td><td>   2</td></tr>\n",
       "\t<tr><td>Blattodea       </td><td>  39</td></tr>\n",
       "\t<tr><td>Coleoptera      </td><td>1034</td></tr>\n",
       "\t<tr><td>Diptera         </td><td>2154</td></tr>\n",
       "\t<tr><td>Hemiptera       </td><td> 524</td></tr>\n",
       "\t<tr><td>Hymenoptera     </td><td>1558</td></tr>\n",
       "\t<tr><td>Lepidoptera     </td><td>1612</td></tr>\n",
       "\t<tr><td>Mantodea        </td><td>   2</td></tr>\n",
       "\t<tr><td>Neuroptera      </td><td>  16</td></tr>\n",
       "\t<tr><td>Orthoptera      </td><td>  18</td></tr>\n",
       "\t<tr><td>Pseudoscorpiones</td><td>   2</td></tr>\n",
       "\t<tr><td>Psocodea        </td><td>  69</td></tr>\n",
       "\t<tr><td>Thysanoptera    </td><td>   3</td></tr>\n",
       "</tbody>\n",
       "</table>\n"
      ],
      "text/latex": [
       "A data.frame: 13 × 2\n",
       "\\begin{tabular}{r|ll}\n",
       " Var1 & Freq\\\\\n",
       " <fct> & <int>\\\\\n",
       "\\hline\n",
       "\t Araneae          &    2\\\\\n",
       "\t Blattodea        &   39\\\\\n",
       "\t Coleoptera       & 1034\\\\\n",
       "\t Diptera          & 2154\\\\\n",
       "\t Hemiptera        &  524\\\\\n",
       "\t Hymenoptera      & 1558\\\\\n",
       "\t Lepidoptera      & 1612\\\\\n",
       "\t Mantodea         &    2\\\\\n",
       "\t Neuroptera       &   16\\\\\n",
       "\t Orthoptera       &   18\\\\\n",
       "\t Pseudoscorpiones &    2\\\\\n",
       "\t Psocodea         &   69\\\\\n",
       "\t Thysanoptera     &    3\\\\\n",
       "\\end{tabular}\n"
      ],
      "text/markdown": [
       "\n",
       "A data.frame: 13 × 2\n",
       "\n",
       "| Var1 &lt;fct&gt; | Freq &lt;int&gt; |\n",
       "|---|---|\n",
       "| Araneae          |    2 |\n",
       "| Blattodea        |   39 |\n",
       "| Coleoptera       | 1034 |\n",
       "| Diptera          | 2154 |\n",
       "| Hemiptera        |  524 |\n",
       "| Hymenoptera      | 1558 |\n",
       "| Lepidoptera      | 1612 |\n",
       "| Mantodea         |    2 |\n",
       "| Neuroptera       |   16 |\n",
       "| Orthoptera       |   18 |\n",
       "| Pseudoscorpiones |    2 |\n",
       "| Psocodea         |   69 |\n",
       "| Thysanoptera     |    3 |\n",
       "\n"
      ],
      "text/plain": [
       "   Var1             Freq\n",
       "1  Araneae             2\n",
       "2  Blattodea          39\n",
       "3  Coleoptera       1034\n",
       "4  Diptera          2154\n",
       "5  Hemiptera         524\n",
       "6  Hymenoptera      1558\n",
       "7  Lepidoptera      1612\n",
       "8  Mantodea            2\n",
       "9  Neuroptera         16\n",
       "10 Orthoptera         18\n",
       "11 Pseudoscorpiones    2\n",
       "12 Psocodea           69\n",
       "13 Thysanoptera        3"
      ]
     },
     "metadata": {},
     "output_type": "display_data"
    },
    {
     "data": {
      "text/html": [
       "718"
      ],
      "text/latex": [
       "718"
      ],
      "text/markdown": [
       "718"
      ],
      "text/plain": [
       "[1] 718"
      ]
     },
     "metadata": {},
     "output_type": "display_data"
    },
    {
     "data": {
      "text/html": [
       "<table>\n",
       "<caption>A data.frame: 3 × 2</caption>\n",
       "<thead>\n",
       "\t<tr><th scope=col>Var1</th><th scope=col>Freq</th></tr>\n",
       "\t<tr><th scope=col>&lt;fct&gt;</th><th scope=col>&lt;int&gt;</th></tr>\n",
       "</thead>\n",
       "<tbody>\n",
       "\t<tr><td>Diptera    </td><td> 21</td></tr>\n",
       "\t<tr><td>Hymenoptera</td><td> 27</td></tr>\n",
       "\t<tr><td>Lepidoptera</td><td>670</td></tr>\n",
       "</tbody>\n",
       "</table>\n"
      ],
      "text/latex": [
       "A data.frame: 3 × 2\n",
       "\\begin{tabular}{r|ll}\n",
       " Var1 & Freq\\\\\n",
       " <fct> & <int>\\\\\n",
       "\\hline\n",
       "\t Diptera     &  21\\\\\n",
       "\t Hymenoptera &  27\\\\\n",
       "\t Lepidoptera & 670\\\\\n",
       "\\end{tabular}\n"
      ],
      "text/markdown": [
       "\n",
       "A data.frame: 3 × 2\n",
       "\n",
       "| Var1 &lt;fct&gt; | Freq &lt;int&gt; |\n",
       "|---|---|\n",
       "| Diptera     |  21 |\n",
       "| Hymenoptera |  27 |\n",
       "| Lepidoptera | 670 |\n",
       "\n"
      ],
      "text/plain": [
       "  Var1        Freq\n",
       "1 Diptera      21 \n",
       "2 Hymenoptera  27 \n",
       "3 Lepidoptera 670 "
      ]
     },
     "metadata": {},
     "output_type": "display_data"
    }
   ],
   "source": [
    "#cat(unique((bold_data$collectors[grep(\"Copeland\", bold_data$collectors)])),sep=\" | \")\n",
    "#as.data.frame(table(c(bold_data$collectors[grep(\"Copeland\", bold_data$collectors)])))\n",
    "#as.data.frame(table(c(bold_data$collectors)))\n",
    "#cop_data <- bold_data[!!(bold_data$collectors %in% c(paste(unique(bold_data$collectors[grep(\"Copeland\", bold_data$collectors)]),sep=\"\\\" , \\\"\"))), ]\n",
    "#cop_data <- subset(bold_data, subset = collectors %in% c(paste(unique(bold_data$collectors[grep(\"Copeland\", bold_data$collectors)]),sep=\"\\\" , \\\"\")))\n",
    "#c(cat(unique(bold_data$collectors[grep(\"Copeland\", bold_data$collectors)]),sep=\"\\\" , \\\"\"))\n",
    "#str(cop_data)\n",
    "nrow(cop_data)\n",
    "as.data.frame(table(c(cop_data$marker_codes)))\n",
    "as.data.frame(table(c(cop_data$order_name)))\n",
    "#as.data.frame(table(c(cop_data$lat)))\n",
    "nrow(subset(cop_data, !is.na(lat) & marker_codes == \"COI-5P\" & !is.na(genus_name)))\n",
    "as.data.frame(table(c((subset(cop_data, !is.na(lat) & marker_codes == \"COI-5P\" & !is.na(genus_name)))$order_name)))"
   ]
  },
  {
   "cell_type": "code",
   "execution_count": 8,
   "metadata": {},
   "outputs": [
    {
     "ename": "ERROR",
     "evalue": "Error in unique(sample_data$markercode): object 'sample_data' not found\n",
     "output_type": "error",
     "traceback": [
      "Error in unique(sample_data$markercode): object 'sample_data' not found\nTraceback:\n",
      "1. cat(length(unique(sample_data$markercode)), \"markers are represented in the East African data set\")",
      "2. unique(sample_data$markercode)"
     ]
    }
   ],
   "source": [
    "cat(length(unique(sample_data$markercode)),\n",
    "    \"markers are represented in the East African data set\")\n",
    "#unique(sample_data$markercode) # filtering rows corresponding to COI-5P markers\n",
    "as.data.frame(table(c(sample_data$markercode)))"
   ]
  },
  {
   "cell_type": "markdown",
   "metadata": {},
   "source": [
    "### **Phyla represented in the bold data**\n",
    "Despite our focus on arthropoda phylum, additional records from 38 phyla were downloaded"
   ]
  },
  {
   "cell_type": "code",
   "execution_count": 9,
   "metadata": {},
   "outputs": [
    {
     "name": "stdout",
     "output_type": "stream",
     "text": [
      "1 phyla are represented in bold_data: "
     ]
    },
    {
     "data": {
      "text/html": [
       "<table>\n",
       "<caption>A data.frame: 1 × 2</caption>\n",
       "<thead>\n",
       "\t<tr><th scope=col>Var1</th><th scope=col>Freq</th></tr>\n",
       "\t<tr><th scope=col>&lt;fct&gt;</th><th scope=col>&lt;int&gt;</th></tr>\n",
       "</thead>\n",
       "<tbody>\n",
       "\t<tr><td>Arthropoda</td><td>81302</td></tr>\n",
       "</tbody>\n",
       "</table>\n"
      ],
      "text/latex": [
       "A data.frame: 1 × 2\n",
       "\\begin{tabular}{ll}\n",
       " Var1 & Freq\\\\\n",
       " <fct> & <int>\\\\\n",
       "\\hline\n",
       "\t Arthropoda & 81302\\\\\n",
       "\\end{tabular}\n"
      ],
      "text/markdown": [
       "\n",
       "A data.frame: 1 × 2\n",
       "\n",
       "| Var1 &lt;fct&gt; | Freq &lt;int&gt; |\n",
       "|---|---|\n",
       "| Arthropoda | 81302 |\n",
       "\n"
      ],
      "text/plain": [
       "  Var1       Freq \n",
       "1 Arthropoda 81302"
      ]
     },
     "metadata": {},
     "output_type": "display_data"
    },
    {
     "ename": "ERROR",
     "evalue": "Error in unique(sample_data$phylum_name): object 'sample_data' not found\n",
     "output_type": "error",
     "traceback": [
      "Error in unique(sample_data$phylum_name): object 'sample_data' not found\nTraceback:\n",
      "1. cat(length(unique(sample_data$phylum_name)), \"phyla are represented in East African data: \")",
      "2. unique(sample_data$phylum_name)"
     ]
    }
   ],
   "source": [
    "cat(length(unique(bold_data$phylum_name)), \"phyla are represented in bold_data: \")\n",
    "as.data.frame(table(c(bold_data$phylum_name)))\n",
    "cat(length(unique(sample_data$phylum_name)), \"phyla are represented in East African data: \")\n",
    "as.data.frame(table(c(sample_data$phylum_name)))"
   ]
  },
  {
   "cell_type": "markdown",
   "metadata": {},
   "source": [
    "### **Focusing on arthropoda phylum**\n",
    "**1. Number of records from African Countries**"
   ]
  },
  {
   "cell_type": "code",
   "execution_count": 10,
   "metadata": {},
   "outputs": [
    {
     "name": "stdout",
     "output_type": "stream",
     "text": [
      "bold_data have 81302 arthropoda records out of 81302 records in the raw bold_data\n",
      "bold_data have 81302 arthropoda records out of 81302 records in the raw bold data"
     ]
    },
    {
     "ename": "ERROR",
     "evalue": "Error in subset(sample_data, phylum_name == \"Arthropoda\"): object 'sample_data' not found\n",
     "output_type": "error",
     "traceback": [
      "Error in subset(sample_data, phylum_name == \"Arthropoda\"): object 'sample_data' not found\nTraceback:\n",
      "1. subset(sample_data, phylum_name == \"Arthropoda\")"
     ]
    }
   ],
   "source": [
    "arthropoda_data1 = subset(bold_data, phylum_name == \"Arthropoda\")\n",
    "cat(\"bold_data have\", nrow(arthropoda_data1), \"arthropoda records out of\", \n",
    "    nrow(bold_data), \"records in the raw bold_data\")\n",
    "arthropoda_data = subset(bold_data, phylum_name == \"Arthropoda\" )#& country != \"United States\")\n",
    "cat(\"\\nbold_data have\", nrow(arthropoda_data), \"arthropoda records out of\", \n",
    "    nrow(bold_data), \"records in the raw bold data\")\n",
    "arthropoda_data -> bold_dataframe\n",
    "sample_dataframe = subset(sample_data, phylum_name == \"Arthropoda\")"
   ]
  },
  {
   "cell_type": "markdown",
   "metadata": {},
   "source": [
    "**2. Here are the African countries represented in the athropod data**"
   ]
  },
  {
   "cell_type": "code",
   "execution_count": 11,
   "metadata": {},
   "outputs": [
    {
     "name": "stdout",
     "output_type": "stream",
     "text": [
      "52 countries are represented in bold_dataframe: "
     ]
    },
    {
     "data": {
      "text/html": [
       "<table>\n",
       "<caption>A data.frame: 52 × 2</caption>\n",
       "<thead>\n",
       "\t<tr><th scope=col>Var1</th><th scope=col>Freq</th></tr>\n",
       "\t<tr><th scope=col>&lt;fct&gt;</th><th scope=col>&lt;int&gt;</th></tr>\n",
       "</thead>\n",
       "<tbody>\n",
       "\t<tr><td>Algeria                         </td><td>  245</td></tr>\n",
       "\t<tr><td>Angola                          </td><td>    9</td></tr>\n",
       "\t<tr><td>Benin                           </td><td>  232</td></tr>\n",
       "\t<tr><td>Botswana                        </td><td>   37</td></tr>\n",
       "\t<tr><td>Burkina Faso                    </td><td>  316</td></tr>\n",
       "\t<tr><td>Burundi                         </td><td>  105</td></tr>\n",
       "\t<tr><td>Cameroon                        </td><td>  230</td></tr>\n",
       "\t<tr><td>Cape Verde                      </td><td>   20</td></tr>\n",
       "\t<tr><td>Central African Republic        </td><td>   48</td></tr>\n",
       "\t<tr><td>Comoros                         </td><td>   18</td></tr>\n",
       "\t<tr><td>Costa Rica                      </td><td>  228</td></tr>\n",
       "\t<tr><td>Cote d'Ivoire                   </td><td>  139</td></tr>\n",
       "\t<tr><td>Democratic Republic of the Congo</td><td>  267</td></tr>\n",
       "\t<tr><td>Djibouti                        </td><td>    3</td></tr>\n",
       "\t<tr><td>Egypt                           </td><td> 8139</td></tr>\n",
       "\t<tr><td>Equatorial Guinea               </td><td>   15</td></tr>\n",
       "\t<tr><td>Ethiopia                        </td><td>  143</td></tr>\n",
       "\t<tr><td>Gabon                           </td><td>15225</td></tr>\n",
       "\t<tr><td>Gambia                          </td><td>   17</td></tr>\n",
       "\t<tr><td>Ghana                           </td><td>  207</td></tr>\n",
       "\t<tr><td>Guinea                          </td><td>   74</td></tr>\n",
       "\t<tr><td>Guinea-Bissau                   </td><td>   30</td></tr>\n",
       "\t<tr><td>Kenya                           </td><td>15549</td></tr>\n",
       "\t<tr><td>Lesotho                         </td><td>    8</td></tr>\n",
       "\t<tr><td>Liberia                         </td><td>   88</td></tr>\n",
       "\t<tr><td>Libya                           </td><td>    1</td></tr>\n",
       "\t<tr><td>Madagascar                      </td><td>15747</td></tr>\n",
       "\t<tr><td>Malawi                          </td><td>   92</td></tr>\n",
       "\t<tr><td>Mali                            </td><td>  315</td></tr>\n",
       "\t<tr><td>Mauritania                      </td><td>    1</td></tr>\n",
       "\t<tr><td>Mauritius                       </td><td>   42</td></tr>\n",
       "\t<tr><td>Morocco                         </td><td>  388</td></tr>\n",
       "\t<tr><td>Mozambique                      </td><td>  220</td></tr>\n",
       "\t<tr><td>Namibia                         </td><td>  121</td></tr>\n",
       "\t<tr><td>Niger                           </td><td>    2</td></tr>\n",
       "\t<tr><td>Nigeria                         </td><td>  246</td></tr>\n",
       "\t<tr><td>Republic of the Congo           </td><td>   13</td></tr>\n",
       "\t<tr><td>Reunion                         </td><td>  180</td></tr>\n",
       "\t<tr><td>Rwanda                          </td><td>    9</td></tr>\n",
       "\t<tr><td>Sao Tome and Principe           </td><td>   50</td></tr>\n",
       "\t<tr><td>Senegal                         </td><td> 1336</td></tr>\n",
       "\t<tr><td>Seychelles                      </td><td>   11</td></tr>\n",
       "\t<tr><td>Sierra Leone                    </td><td>    2</td></tr>\n",
       "\t<tr><td>South Africa                    </td><td>19299</td></tr>\n",
       "\t<tr><td>Sudan                           </td><td>   32</td></tr>\n",
       "\t<tr><td>Swaziland                       </td><td>    7</td></tr>\n",
       "\t<tr><td>Tanzania                        </td><td>  398</td></tr>\n",
       "\t<tr><td>Togo                            </td><td>   82</td></tr>\n",
       "\t<tr><td>Tunisia                         </td><td>  191</td></tr>\n",
       "\t<tr><td>Uganda                          </td><td>  899</td></tr>\n",
       "\t<tr><td>Zambia                          </td><td>  169</td></tr>\n",
       "\t<tr><td>Zimbabwe                        </td><td>   57</td></tr>\n",
       "</tbody>\n",
       "</table>\n"
      ],
      "text/latex": [
       "A data.frame: 52 × 2\n",
       "\\begin{tabular}{ll}\n",
       " Var1 & Freq\\\\\n",
       " <fct> & <int>\\\\\n",
       "\\hline\n",
       "\t Algeria                          &   245\\\\\n",
       "\t Angola                           &     9\\\\\n",
       "\t Benin                            &   232\\\\\n",
       "\t Botswana                         &    37\\\\\n",
       "\t Burkina Faso                     &   316\\\\\n",
       "\t Burundi                          &   105\\\\\n",
       "\t Cameroon                         &   230\\\\\n",
       "\t Cape Verde                       &    20\\\\\n",
       "\t Central African Republic         &    48\\\\\n",
       "\t Comoros                          &    18\\\\\n",
       "\t Costa Rica                       &   228\\\\\n",
       "\t Cote d'Ivoire                    &   139\\\\\n",
       "\t Democratic Republic of the Congo &   267\\\\\n",
       "\t Djibouti                         &     3\\\\\n",
       "\t Egypt                            &  8139\\\\\n",
       "\t Equatorial Guinea                &    15\\\\\n",
       "\t Ethiopia                         &   143\\\\\n",
       "\t Gabon                            & 15225\\\\\n",
       "\t Gambia                           &    17\\\\\n",
       "\t Ghana                            &   207\\\\\n",
       "\t Guinea                           &    74\\\\\n",
       "\t Guinea-Bissau                    &    30\\\\\n",
       "\t Kenya                            & 15549\\\\\n",
       "\t Lesotho                          &     8\\\\\n",
       "\t Liberia                          &    88\\\\\n",
       "\t Libya                            &     1\\\\\n",
       "\t Madagascar                       & 15747\\\\\n",
       "\t Malawi                           &    92\\\\\n",
       "\t Mali                             &   315\\\\\n",
       "\t Mauritania                       &     1\\\\\n",
       "\t Mauritius                        &    42\\\\\n",
       "\t Morocco                          &   388\\\\\n",
       "\t Mozambique                       &   220\\\\\n",
       "\t Namibia                          &   121\\\\\n",
       "\t Niger                            &     2\\\\\n",
       "\t Nigeria                          &   246\\\\\n",
       "\t Republic of the Congo            &    13\\\\\n",
       "\t Reunion                          &   180\\\\\n",
       "\t Rwanda                           &     9\\\\\n",
       "\t Sao Tome and Principe            &    50\\\\\n",
       "\t Senegal                          &  1336\\\\\n",
       "\t Seychelles                       &    11\\\\\n",
       "\t Sierra Leone                     &     2\\\\\n",
       "\t South Africa                     & 19299\\\\\n",
       "\t Sudan                            &    32\\\\\n",
       "\t Swaziland                        &     7\\\\\n",
       "\t Tanzania                         &   398\\\\\n",
       "\t Togo                             &    82\\\\\n",
       "\t Tunisia                          &   191\\\\\n",
       "\t Uganda                           &   899\\\\\n",
       "\t Zambia                           &   169\\\\\n",
       "\t Zimbabwe                         &    57\\\\\n",
       "\\end{tabular}\n"
      ],
      "text/markdown": [
       "\n",
       "A data.frame: 52 × 2\n",
       "\n",
       "| Var1 &lt;fct&gt; | Freq &lt;int&gt; |\n",
       "|---|---|\n",
       "| Algeria                          |   245 |\n",
       "| Angola                           |     9 |\n",
       "| Benin                            |   232 |\n",
       "| Botswana                         |    37 |\n",
       "| Burkina Faso                     |   316 |\n",
       "| Burundi                          |   105 |\n",
       "| Cameroon                         |   230 |\n",
       "| Cape Verde                       |    20 |\n",
       "| Central African Republic         |    48 |\n",
       "| Comoros                          |    18 |\n",
       "| Costa Rica                       |   228 |\n",
       "| Cote d'Ivoire                    |   139 |\n",
       "| Democratic Republic of the Congo |   267 |\n",
       "| Djibouti                         |     3 |\n",
       "| Egypt                            |  8139 |\n",
       "| Equatorial Guinea                |    15 |\n",
       "| Ethiopia                         |   143 |\n",
       "| Gabon                            | 15225 |\n",
       "| Gambia                           |    17 |\n",
       "| Ghana                            |   207 |\n",
       "| Guinea                           |    74 |\n",
       "| Guinea-Bissau                    |    30 |\n",
       "| Kenya                            | 15549 |\n",
       "| Lesotho                          |     8 |\n",
       "| Liberia                          |    88 |\n",
       "| Libya                            |     1 |\n",
       "| Madagascar                       | 15747 |\n",
       "| Malawi                           |    92 |\n",
       "| Mali                             |   315 |\n",
       "| Mauritania                       |     1 |\n",
       "| Mauritius                        |    42 |\n",
       "| Morocco                          |   388 |\n",
       "| Mozambique                       |   220 |\n",
       "| Namibia                          |   121 |\n",
       "| Niger                            |     2 |\n",
       "| Nigeria                          |   246 |\n",
       "| Republic of the Congo            |    13 |\n",
       "| Reunion                          |   180 |\n",
       "| Rwanda                           |     9 |\n",
       "| Sao Tome and Principe            |    50 |\n",
       "| Senegal                          |  1336 |\n",
       "| Seychelles                       |    11 |\n",
       "| Sierra Leone                     |     2 |\n",
       "| South Africa                     | 19299 |\n",
       "| Sudan                            |    32 |\n",
       "| Swaziland                        |     7 |\n",
       "| Tanzania                         |   398 |\n",
       "| Togo                             |    82 |\n",
       "| Tunisia                          |   191 |\n",
       "| Uganda                           |   899 |\n",
       "| Zambia                           |   169 |\n",
       "| Zimbabwe                         |    57 |\n",
       "\n"
      ],
      "text/plain": [
       "   Var1                             Freq \n",
       "1  Algeria                            245\n",
       "2  Angola                               9\n",
       "3  Benin                              232\n",
       "4  Botswana                            37\n",
       "5  Burkina Faso                       316\n",
       "6  Burundi                            105\n",
       "7  Cameroon                           230\n",
       "8  Cape Verde                          20\n",
       "9  Central African Republic            48\n",
       "10 Comoros                             18\n",
       "11 Costa Rica                         228\n",
       "12 Cote d'Ivoire                      139\n",
       "13 Democratic Republic of the Congo   267\n",
       "14 Djibouti                             3\n",
       "15 Egypt                             8139\n",
       "16 Equatorial Guinea                   15\n",
       "17 Ethiopia                           143\n",
       "18 Gabon                            15225\n",
       "19 Gambia                              17\n",
       "20 Ghana                              207\n",
       "21 Guinea                              74\n",
       "22 Guinea-Bissau                       30\n",
       "23 Kenya                            15549\n",
       "24 Lesotho                              8\n",
       "25 Liberia                             88\n",
       "26 Libya                                1\n",
       "27 Madagascar                       15747\n",
       "28 Malawi                              92\n",
       "29 Mali                               315\n",
       "30 Mauritania                           1\n",
       "31 Mauritius                           42\n",
       "32 Morocco                            388\n",
       "33 Mozambique                         220\n",
       "34 Namibia                            121\n",
       "35 Niger                                2\n",
       "36 Nigeria                            246\n",
       "37 Republic of the Congo               13\n",
       "38 Reunion                            180\n",
       "39 Rwanda                               9\n",
       "40 Sao Tome and Principe               50\n",
       "41 Senegal                           1336\n",
       "42 Seychelles                          11\n",
       "43 Sierra Leone                         2\n",
       "44 South Africa                     19299\n",
       "45 Sudan                               32\n",
       "46 Swaziland                            7\n",
       "47 Tanzania                           398\n",
       "48 Togo                                82\n",
       "49 Tunisia                            191\n",
       "50 Uganda                             899\n",
       "51 Zambia                             169\n",
       "52 Zimbabwe                            57"
      ]
     },
     "metadata": {},
     "output_type": "display_data"
    }
   ],
   "source": [
    "cat(length(unique(bold_dataframe$country)), \"countries are represented in bold_dataframe: \")\n",
    "#cat(c(unique(bold_dataframe$country)), sep=\";\")\n",
    "as.data.frame(table(c(bold_dataframe$country)))"
   ]
  },
  {
   "cell_type": "markdown",
   "metadata": {},
   "source": [
    "### **What looks interesting?**\n",
    "#### **1.Taxonomy**\n",
    "**Taking a deeper look at the taxa variables: phylum,class,order and family**"
   ]
  },
  {
   "cell_type": "code",
   "execution_count": 12,
   "metadata": {},
   "outputs": [
    {
     "data": {
      "text/html": [
       "'Arthropoda'"
      ],
      "text/latex": [
       "'Arthropoda'"
      ],
      "text/markdown": [
       "'Arthropoda'"
      ],
      "text/plain": [
       "[1] \"Arthropoda\""
      ]
     },
     "metadata": {},
     "output_type": "display_data"
    }
   ],
   "source": [
    "unique(bold_dataframe$phylum_name)"
   ]
  },
  {
   "cell_type": "markdown",
   "metadata": {},
   "source": [
    "### **classes represented in the bold_dataframe**"
   ]
  },
  {
   "cell_type": "code",
   "execution_count": 13,
   "metadata": {},
   "outputs": [
    {
     "name": "stdout",
     "output_type": "stream",
     "text": [
      "African arthropod data is distrubed in taxa classes as follows:"
     ]
    },
    {
     "data": {
      "text/html": [
       "<table>\n",
       "<caption>A data.frame: 1 × 2</caption>\n",
       "<thead>\n",
       "\t<tr><th scope=col>Var1</th><th scope=col>Freq</th></tr>\n",
       "\t<tr><th scope=col>&lt;fct&gt;</th><th scope=col>&lt;int&gt;</th></tr>\n",
       "</thead>\n",
       "<tbody>\n",
       "\t<tr><td>Insecta</td><td>81302</td></tr>\n",
       "</tbody>\n",
       "</table>\n"
      ],
      "text/latex": [
       "A data.frame: 1 × 2\n",
       "\\begin{tabular}{ll}\n",
       " Var1 & Freq\\\\\n",
       " <fct> & <int>\\\\\n",
       "\\hline\n",
       "\t Insecta & 81302\\\\\n",
       "\\end{tabular}\n"
      ],
      "text/markdown": [
       "\n",
       "A data.frame: 1 × 2\n",
       "\n",
       "| Var1 &lt;fct&gt; | Freq &lt;int&gt; |\n",
       "|---|---|\n",
       "| Insecta | 81302 |\n",
       "\n"
      ],
      "text/plain": [
       "  Var1    Freq \n",
       "1 Insecta 81302"
      ]
     },
     "metadata": {},
     "output_type": "display_data"
    },
    {
     "name": "stdout",
     "output_type": "stream",
     "text": [
      "East African arthropod data is distrubed in taxa classes as follows:"
     ]
    },
    {
     "ename": "ERROR",
     "evalue": "Error in table(c(sample_dataframe$class_name)): object 'sample_dataframe' not found\n",
     "output_type": "error",
     "traceback": [
      "Error in table(c(sample_dataframe$class_name)): object 'sample_dataframe' not found\nTraceback:\n",
      "1. as.data.frame(table(c(sample_dataframe$class_name)))",
      "2. table(c(sample_dataframe$class_name))"
     ]
    }
   ],
   "source": [
    "cat(\"African arthropod data is distrubed in taxa classes as follows:\")\n",
    "as.data.frame(table(c(bold_dataframe$class_name)))\n",
    "cat(\"East African arthropod data is distrubed in taxa classes as follows:\")\n",
    "as.data.frame(table(c(sample_dataframe$class_name)))"
   ]
  },
  {
   "cell_type": "markdown",
   "metadata": {},
   "source": [
    "#### **orders represented**"
   ]
  },
  {
   "cell_type": "code",
   "execution_count": 14,
   "metadata": {},
   "outputs": [
    {
     "name": "stdout",
     "output_type": "stream",
     "text": [
      "1 orders are indicated in African arthropod data: Diptera;\n",
      "\n"
     ]
    },
    {
     "ename": "ERROR",
     "evalue": "Error in unique(sample_dataframe$order_name): object 'sample_dataframe' not found\n",
     "output_type": "error",
     "traceback": [
      "Error in unique(sample_dataframe$order_name): object 'sample_dataframe' not found\nTraceback:\n",
      "1. cat(length(unique(sample_dataframe$order_name)), \"orders are indicated in East African arthropod data: \")",
      "2. unique(sample_dataframe$order_name)"
     ]
    }
   ],
   "source": [
    "cat(length(unique(bold_dataframe$order_name)), \n",
    "    \"orders are indicated in African arthropod data: \")\n",
    "cat(unique(bold_dataframe$order_name),sep=\";\",\"\\n\\n\")\n",
    "cat(length(unique(sample_dataframe$order_name)), \n",
    "    \"orders are indicated in East African arthropod data: \")\n",
    "cat(unique(sample_dataframe$order_name),sep=\";\")"
   ]
  },
  {
   "cell_type": "markdown",
   "metadata": {},
   "source": [
    "#### **Families represented**"
   ]
  },
  {
   "cell_type": "code",
   "execution_count": 15,
   "metadata": {},
   "outputs": [
    {
     "name": "stdout",
     "output_type": "stream",
     "text": [
      "87 families are indicated in the African Data: Syrphidae;Ceratopogonidae;Piophilidae;Polleniidae;Psychodidae;Culicidae;Tephritidae;Conopidae;Muscidae;NA;Calliphoridae;Drosophilidae;Simuliidae;Stratiomyidae;Mydidae;Asilidae;Anthomyiidae;Glossinidae;Sarcophagidae;Mycetophilidae;Phoridae;Diopsidae;Tabanidae;Hippoboscidae;Hybotidae;Platystomatidae;Micropezidae;Sphaeroceridae;Chironomidae;Cecidomyiidae;Sciaridae;Chloropidae;Agromyzidae;Tachinidae;Sepsidae;Milichiidae;Ephydridae;Dolichopodidae;Scatopsidae;Chyromyidae;Bombyliidae;Asteiidae;Chamaemyiidae;Carnidae;Therevidae;Pipunculidae;Scenopinidae;Heleomyzidae;Limoniidae;Ulidiidae;Fanniidae;Canacidae;Oestridae;Empididae;Rhiniidae;Rhinophoridae;Lonchaeidae;Scathophagidae;Odiniidae;Keroplatidae;Cryptochetidae;Curtonotidae;Lauxaniidae;Periscelididae;Corethrellidae;Pyrgotidae;Platypezidae;Chaoboridae;Vermileonidae;Nemestrinidae;Mesembrinellidae;Neriidae;Bibionidae;Tipulidae;Marginidae;Clusiidae;Psilidae;Lygistorrhinidae;Mythicomyiidae;Thaumaleidae;Anisopodidae;Acroceridae;Blephariceridae;Dixidae;Sciomyzidae;Celyphidae;Athericidae;\n",
      "\n"
     ]
    },
    {
     "ename": "ERROR",
     "evalue": "Error in unique(sample_dataframe$family_name): object 'sample_dataframe' not found\n",
     "output_type": "error",
     "traceback": [
      "Error in unique(sample_dataframe$family_name): object 'sample_dataframe' not found\nTraceback:\n",
      "1. cat(length(unique(sample_dataframe$family_name)), \"families are indicated in the East African Data: \")",
      "2. unique(sample_dataframe$family_name)"
     ]
    }
   ],
   "source": [
    "cat(length(unique(bold_dataframe$family_name)), \n",
    "    \"families are indicated in the African Data: \")\n",
    "cat(unique(bold_dataframe$family_name),sep=\";\",\"\\n\\n\")\n",
    "cat(length(unique(sample_dataframe$family_name)), \n",
    "    \"families are indicated in the East African Data: \")\n",
    "cat(unique(sample_dataframe$family_name),sep=\";\")"
   ]
  },
  {
   "cell_type": "markdown",
   "metadata": {},
   "source": [
    "### **genera and species names featured**"
   ]
  },
  {
   "cell_type": "code",
   "execution_count": 16,
   "metadata": {},
   "outputs": [
    {
     "name": "stdout",
     "output_type": "stream",
     "text": [
      "476 genus_names and  1283 species_names are featured in the African arthropod data set\n",
      "\n"
     ]
    },
    {
     "ename": "ERROR",
     "evalue": "Error in unique(sample_dataframe$genus_name): object 'sample_dataframe' not found\n",
     "output_type": "error",
     "traceback": [
      "Error in unique(sample_dataframe$genus_name): object 'sample_dataframe' not found\nTraceback:\n",
      "1. cat(length(unique(sample_dataframe$genus_name)), \"genus_names\")",
      "2. unique(sample_dataframe$genus_name)"
     ]
    }
   ],
   "source": [
    "#genera\n",
    "cat(length(unique(bold_dataframe$genus_name)), \"genus_names\")\n",
    "#species\n",
    "cat(\" and \", length(unique(bold_dataframe$species_name)), \n",
    "    \"species_names are featured in the African arthropod data set\\n\\n\")\n",
    "#genera\n",
    "cat(length(unique(sample_dataframe$genus_name)), \"genus_names\")\n",
    "#species\n",
    "cat(\" and \", length(unique(sample_dataframe$species_name)), \n",
    "    \"species_names are featured in the East African arthropod data set\")"
   ]
  },
  {
   "cell_type": "markdown",
   "metadata": {},
   "source": [
    "### **Identify the container projects from which the data sets come from. Try using the copyright\\***"
   ]
  },
  {
   "cell_type": "code",
   "execution_count": 17,
   "metadata": {},
   "outputs": [
    {
     "name": "stdout",
     "output_type": "stream",
     "text": [
      "21 copyright institutions are featured in the African arthropod data set\n"
     ]
    },
    {
     "ename": "ERROR",
     "evalue": "Error in unique(sample_dataframe$copyright_institution): object 'sample_dataframe' not found\n",
     "output_type": "error",
     "traceback": [
      "Error in unique(sample_dataframe$copyright_institution): object 'sample_dataframe' not found\nTraceback:\n",
      "1. cat(length(unique(sample_dataframe$copyright_institution)), \"copyright institutions are featured in the East African arthropod data set \")",
      "2. unique(sample_dataframe$copyright_institution)"
     ]
    }
   ],
   "source": [
    "cat(length(unique(bold_dataframe$copyright_institution)),\n",
    "    \"copyright institutions are featured in the African arthropod data set\\n\")\n",
    "#output a list with so many missing values, **NOT IDEAL** for use.\n",
    "cat(length(unique(sample_dataframe$copyright_institution)),\n",
    "    \"copyright institutions are featured in the East African arthropod data set \")"
   ]
  },
  {
   "cell_type": "code",
   "execution_count": 18,
   "metadata": {},
   "outputs": [
    {
     "name": "stdout",
     "output_type": "stream",
     "text": [
      "25 copyright holders are featured in the African arthropod data set\n"
     ]
    },
    {
     "ename": "ERROR",
     "evalue": "Error in unique(sample_dataframe$copyright_holders): object 'sample_dataframe' not found\n",
     "output_type": "error",
     "traceback": [
      "Error in unique(sample_dataframe$copyright_holders): object 'sample_dataframe' not found\nTraceback:\n",
      "1. cat(length(unique(sample_dataframe$copyright_holders)), \"copyright holders are featured in the East African arthropod data set\")",
      "2. unique(sample_dataframe$copyright_holders)"
     ]
    }
   ],
   "source": [
    "cat(length(unique(bold_dataframe$copyright_holders)),\n",
    "    \"copyright holders are featured in the African arthropod data set\\n\")\n",
    "#output with so many missing values \"NA\"\n",
    "cat(length(unique(sample_dataframe$copyright_holders)),\n",
    "    \"copyright holders are featured in the East African arthropod data set\")"
   ]
  },
  {
   "cell_type": "markdown",
   "metadata": {},
   "source": [
    "### **Taking a look at the markercode field.**"
   ]
  },
  {
   "cell_type": "code",
   "execution_count": 19,
   "metadata": {},
   "outputs": [
    {
     "name": "stdout",
     "output_type": "stream",
     "text": [
      "16 markers are represented in the African data set"
     ]
    },
    {
     "data": {
      "text/html": [
       "<table>\n",
       "<caption>A data.frame: 15 × 2</caption>\n",
       "<thead>\n",
       "\t<tr><th scope=col>Var1</th><th scope=col>Freq</th></tr>\n",
       "\t<tr><th scope=col>&lt;fct&gt;</th><th scope=col>&lt;int&gt;</th></tr>\n",
       "</thead>\n",
       "<tbody>\n",
       "\t<tr><td>12S       </td><td>    3</td></tr>\n",
       "\t<tr><td>16S       </td><td>    3</td></tr>\n",
       "\t<tr><td>18S       </td><td>    2</td></tr>\n",
       "\t<tr><td>28S       </td><td>    3</td></tr>\n",
       "\t<tr><td>AATS      </td><td>    3</td></tr>\n",
       "\t<tr><td>CAD       </td><td>    5</td></tr>\n",
       "\t<tr><td>CAD4      </td><td>    1</td></tr>\n",
       "\t<tr><td>COI-3P    </td><td>  892</td></tr>\n",
       "\t<tr><td>COI-5P    </td><td>77892</td></tr>\n",
       "\t<tr><td>COI-PSEUDO</td><td>   21</td></tr>\n",
       "\t<tr><td>COII      </td><td>    7</td></tr>\n",
       "\t<tr><td>EF1-alpha </td><td>    4</td></tr>\n",
       "\t<tr><td>ITS2      </td><td>   22</td></tr>\n",
       "\t<tr><td>PGD       </td><td>    2</td></tr>\n",
       "\t<tr><td>TPI       </td><td>    3</td></tr>\n",
       "</tbody>\n",
       "</table>\n"
      ],
      "text/latex": [
       "A data.frame: 15 × 2\n",
       "\\begin{tabular}{ll}\n",
       " Var1 & Freq\\\\\n",
       " <fct> & <int>\\\\\n",
       "\\hline\n",
       "\t 12S        &     3\\\\\n",
       "\t 16S        &     3\\\\\n",
       "\t 18S        &     2\\\\\n",
       "\t 28S        &     3\\\\\n",
       "\t AATS       &     3\\\\\n",
       "\t CAD        &     5\\\\\n",
       "\t CAD4       &     1\\\\\n",
       "\t COI-3P     &   892\\\\\n",
       "\t COI-5P     & 77892\\\\\n",
       "\t COI-PSEUDO &    21\\\\\n",
       "\t COII       &     7\\\\\n",
       "\t EF1-alpha  &     4\\\\\n",
       "\t ITS2       &    22\\\\\n",
       "\t PGD        &     2\\\\\n",
       "\t TPI        &     3\\\\\n",
       "\\end{tabular}\n"
      ],
      "text/markdown": [
       "\n",
       "A data.frame: 15 × 2\n",
       "\n",
       "| Var1 &lt;fct&gt; | Freq &lt;int&gt; |\n",
       "|---|---|\n",
       "| 12S        |     3 |\n",
       "| 16S        |     3 |\n",
       "| 18S        |     2 |\n",
       "| 28S        |     3 |\n",
       "| AATS       |     3 |\n",
       "| CAD        |     5 |\n",
       "| CAD4       |     1 |\n",
       "| COI-3P     |   892 |\n",
       "| COI-5P     | 77892 |\n",
       "| COI-PSEUDO |    21 |\n",
       "| COII       |     7 |\n",
       "| EF1-alpha  |     4 |\n",
       "| ITS2       |    22 |\n",
       "| PGD        |     2 |\n",
       "| TPI        |     3 |\n",
       "\n"
      ],
      "text/plain": [
       "   Var1       Freq \n",
       "1  12S            3\n",
       "2  16S            3\n",
       "3  18S            2\n",
       "4  28S            3\n",
       "5  AATS           3\n",
       "6  CAD            5\n",
       "7  CAD4           1\n",
       "8  COI-3P       892\n",
       "9  COI-5P     77892\n",
       "10 COI-PSEUDO    21\n",
       "11 COII           7\n",
       "12 EF1-alpha      4\n",
       "13 ITS2          22\n",
       "14 PGD            2\n",
       "15 TPI            3"
      ]
     },
     "metadata": {},
     "output_type": "display_data"
    },
    {
     "ename": "ERROR",
     "evalue": "Error in unique(sample_dataframe$markercode): object 'sample_dataframe' not found\n",
     "output_type": "error",
     "traceback": [
      "Error in unique(sample_dataframe$markercode): object 'sample_dataframe' not found\nTraceback:\n",
      "1. cat(length(unique(sample_dataframe$markercode)), \"markers are represented in the East African data set\")",
      "2. unique(sample_dataframe$markercode)"
     ]
    }
   ],
   "source": [
    "cat(length(unique(bold_dataframe$markercode)),\n",
    "    \"markers are represented in the African data set\")\n",
    "as.data.frame(table(c(bold_dataframe$markercode)))\n",
    "#unique(bold_dataframe$markercode) # filtering rows corresponding to COI-5P markers\n",
    "cat(length(unique(sample_dataframe$markercode)),\n",
    "    \"markers are represented in the East African data set\")\n",
    "as.data.frame(table(c(sample_dataframe$markercode)))\n",
    "#unique(sample_dataframe$markercode) # filtering rows corresponding to COI-5P markers"
   ]
  },
  {
   "cell_type": "markdown",
   "metadata": {},
   "source": [
    "#### **Genebank_accession numbers**"
   ]
  },
  {
   "cell_type": "code",
   "execution_count": 20,
   "metadata": {},
   "outputs": [
    {
     "name": "stdout",
     "output_type": "stream",
     "text": [
      "There are  8027 genbank accession numbers in the African arthropod records out of  81302 records.\n"
     ]
    },
    {
     "ename": "ERROR",
     "evalue": "Error in unique(sample_dataframe$genbank_accession): object 'sample_dataframe' not found\n",
     "output_type": "error",
     "traceback": [
      "Error in unique(sample_dataframe$genbank_accession): object 'sample_dataframe' not found\nTraceback:\n",
      "1. cat(\"There are \", length(unique(sample_dataframe$genbank_accession)), \n .     \"genbank accession numbers in the East African arthropod records out of \", \n .     nrow(sample_dataframe), \"records.\")",
      "2. unique(sample_dataframe$genbank_accession)"
     ]
    }
   ],
   "source": [
    "cat(\"There are \",length(unique(bold_dataframe$genbank_accession)), \n",
    "    \"genbank accession numbers in the African arthropod records out of \",\n",
    "    nrow(bold_dataframe),\"records.\\n\")\n",
    "cat(\"There are \",length(unique(sample_dataframe$genbank_accession)), \n",
    "    \"genbank accession numbers in the East African arthropod records out of \",\n",
    "    nrow(sample_dataframe),\"records.\")"
   ]
  },
  {
   "cell_type": "markdown",
   "metadata": {},
   "source": [
    "#### **Cleaning up the dataset to remain only with COI-5P sequences**"
   ]
  },
  {
   "cell_type": "markdown",
   "metadata": {},
   "source": [
    "**1. Removing sequences from other classes and markers beside Insecta and COI-5P**"
   ]
  },
  {
   "cell_type": "code",
   "execution_count": 25,
   "metadata": {},
   "outputs": [
    {
     "name": "stdout",
     "output_type": "stream",
     "text": [
      "African data set has 77892 Insecta records out of 81302 African arthropod records\n",
      "\n"
     ]
    },
    {
     "ename": "ERROR",
     "evalue": "Error in subset(sample_dataframe, markercode == \"COI-5P\" & !is.na(nucleotides) & : object 'sample_dataframe' not found\n",
     "output_type": "error",
     "traceback": [
      "Error in subset(sample_dataframe, markercode == \"COI-5P\" & !is.na(nucleotides) & : object 'sample_dataframe' not found\nTraceback:\n",
      "1. subset(sample_dataframe, markercode == \"COI-5P\" & !is.na(nucleotides) & \n .     class_name == \"Insecta\")"
     ]
    }
   ],
   "source": [
    "COI_Insect_Afrodata = subset(\n",
    "    bold_dataframe, class_name == \"Insecta\" & markercode == \"COI-5P\" & !is.na(nucleotides) )\n",
    "cat(\"African data set has\", nrow(COI_Insect_Afrodata),\"Insecta records out of\", \n",
    "    nrow(bold_dataframe), \"African arthropod records\\n\\n\")\n",
    "COI_Insect_EAfrodata = subset(\n",
    "    sample_dataframe, markercode == \"COI-5P\" & !is.na(nucleotides) & class_name == \"Insecta\")\n",
    "cat(\"Insect COI-5P marker sequences are \",nrow(COI_Insect_EAfrodata),\" out of \", \n",
    "    nrow(sample_dataframe), \"sequences in the East African bold data\")\n",
    "as.data.frame(table(c((COI_Insect_Afrodata)$class_name)))\n",
    "as.data.frame(table(c((COI_Insect_Afrodata)$order_name)))"
   ]
  },
  {
   "cell_type": "code",
   "execution_count": 26,
   "metadata": {},
   "outputs": [
    {
     "data": {
      "text/html": [
       "<table>\n",
       "<caption>A data.frame: 86 × 2</caption>\n",
       "<thead>\n",
       "\t<tr><th scope=col>Var1</th><th scope=col>Freq</th></tr>\n",
       "\t<tr><th scope=col>&lt;fct&gt;</th><th scope=col>&lt;int&gt;</th></tr>\n",
       "</thead>\n",
       "<tbody>\n",
       "\t<tr><td>Acroceridae    </td><td>    4</td></tr>\n",
       "\t<tr><td>Agromyzidae    </td><td>  759</td></tr>\n",
       "\t<tr><td>Anisopodidae   </td><td>    2</td></tr>\n",
       "\t<tr><td>Anthomyiidae   </td><td>  255</td></tr>\n",
       "\t<tr><td>Asilidae       </td><td>  246</td></tr>\n",
       "\t<tr><td>Asteiidae      </td><td>   31</td></tr>\n",
       "\t<tr><td>Athericidae    </td><td>    1</td></tr>\n",
       "\t<tr><td>Bibionidae     </td><td>  104</td></tr>\n",
       "\t<tr><td>Blephariceridae</td><td>   27</td></tr>\n",
       "\t<tr><td>Bombyliidae    </td><td>   85</td></tr>\n",
       "\t<tr><td>Calliphoridae  </td><td>  497</td></tr>\n",
       "\t<tr><td>Canacidae      </td><td>    2</td></tr>\n",
       "\t<tr><td>Carnidae       </td><td>   10</td></tr>\n",
       "\t<tr><td>Cecidomyiidae  </td><td>14381</td></tr>\n",
       "\t<tr><td>Celyphidae     </td><td>    4</td></tr>\n",
       "\t<tr><td>Ceratopogonidae</td><td> 9032</td></tr>\n",
       "\t<tr><td>Chamaemyiidae  </td><td>   24</td></tr>\n",
       "\t<tr><td>Chaoboridae    </td><td>    4</td></tr>\n",
       "\t<tr><td>Chironomidae   </td><td> 8977</td></tr>\n",
       "\t<tr><td>Chloropidae    </td><td> 1654</td></tr>\n",
       "\t<tr><td>Chyromyidae    </td><td>   47</td></tr>\n",
       "\t<tr><td>Clusiidae      </td><td>    7</td></tr>\n",
       "\t<tr><td>Conopidae      </td><td>   53</td></tr>\n",
       "\t<tr><td>Corethrellidae </td><td>    2</td></tr>\n",
       "\t<tr><td>Cryptochetidae </td><td>  115</td></tr>\n",
       "\t<tr><td>Culicidae      </td><td> 2674</td></tr>\n",
       "\t<tr><td>Curtonotidae   </td><td>    1</td></tr>\n",
       "\t<tr><td>Diopsidae      </td><td>   37</td></tr>\n",
       "\t<tr><td>Dixidae        </td><td>    2</td></tr>\n",
       "\t<tr><td>Dolichopodidae </td><td>  617</td></tr>\n",
       "\t<tr><td>⋮</td><td>⋮</td></tr>\n",
       "\t<tr><td>Phoridae       </td><td>4706</td></tr>\n",
       "\t<tr><td>Piophilidae    </td><td>  10</td></tr>\n",
       "\t<tr><td>Pipunculidae   </td><td> 218</td></tr>\n",
       "\t<tr><td>Platypezidae   </td><td>  14</td></tr>\n",
       "\t<tr><td>Platystomatidae</td><td>  29</td></tr>\n",
       "\t<tr><td>Polleniidae    </td><td> 381</td></tr>\n",
       "\t<tr><td>Psilidae       </td><td>   3</td></tr>\n",
       "\t<tr><td>Psychodidae    </td><td>4896</td></tr>\n",
       "\t<tr><td>Pyrgotidae     </td><td>   7</td></tr>\n",
       "\t<tr><td>Rhiniidae      </td><td>  70</td></tr>\n",
       "\t<tr><td>Rhinophoridae  </td><td>   8</td></tr>\n",
       "\t<tr><td>Sarcophagidae  </td><td> 663</td></tr>\n",
       "\t<tr><td>Scathophagidae </td><td>   1</td></tr>\n",
       "\t<tr><td>Scatopsidae    </td><td>  72</td></tr>\n",
       "\t<tr><td>Scenopinidae   </td><td>   6</td></tr>\n",
       "\t<tr><td>Sciaridae      </td><td>8264</td></tr>\n",
       "\t<tr><td>Sciomyzidae    </td><td>   5</td></tr>\n",
       "\t<tr><td>Sepsidae       </td><td> 112</td></tr>\n",
       "\t<tr><td>Simuliidae     </td><td> 249</td></tr>\n",
       "\t<tr><td>Sphaeroceridae </td><td> 709</td></tr>\n",
       "\t<tr><td>Stratiomyidae  </td><td> 124</td></tr>\n",
       "\t<tr><td>Syrphidae      </td><td> 461</td></tr>\n",
       "\t<tr><td>Tabanidae      </td><td> 323</td></tr>\n",
       "\t<tr><td>Tachinidae     </td><td> 911</td></tr>\n",
       "\t<tr><td>Tephritidae    </td><td>3144</td></tr>\n",
       "\t<tr><td>Thaumaleidae   </td><td>   1</td></tr>\n",
       "\t<tr><td>Therevidae     </td><td>  33</td></tr>\n",
       "\t<tr><td>Tipulidae      </td><td>  31</td></tr>\n",
       "\t<tr><td>Ulidiidae      </td><td>  11</td></tr>\n",
       "\t<tr><td>Vermileonidae  </td><td>   1</td></tr>\n",
       "</tbody>\n",
       "</table>\n"
      ],
      "text/latex": [
       "A data.frame: 86 × 2\n",
       "\\begin{tabular}{ll}\n",
       " Var1 & Freq\\\\\n",
       " <fct> & <int>\\\\\n",
       "\\hline\n",
       "\t Acroceridae     &     4\\\\\n",
       "\t Agromyzidae     &   759\\\\\n",
       "\t Anisopodidae    &     2\\\\\n",
       "\t Anthomyiidae    &   255\\\\\n",
       "\t Asilidae        &   246\\\\\n",
       "\t Asteiidae       &    31\\\\\n",
       "\t Athericidae     &     1\\\\\n",
       "\t Bibionidae      &   104\\\\\n",
       "\t Blephariceridae &    27\\\\\n",
       "\t Bombyliidae     &    85\\\\\n",
       "\t Calliphoridae   &   497\\\\\n",
       "\t Canacidae       &     2\\\\\n",
       "\t Carnidae        &    10\\\\\n",
       "\t Cecidomyiidae   & 14381\\\\\n",
       "\t Celyphidae      &     4\\\\\n",
       "\t Ceratopogonidae &  9032\\\\\n",
       "\t Chamaemyiidae   &    24\\\\\n",
       "\t Chaoboridae     &     4\\\\\n",
       "\t Chironomidae    &  8977\\\\\n",
       "\t Chloropidae     &  1654\\\\\n",
       "\t Chyromyidae     &    47\\\\\n",
       "\t Clusiidae       &     7\\\\\n",
       "\t Conopidae       &    53\\\\\n",
       "\t Corethrellidae  &     2\\\\\n",
       "\t Cryptochetidae  &   115\\\\\n",
       "\t Culicidae       &  2674\\\\\n",
       "\t Curtonotidae    &     1\\\\\n",
       "\t Diopsidae       &    37\\\\\n",
       "\t Dixidae         &     2\\\\\n",
       "\t Dolichopodidae  &   617\\\\\n",
       "\t ⋮ & ⋮\\\\\n",
       "\t Phoridae        & 4706\\\\\n",
       "\t Piophilidae     &   10\\\\\n",
       "\t Pipunculidae    &  218\\\\\n",
       "\t Platypezidae    &   14\\\\\n",
       "\t Platystomatidae &   29\\\\\n",
       "\t Polleniidae     &  381\\\\\n",
       "\t Psilidae        &    3\\\\\n",
       "\t Psychodidae     & 4896\\\\\n",
       "\t Pyrgotidae      &    7\\\\\n",
       "\t Rhiniidae       &   70\\\\\n",
       "\t Rhinophoridae   &    8\\\\\n",
       "\t Sarcophagidae   &  663\\\\\n",
       "\t Scathophagidae  &    1\\\\\n",
       "\t Scatopsidae     &   72\\\\\n",
       "\t Scenopinidae    &    6\\\\\n",
       "\t Sciaridae       & 8264\\\\\n",
       "\t Sciomyzidae     &    5\\\\\n",
       "\t Sepsidae        &  112\\\\\n",
       "\t Simuliidae      &  249\\\\\n",
       "\t Sphaeroceridae  &  709\\\\\n",
       "\t Stratiomyidae   &  124\\\\\n",
       "\t Syrphidae       &  461\\\\\n",
       "\t Tabanidae       &  323\\\\\n",
       "\t Tachinidae      &  911\\\\\n",
       "\t Tephritidae     & 3144\\\\\n",
       "\t Thaumaleidae    &    1\\\\\n",
       "\t Therevidae      &   33\\\\\n",
       "\t Tipulidae       &   31\\\\\n",
       "\t Ulidiidae       &   11\\\\\n",
       "\t Vermileonidae   &    1\\\\\n",
       "\\end{tabular}\n"
      ],
      "text/markdown": [
       "\n",
       "A data.frame: 86 × 2\n",
       "\n",
       "| Var1 &lt;fct&gt; | Freq &lt;int&gt; |\n",
       "|---|---|\n",
       "| Acroceridae     |     4 |\n",
       "| Agromyzidae     |   759 |\n",
       "| Anisopodidae    |     2 |\n",
       "| Anthomyiidae    |   255 |\n",
       "| Asilidae        |   246 |\n",
       "| Asteiidae       |    31 |\n",
       "| Athericidae     |     1 |\n",
       "| Bibionidae      |   104 |\n",
       "| Blephariceridae |    27 |\n",
       "| Bombyliidae     |    85 |\n",
       "| Calliphoridae   |   497 |\n",
       "| Canacidae       |     2 |\n",
       "| Carnidae        |    10 |\n",
       "| Cecidomyiidae   | 14381 |\n",
       "| Celyphidae      |     4 |\n",
       "| Ceratopogonidae |  9032 |\n",
       "| Chamaemyiidae   |    24 |\n",
       "| Chaoboridae     |     4 |\n",
       "| Chironomidae    |  8977 |\n",
       "| Chloropidae     |  1654 |\n",
       "| Chyromyidae     |    47 |\n",
       "| Clusiidae       |     7 |\n",
       "| Conopidae       |    53 |\n",
       "| Corethrellidae  |     2 |\n",
       "| Cryptochetidae  |   115 |\n",
       "| Culicidae       |  2674 |\n",
       "| Curtonotidae    |     1 |\n",
       "| Diopsidae       |    37 |\n",
       "| Dixidae         |     2 |\n",
       "| Dolichopodidae  |   617 |\n",
       "| ⋮ | ⋮ |\n",
       "| Phoridae        | 4706 |\n",
       "| Piophilidae     |   10 |\n",
       "| Pipunculidae    |  218 |\n",
       "| Platypezidae    |   14 |\n",
       "| Platystomatidae |   29 |\n",
       "| Polleniidae     |  381 |\n",
       "| Psilidae        |    3 |\n",
       "| Psychodidae     | 4896 |\n",
       "| Pyrgotidae      |    7 |\n",
       "| Rhiniidae       |   70 |\n",
       "| Rhinophoridae   |    8 |\n",
       "| Sarcophagidae   |  663 |\n",
       "| Scathophagidae  |    1 |\n",
       "| Scatopsidae     |   72 |\n",
       "| Scenopinidae    |    6 |\n",
       "| Sciaridae       | 8264 |\n",
       "| Sciomyzidae     |    5 |\n",
       "| Sepsidae        |  112 |\n",
       "| Simuliidae      |  249 |\n",
       "| Sphaeroceridae  |  709 |\n",
       "| Stratiomyidae   |  124 |\n",
       "| Syrphidae       |  461 |\n",
       "| Tabanidae       |  323 |\n",
       "| Tachinidae      |  911 |\n",
       "| Tephritidae     | 3144 |\n",
       "| Thaumaleidae    |    1 |\n",
       "| Therevidae      |   33 |\n",
       "| Tipulidae       |   31 |\n",
       "| Ulidiidae       |   11 |\n",
       "| Vermileonidae   |    1 |\n",
       "\n"
      ],
      "text/plain": [
       "   Var1            Freq \n",
       "1  Acroceridae         4\n",
       "2  Agromyzidae       759\n",
       "3  Anisopodidae        2\n",
       "4  Anthomyiidae      255\n",
       "5  Asilidae          246\n",
       "6  Asteiidae          31\n",
       "7  Athericidae         1\n",
       "8  Bibionidae        104\n",
       "9  Blephariceridae    27\n",
       "10 Bombyliidae        85\n",
       "11 Calliphoridae     497\n",
       "12 Canacidae           2\n",
       "13 Carnidae           10\n",
       "14 Cecidomyiidae   14381\n",
       "15 Celyphidae          4\n",
       "16 Ceratopogonidae  9032\n",
       "17 Chamaemyiidae      24\n",
       "18 Chaoboridae         4\n",
       "19 Chironomidae     8977\n",
       "20 Chloropidae      1654\n",
       "21 Chyromyidae        47\n",
       "22 Clusiidae           7\n",
       "23 Conopidae          53\n",
       "24 Corethrellidae      2\n",
       "25 Cryptochetidae    115\n",
       "26 Culicidae        2674\n",
       "27 Curtonotidae        1\n",
       "28 Diopsidae          37\n",
       "29 Dixidae             2\n",
       "30 Dolichopodidae    617\n",
       "⋮  ⋮               ⋮    \n",
       "57 Phoridae        4706 \n",
       "58 Piophilidae       10 \n",
       "59 Pipunculidae     218 \n",
       "60 Platypezidae      14 \n",
       "61 Platystomatidae   29 \n",
       "62 Polleniidae      381 \n",
       "63 Psilidae           3 \n",
       "64 Psychodidae     4896 \n",
       "65 Pyrgotidae         7 \n",
       "66 Rhiniidae         70 \n",
       "67 Rhinophoridae      8 \n",
       "68 Sarcophagidae    663 \n",
       "69 Scathophagidae     1 \n",
       "70 Scatopsidae       72 \n",
       "71 Scenopinidae       6 \n",
       "72 Sciaridae       8264 \n",
       "73 Sciomyzidae        5 \n",
       "74 Sepsidae         112 \n",
       "75 Simuliidae       249 \n",
       "76 Sphaeroceridae   709 \n",
       "77 Stratiomyidae    124 \n",
       "78 Syrphidae        461 \n",
       "79 Tabanidae        323 \n",
       "80 Tachinidae       911 \n",
       "81 Tephritidae     3144 \n",
       "82 Thaumaleidae       1 \n",
       "83 Therevidae        33 \n",
       "84 Tipulidae         31 \n",
       "85 Ulidiidae         11 \n",
       "86 Vermileonidae      1 "
      ]
     },
     "metadata": {},
     "output_type": "display_data"
    }
   ],
   "source": [
    "as.data.frame(table(c((subset(COI_Insect_Afrodata, order_name == \"Diptera\"))$family_name)))"
   ]
  },
  {
   "cell_type": "code",
   "execution_count": 27,
   "metadata": {},
   "outputs": [
    {
     "data": {
      "text/html": [
       "<table>\n",
       "<caption>A data.frame: 0 × 1</caption>\n",
       "<thead>\n",
       "\t<tr><th scope=col>Freq</th></tr>\n",
       "\t<tr><th scope=col>&lt;int&gt;</th></tr>\n",
       "</thead>\n",
       "<tbody>\n",
       "</tbody>\n",
       "</table>\n"
      ],
      "text/latex": [
       "A data.frame: 0 × 1\n",
       "\\begin{tabular}{l}\n",
       " Freq\\\\\n",
       " <int>\\\\\n",
       "\\hline\n",
       "\\end{tabular}\n"
      ],
      "text/markdown": [
       "\n",
       "A data.frame: 0 × 1\n",
       "\n",
       "| Freq &lt;int&gt; |\n",
       "|---|\n",
       "\n"
      ],
      "text/plain": [
       "     Freq"
      ]
     },
     "metadata": {},
     "output_type": "display_data"
    }
   ],
   "source": [
    "as.data.frame(table(c((subset(COI_Insect_Afrodata, order_name == \"Lepidoptera\"))$family_name)))"
   ]
  },
  {
   "cell_type": "code",
   "execution_count": 28,
   "metadata": {},
   "outputs": [
    {
     "name": "stdout",
     "output_type": "stream",
     "text": [
      "0 records in non-insecta classes \n",
      "classes:  "
     ]
    },
    {
     "data": {
      "text/html": [
       "<table>\n",
       "<caption>A data.frame: 0 × 1</caption>\n",
       "<thead>\n",
       "\t<tr><th scope=col>Freq</th></tr>\n",
       "\t<tr><th scope=col>&lt;int&gt;</th></tr>\n",
       "</thead>\n",
       "<tbody>\n",
       "</tbody>\n",
       "</table>\n"
      ],
      "text/latex": [
       "A data.frame: 0 × 1\n",
       "\\begin{tabular}{l}\n",
       " Freq\\\\\n",
       " <int>\\\\\n",
       "\\hline\n",
       "\\end{tabular}\n"
      ],
      "text/markdown": [
       "\n",
       "A data.frame: 0 × 1\n",
       "\n",
       "| Freq &lt;int&gt; |\n",
       "|---|\n",
       "\n"
      ],
      "text/plain": [
       "     Freq"
      ]
     },
     "metadata": {},
     "output_type": "display_data"
    },
    {
     "name": "stdout",
     "output_type": "stream",
     "text": [
      "The order taxa represented in Arachnida class are:"
     ]
    },
    {
     "data": {
      "text/html": [
       "<table>\n",
       "<caption>A data.frame: 0 × 1</caption>\n",
       "<thead>\n",
       "\t<tr><th scope=col>Freq</th></tr>\n",
       "\t<tr><th scope=col>&lt;int&gt;</th></tr>\n",
       "</thead>\n",
       "<tbody>\n",
       "</tbody>\n",
       "</table>\n"
      ],
      "text/latex": [
       "A data.frame: 0 × 1\n",
       "\\begin{tabular}{l}\n",
       " Freq\\\\\n",
       " <int>\\\\\n",
       "\\hline\n",
       "\\end{tabular}\n"
      ],
      "text/markdown": [
       "\n",
       "A data.frame: 0 × 1\n",
       "\n",
       "| Freq &lt;int&gt; |\n",
       "|---|\n",
       "\n"
      ],
      "text/plain": [
       "     Freq"
      ]
     },
     "metadata": {},
     "output_type": "display_data"
    },
    {
     "name": "stdout",
     "output_type": "stream",
     "text": [
      "\n",
      " 0 Malacostraca: orders; \n",
      " 0 Diplopoda: orders; \n",
      " 0 Branchiopoda: orders; \n",
      " 0 Ostracoda: orders; "
     ]
    }
   ],
   "source": [
    "nonInsecta_data = subset(bold_dataframe, class_name != \"Insecta\")\n",
    "cat (nrow(nonInsecta_data), \"records in non-insecta classes \\nclasses: \",\n",
    "     unique(nonInsecta_data$class_name))\n",
    "as.data.frame(table(c((nonInsecta_data)$class_name)))\n",
    "cat(\"The order taxa represented in Arachnida class are:\")\n",
    "as.data.frame(table(c((subset(bold_dataframe, class_name == \"Arachnida\"))$order_name)))\n",
    "cat(\"\\n\",nrow(subset(bold_dataframe, class_name == \"Malacostraca\")), \"Malacostraca: orders;\",\n",
    "    unique((subset(bold_dataframe, class_name == \"Malacostraca\")$order_name)))\n",
    "cat(\"\\n\",nrow(subset(bold_dataframe, class_name == \"Diplopoda\")), \"Diplopoda: orders;\",\n",
    "    unique((subset(bold_dataframe, class_name == \"Diplopoda\")$order_name)))\n",
    "cat(\"\\n\",nrow(subset(bold_dataframe, class_name == \"Branchiopoda\")), \"Branchiopoda: orders;\",\n",
    "    unique((subset(bold_dataframe, class_name == \"Branchiopoda\")$order_name)))\n",
    "cat(\"\\n\",nrow(subset(bold_dataframe, class_name == \"Ostracoda\")), \"Ostracoda: orders;\"\n",
    "    ,unique((subset(bold_dataframe, class_name == \"Ostracoda\")$order_name)))"
   ]
  },
  {
   "cell_type": "markdown",
   "metadata": {},
   "source": [
    "## **Focusing on our Sample data(East African data set)**\n",
    "#### **Analysing nucleotide sequences (nucleotides)**"
   ]
  },
  {
   "cell_type": "code",
   "execution_count": 29,
   "metadata": {},
   "outputs": [
    {
     "ename": "ERROR",
     "evalue": "Error in typeof(COI_Insect_EAfrodata$nucleotides): object 'COI_Insect_EAfrodata' not found\n",
     "output_type": "error",
     "traceback": [
      "Error in typeof(COI_Insect_EAfrodata$nucleotides): object 'COI_Insect_EAfrodata' not found\nTraceback:\n",
      "1. typeof(COI_Insect_EAfrodata$nucleotides)"
     ]
    }
   ],
   "source": [
    "typeof(COI_Insect_EAfrodata$nucleotides)"
   ]
  },
  {
   "cell_type": "markdown",
   "metadata": {},
   "source": [
    "**1. Introducing a field \"seqlen1\" that has the number of nucleotides in the COI-5P**"
   ]
  },
  {
   "cell_type": "code",
   "execution_count": 29,
   "metadata": {},
   "outputs": [
    {
     "ename": "ERROR",
     "evalue": "Error in eval(lhs, parent, parent): object 'COI_Insect_EAfrodata' not found\n",
     "output_type": "error",
     "traceback": [
      "Error in eval(lhs, parent, parent): object 'COI_Insect_EAfrodata' not found\nTraceback:\n",
      "1. COI_Insect_EAfrodata %>% mutate(seqlen1 = nchar(nucleotides))",
      "2. eval(lhs, parent, parent)",
      "3. eval(lhs, parent, parent)"
     ]
    }
   ],
   "source": [
    "COI_Insect_EAfrodata %>% mutate(seqlen1 = nchar(nucleotides)) -> resulting_dataframe1\n",
    "## \"\"%>%\"\" is same as pipe \"|\" in bash"
   ]
  },
  {
   "cell_type": "markdown",
   "metadata": {},
   "source": [
    "**2. List all characters present in the nucleotide sequences**"
   ]
  },
  {
   "cell_type": "code",
   "execution_count": 30,
   "metadata": {},
   "outputs": [
    {
     "ename": "ERROR",
     "evalue": "Error in strsplit(COI_data$nucleotides, \"\", fixed = TRUE): object 'COI_data' not found\n",
     "output_type": "error",
     "traceback": [
      "Error in strsplit(COI_data$nucleotides, \"\", fixed = TRUE): object 'COI_data' not found\nTraceback:\n",
      "1. unique(unlist(strsplit(COI_data$nucleotides, \"\", fixed = TRUE)), \n .     incomparables = FALSE)",
      "2. unlist(strsplit(COI_data$nucleotides, \"\", fixed = TRUE))",
      "3. strsplit(COI_data$nucleotides, \"\", fixed = TRUE)"
     ]
    }
   ],
   "source": [
    "unique(unlist(strsplit(COI_data$nucleotides, \"\", fixed = TRUE)), incomparables = FALSE)"
   ]
  },
  {
   "cell_type": "markdown",
   "metadata": {},
   "source": [
    "**3. Number of nucleotide sequences with '-' characters* in them**"
   ]
  },
  {
   "cell_type": "code",
   "execution_count": 31,
   "metadata": {},
   "outputs": [
    {
     "ename": "ERROR",
     "evalue": "Error in grep(\"-\", resulting_dataframe1$nucleotides, value = TRUE): object 'resulting_dataframe1' not found\n",
     "output_type": "error",
     "traceback": [
      "Error in grep(\"-\", resulting_dataframe1$nucleotides, value = TRUE): object 'resulting_dataframe1' not found\nTraceback:\n",
      "1. grep(\"-\", resulting_dataframe1$nucleotides, value = TRUE)"
     ]
    }
   ],
   "source": [
    "length(grep( '-',resulting_dataframe1$nucleotides, value= TRUE))"
   ]
  },
  {
   "cell_type": "markdown",
   "metadata": {},
   "source": [
    "**4. REMOVING '-' characters from nucleotide sequences and creating a field of unalinged nucleotide sequences (unalined_nucleotides)**"
   ]
  },
  {
   "cell_type": "code",
   "execution_count": 32,
   "metadata": {},
   "outputs": [
    {
     "ename": "ERROR",
     "evalue": "Error in eval(lhs, parent, parent): object 'resulting_dataframe1' not found\n",
     "output_type": "error",
     "traceback": [
      "Error in eval(lhs, parent, parent): object 'resulting_dataframe1' not found\nTraceback:\n",
      "1. resulting_dataframe1 %>% mutate(unaligned_nucleotides = gsub(\"-\", \n .     \"\", resulting_dataframe1$nucleotides, ignore.case = FALSE, \n .     perl = FALSE, fixed = FALSE, useBytes = FALSE))",
      "2. eval(lhs, parent, parent)",
      "3. eval(lhs, parent, parent)"
     ]
    }
   ],
   "source": [
    "resulting_dataframe1 %>% mutate(unaligned_nucleotides = gsub(\n",
    "    '-', '', resulting_dataframe1$nucleotides, ignore.case = FALSE, perl = FALSE,\n",
    "    fixed = FALSE, useBytes = FALSE)) -> resulting_dataframe2"
   ]
  },
  {
   "cell_type": "code",
   "execution_count": 33,
   "metadata": {},
   "outputs": [
    {
     "ename": "ERROR",
     "evalue": "Error in grep(\"-\", resulting_dataframe2$unaligned_nucleotides, value = TRUE): object 'resulting_dataframe2' not found\n",
     "output_type": "error",
     "traceback": [
      "Error in grep(\"-\", resulting_dataframe2$unaligned_nucleotides, value = TRUE): object 'resulting_dataframe2' not found\nTraceback:\n",
      "1. grep(\"-\", resulting_dataframe2$unaligned_nucleotides, value = TRUE)"
     ]
    }
   ],
   "source": [
    "#Number of nucleotide sequences with '-' characters* in them after removal\n",
    "length(grep( '-',resulting_dataframe2$unaligned_nucleotides, value= TRUE))"
   ]
  },
  {
   "cell_type": "markdown",
   "metadata": {},
   "source": [
    "**5. Introducing a field seqlen2 with number nucleotides in unaligned_nucleotides field**"
   ]
  },
  {
   "cell_type": "code",
   "execution_count": 34,
   "metadata": {},
   "outputs": [
    {
     "ename": "ERROR",
     "evalue": "Error in eval(lhs, parent, parent): object 'resulting_dataframe2' not found\n",
     "output_type": "error",
     "traceback": [
      "Error in eval(lhs, parent, parent): object 'resulting_dataframe2' not found\nTraceback:\n",
      "1. resulting_dataframe2 %>% mutate(seqlen2 = nchar(unaligned_nucleotides))",
      "2. eval(lhs, parent, parent)",
      "3. eval(lhs, parent, parent)"
     ]
    }
   ],
   "source": [
    "resulting_dataframe2 %>% mutate(seqlen2 = nchar(unaligned_nucleotides)) -> resulting_dataframe3"
   ]
  },
  {
   "cell_type": "code",
   "execution_count": 35,
   "metadata": {},
   "outputs": [
    {
     "ename": "ERROR",
     "evalue": "Error in str(resulting_dataframe3): object 'resulting_dataframe3' not found\n",
     "output_type": "error",
     "traceback": [
      "Error in str(resulting_dataframe3): object 'resulting_dataframe3' not found\nTraceback:\n",
      "1. str(resulting_dataframe3)"
     ]
    }
   ],
   "source": [
    "str(resulting_dataframe3)"
   ]
  },
  {
   "cell_type": "markdown",
   "metadata": {},
   "source": [
    "#### **Understanding the distribution of seqlen1 versus seqlen2**"
   ]
  },
  {
   "cell_type": "code",
   "execution_count": 36,
   "metadata": {},
   "outputs": [
    {
     "ename": "ERROR",
     "evalue": "Error in boxplot(resulting_dataframe1$seqlen1, resulting_dataframe3$seqlen2): object 'resulting_dataframe1' not found\n",
     "output_type": "error",
     "traceback": [
      "Error in boxplot(resulting_dataframe1$seqlen1, resulting_dataframe3$seqlen2): object 'resulting_dataframe1' not found\nTraceback:\n",
      "1. boxplot(resulting_dataframe1$seqlen1, resulting_dataframe3$seqlen2)"
     ]
    }
   ],
   "source": [
    "boxplot(resulting_dataframe1$seqlen1, resulting_dataframe3$seqlen2)"
   ]
  },
  {
   "cell_type": "code",
   "execution_count": 37,
   "metadata": {},
   "outputs": [
    {
     "ename": "ERROR",
     "evalue": "Error in hist(resulting_dataframe3$seqlen1): object 'resulting_dataframe3' not found\n",
     "output_type": "error",
     "traceback": [
      "Error in hist(resulting_dataframe3$seqlen1): object 'resulting_dataframe3' not found\nTraceback:\n",
      "1. hist(resulting_dataframe3$seqlen1)"
     ]
    },
    {
     "ename": "ERROR",
     "evalue": "Error in hist(resulting_dataframe3$seqlen2): object 'resulting_dataframe3' not found\n",
     "output_type": "error",
     "traceback": [
      "Error in hist(resulting_dataframe3$seqlen2): object 'resulting_dataframe3' not found\nTraceback:\n",
      "1. hist(resulting_dataframe3$seqlen2)"
     ]
    }
   ],
   "source": [
    "hist(resulting_dataframe3$seqlen1); hist(resulting_dataframe3$seqlen2)"
   ]
  },
  {
   "cell_type": "markdown",
   "metadata": {},
   "source": [
    "### **Sorting the data based on the nucleotide length of sequences**"
   ]
  },
  {
   "cell_type": "markdown",
   "metadata": {},
   "source": [
    "1. **Generating a file with all 'COI-5P' sequences**"
   ]
  },
  {
   "cell_type": "code",
   "execution_count": 38,
   "metadata": {},
   "outputs": [
    {
     "ename": "ERROR",
     "evalue": "Error in eval(expr, envir, enclos): object 'resulting_dataframe3' not found\n",
     "output_type": "error",
     "traceback": [
      "Error in eval(expr, envir, enclos): object 'resulting_dataframe3' not found\nTraceback:\n"
     ]
    }
   ],
   "source": [
    "resulting_dataframe3 -> COI_all_data\n",
    "cat(length(COI_all_data$unaligned_nucleotides),\"sequences have 'COI-5P' marker\")"
   ]
  },
  {
   "cell_type": "markdown",
   "metadata": {},
   "source": [
    "2. **Introducing a filter to remove sequences with less than 500 nucleotides**"
   ]
  },
  {
   "cell_type": "code",
   "execution_count": 39,
   "metadata": {},
   "outputs": [
    {
     "ename": "ERROR",
     "evalue": "Error in eval(lhs, parent, parent): object 'COI_all_data' not found\n",
     "output_type": "error",
     "traceback": [
      "Error in eval(lhs, parent, parent): object 'COI_all_data' not found\nTraceback:\n",
      "1. COI_all_data %>% filter(seqlen2 >= 500)",
      "2. eval(lhs, parent, parent)",
      "3. eval(lhs, parent, parent)"
     ]
    }
   ],
   "source": [
    "COI_all_data %>% filter(seqlen2 >= 500 ) -> COI_Over499_data\n",
    "cat(length(COI_Over499_data$unaligned_nucleotides),\"sequences have more or equivalent to 500 bases\")"
   ]
  },
  {
   "cell_type": "markdown",
   "metadata": {},
   "source": [
    "3. **Introducing a filter to remove any sequence with less than 500 and over 700 nucleotides**"
   ]
  },
  {
   "cell_type": "code",
   "execution_count": 40,
   "metadata": {},
   "outputs": [
    {
     "ename": "ERROR",
     "evalue": "Error in eval(lhs, parent, parent): object 'COI_all_data' not found\n",
     "output_type": "error",
     "traceback": [
      "Error in eval(lhs, parent, parent): object 'COI_all_data' not found\nTraceback:\n",
      "1. COI_all_data %>% filter(seqlen2 >= 500 & seqlen2 <= 700)",
      "2. eval(lhs, parent, parent)",
      "3. eval(lhs, parent, parent)"
     ]
    }
   ],
   "source": [
    "COI_all_data %>% filter(seqlen2 >= 500 & seqlen2 <= 700) -> COI_500to700_data\n",
    "cat(length(COI_500to700_data$unaligned_nucleotides),\"sequences have from 500 to 700 bases\")"
   ]
  },
  {
   "cell_type": "code",
   "execution_count": 41,
   "metadata": {},
   "outputs": [
    {
     "ename": "ERROR",
     "evalue": "Error in hist(COI_500to700_data$seqlen2): object 'COI_500to700_data' not found\n",
     "output_type": "error",
     "traceback": [
      "Error in hist(COI_500to700_data$seqlen2): object 'COI_500to700_data' not found\nTraceback:\n",
      "1. hist(COI_500to700_data$seqlen2)"
     ]
    }
   ],
   "source": [
    "hist(COI_500to700_data$seqlen2)"
   ]
  },
  {
   "cell_type": "markdown",
   "metadata": {},
   "source": [
    "4. **Introducing a filter to remove any sequence with less than 650 and over 660 nucleotides**"
   ]
  },
  {
   "cell_type": "code",
   "execution_count": 42,
   "metadata": {},
   "outputs": [
    {
     "ename": "ERROR",
     "evalue": "Error in eval(lhs, parent, parent): object 'COI_all_data' not found\n",
     "output_type": "error",
     "traceback": [
      "Error in eval(lhs, parent, parent): object 'COI_all_data' not found\nTraceback:\n",
      "1. COI_all_data %>% filter(seqlen2 >= 650 & seqlen2 <= 660)",
      "2. eval(lhs, parent, parent)",
      "3. eval(lhs, parent, parent)"
     ]
    }
   ],
   "source": [
    "COI_all_data %>% filter(seqlen2 >= 650 & seqlen2 <= 660) -> COI_650to660_data\n",
    "cat(length(COI_650to660_data$unaligned_nucleotides),\"sequences have from 650 to 660 bases\")"
   ]
  },
  {
   "cell_type": "markdown",
   "metadata": {},
   "source": [
    "5. **Introducing a filter to remove any sequence with over 500 nucleotides**"
   ]
  },
  {
   "cell_type": "code",
   "execution_count": 43,
   "metadata": {},
   "outputs": [
    {
     "ename": "ERROR",
     "evalue": "Error in eval(lhs, parent, parent): object 'COI_all_data' not found\n",
     "output_type": "error",
     "traceback": [
      "Error in eval(lhs, parent, parent): object 'COI_all_data' not found\nTraceback:\n",
      "1. COI_all_data %>% filter(seqlen2 < 500)",
      "2. eval(lhs, parent, parent)",
      "3. eval(lhs, parent, parent)"
     ]
    }
   ],
   "source": [
    "COI_all_data %>% filter(seqlen2 < 500) -> COI_Under500_data\n",
    "cat(length(COI_Under500_data$unaligned_nucleotides),\"sequences have less than 500 bases\")"
   ]
  },
  {
   "cell_type": "markdown",
   "metadata": {},
   "source": [
    "6. **Introducing a filter to remove any sequence with less than 700 nucleotides**"
   ]
  },
  {
   "cell_type": "code",
   "execution_count": 44,
   "metadata": {},
   "outputs": [
    {
     "ename": "ERROR",
     "evalue": "Error in eval(lhs, parent, parent): object 'COI_all_data' not found\n",
     "output_type": "error",
     "traceback": [
      "Error in eval(lhs, parent, parent): object 'COI_all_data' not found\nTraceback:\n",
      "1. COI_all_data %>% filter(seqlen2 > 700)",
      "2. eval(lhs, parent, parent)",
      "3. eval(lhs, parent, parent)"
     ]
    }
   ],
   "source": [
    "COI_all_data %>% filter(seqlen2 > 700) -> COI_Over700_data\n",
    "cat(length(COI_Over700_data$unaligned_nucleotides),\"sequences have more than 700 bases\")"
   ]
  },
  {
   "cell_type": "markdown",
   "metadata": {},
   "source": [
    "### **Randomly sampling 100 sequences from data sets for use in testing the pipeline**"
   ]
  },
  {
   "cell_type": "markdown",
   "metadata": {},
   "source": [
    "**1. sampling from all insecta COI-5P data irregardless of sequnce length**"
   ]
  },
  {
   "cell_type": "code",
   "execution_count": 45,
   "metadata": {},
   "outputs": [
    {
     "ename": "ERROR",
     "evalue": "Error in eval(expr, envir, enclos): object 'COI_all_data' not found\n",
     "output_type": "error",
     "traceback": [
      "Error in eval(expr, envir, enclos): object 'COI_all_data' not found\nTraceback:\n"
     ]
    }
   ],
   "source": [
    "COI_testa00_data <- COI_all_data[sample(nrow(COI_all_data), 100), ]"
   ]
  },
  {
   "cell_type": "code",
   "execution_count": 46,
   "metadata": {},
   "outputs": [
    {
     "ename": "ERROR",
     "evalue": "Error in boxplot(COI_testa00_data$seqlen2): object 'COI_testa00_data' not found\n",
     "output_type": "error",
     "traceback": [
      "Error in boxplot(COI_testa00_data$seqlen2): object 'COI_testa00_data' not found\nTraceback:\n",
      "1. boxplot(COI_testa00_data$seqlen2)"
     ]
    }
   ],
   "source": [
    "boxplot(COI_testa00_data$seqlen2)"
   ]
  },
  {
   "cell_type": "markdown",
   "metadata": {},
   "source": [
    "**2. Sampling from insecta COI-5P data with 500 to 700 nucleotide sequence length**"
   ]
  },
  {
   "cell_type": "code",
   "execution_count": 47,
   "metadata": {},
   "outputs": [
    {
     "ename": "ERROR",
     "evalue": "Error in eval(expr, envir, enclos): object 'COI_500to700_data' not found\n",
     "output_type": "error",
     "traceback": [
      "Error in eval(expr, envir, enclos): object 'COI_500to700_data' not found\nTraceback:\n"
     ]
    }
   ],
   "source": [
    "COI_testb01_data <- COI_500to700_data[sample(nrow(COI_500to700_data), 100), ]"
   ]
  },
  {
   "cell_type": "code",
   "execution_count": 48,
   "metadata": {},
   "outputs": [
    {
     "ename": "ERROR",
     "evalue": "Error in boxplot(COI_testb01_data$seqlen2): object 'COI_testb01_data' not found\n",
     "output_type": "error",
     "traceback": [
      "Error in boxplot(COI_testb01_data$seqlen2): object 'COI_testb01_data' not found\nTraceback:\n",
      "1. boxplot(COI_testb01_data$seqlen2)"
     ]
    }
   ],
   "source": [
    "boxplot(COI_testb01_data$seqlen2)"
   ]
  },
  {
   "cell_type": "code",
   "execution_count": 49,
   "metadata": {},
   "outputs": [
    {
     "ename": "ERROR",
     "evalue": "Error in eval(expr, envir, enclos): object 'COI_500to700_data' not found\n",
     "output_type": "error",
     "traceback": [
      "Error in eval(expr, envir, enclos): object 'COI_500to700_data' not found\nTraceback:\n"
     ]
    }
   ],
   "source": [
    "COI_testb02_data <- COI_500to700_data[sample(nrow(COI_500to700_data), 100), ]"
   ]
  },
  {
   "cell_type": "code",
   "execution_count": 50,
   "metadata": {},
   "outputs": [
    {
     "ename": "ERROR",
     "evalue": "Error in boxplot(COI_testb02_data$seqlen2): object 'COI_testb02_data' not found\n",
     "output_type": "error",
     "traceback": [
      "Error in boxplot(COI_testb02_data$seqlen2): object 'COI_testb02_data' not found\nTraceback:\n",
      "1. boxplot(COI_testb02_data$seqlen2)"
     ]
    }
   ],
   "source": [
    "boxplot(COI_testb02_data$seqlen2)"
   ]
  },
  {
   "cell_type": "code",
   "execution_count": 51,
   "metadata": {},
   "outputs": [
    {
     "ename": "ERROR",
     "evalue": "Error in eval(expr, envir, enclos): object 'COI_500to700_data' not found\n",
     "output_type": "error",
     "traceback": [
      "Error in eval(expr, envir, enclos): object 'COI_500to700_data' not found\nTraceback:\n"
     ]
    }
   ],
   "source": [
    "COI_testb03_data <- COI_500to700_data[sample(nrow(COI_500to700_data), 100), ]"
   ]
  },
  {
   "cell_type": "code",
   "execution_count": 52,
   "metadata": {},
   "outputs": [
    {
     "ename": "ERROR",
     "evalue": "Error in boxplot(COI_testb03_data$seqlen2): object 'COI_testb03_data' not found\n",
     "output_type": "error",
     "traceback": [
      "Error in boxplot(COI_testb03_data$seqlen2): object 'COI_testb03_data' not found\nTraceback:\n",
      "1. boxplot(COI_testb03_data$seqlen2)"
     ]
    }
   ],
   "source": [
    "boxplot(COI_testb03_data$seqlen2)"
   ]
  },
  {
   "cell_type": "markdown",
   "metadata": {},
   "source": [
    "**3. Sampling from insecta COI-5P data with 650 to 660 nucleotide sequence length**"
   ]
  },
  {
   "cell_type": "code",
   "execution_count": 53,
   "metadata": {},
   "outputs": [
    {
     "ename": "ERROR",
     "evalue": "Error in eval(expr, envir, enclos): object 'COI_650to660_data' not found\n",
     "output_type": "error",
     "traceback": [
      "Error in eval(expr, envir, enclos): object 'COI_650to660_data' not found\nTraceback:\n"
     ]
    }
   ],
   "source": [
    "COI_testc04_data <- COI_650to660_data[sample(nrow(COI_650to660_data), 100), ]"
   ]
  },
  {
   "cell_type": "code",
   "execution_count": 54,
   "metadata": {},
   "outputs": [
    {
     "ename": "ERROR",
     "evalue": "Error in boxplot(COI_testc04_data$seqlen2): object 'COI_testc04_data' not found\n",
     "output_type": "error",
     "traceback": [
      "Error in boxplot(COI_testc04_data$seqlen2): object 'COI_testc04_data' not found\nTraceback:\n",
      "1. boxplot(COI_testc04_data$seqlen2)"
     ]
    }
   ],
   "source": [
    "boxplot(COI_testc04_data$seqlen2)"
   ]
  },
  {
   "cell_type": "code",
   "execution_count": 55,
   "metadata": {},
   "outputs": [
    {
     "ename": "ERROR",
     "evalue": "Error in eval(expr, envir, enclos): object 'COI_650to660_data' not found\n",
     "output_type": "error",
     "traceback": [
      "Error in eval(expr, envir, enclos): object 'COI_650to660_data' not found\nTraceback:\n"
     ]
    }
   ],
   "source": [
    "COI_testc05_data <- COI_650to660_data[sample(nrow(COI_650to660_data), 100), ]"
   ]
  },
  {
   "cell_type": "code",
   "execution_count": 56,
   "metadata": {},
   "outputs": [
    {
     "ename": "ERROR",
     "evalue": "Error in boxplot(COI_testc05_data$seqlen2): object 'COI_testc05_data' not found\n",
     "output_type": "error",
     "traceback": [
      "Error in boxplot(COI_testc05_data$seqlen2): object 'COI_testc05_data' not found\nTraceback:\n",
      "1. boxplot(COI_testc05_data$seqlen2)"
     ]
    }
   ],
   "source": [
    "boxplot(COI_testc05_data$seqlen2)"
   ]
  },
  {
   "cell_type": "markdown",
   "metadata": {},
   "source": [
    "**4. Sampling from insecta COI-5P data with under 500 nucleotide sequence length**"
   ]
  },
  {
   "cell_type": "code",
   "execution_count": 57,
   "metadata": {},
   "outputs": [
    {
     "ename": "ERROR",
     "evalue": "Error in eval(expr, envir, enclos): object 'COI_Under500_data' not found\n",
     "output_type": "error",
     "traceback": [
      "Error in eval(expr, envir, enclos): object 'COI_Under500_data' not found\nTraceback:\n"
     ]
    }
   ],
   "source": [
    "COI_testd06_data <- COI_Under500_data[sample(nrow(COI_Under500_data), 100), ]"
   ]
  },
  {
   "cell_type": "code",
   "execution_count": 58,
   "metadata": {},
   "outputs": [
    {
     "ename": "ERROR",
     "evalue": "Error in boxplot(COI_testd06_data$seqlen2): object 'COI_testd06_data' not found\n",
     "output_type": "error",
     "traceback": [
      "Error in boxplot(COI_testd06_data$seqlen2): object 'COI_testd06_data' not found\nTraceback:\n",
      "1. boxplot(COI_testd06_data$seqlen2)"
     ]
    }
   ],
   "source": [
    "boxplot(COI_testd06_data$seqlen2)"
   ]
  },
  {
   "cell_type": "markdown",
   "metadata": {},
   "source": [
    "**5. Sampling from insecta COI-5P data with over 700 nucleotide sequence length**"
   ]
  },
  {
   "cell_type": "code",
   "execution_count": 59,
   "metadata": {},
   "outputs": [
    {
     "ename": "ERROR",
     "evalue": "Error in eval(expr, envir, enclos): object 'COI_Over700_data' not found\n",
     "output_type": "error",
     "traceback": [
      "Error in eval(expr, envir, enclos): object 'COI_Over700_data' not found\nTraceback:\n"
     ]
    }
   ],
   "source": [
    "COI_teste07_data <- COI_Over700_data[sample(nrow(COI_Over700_data), 100), ]"
   ]
  },
  {
   "cell_type": "code",
   "execution_count": 60,
   "metadata": {},
   "outputs": [
    {
     "ename": "ERROR",
     "evalue": "Error in boxplot(COI_teste07_data$seqlen2): object 'COI_teste07_data' not found\n",
     "output_type": "error",
     "traceback": [
      "Error in boxplot(COI_teste07_data$seqlen2): object 'COI_teste07_data' not found\nTraceback:\n",
      "1. boxplot(COI_teste07_data$seqlen2)"
     ]
    }
   ],
   "source": [
    "boxplot(COI_teste07_data$seqlen2)"
   ]
  },
  {
   "cell_type": "code",
   "execution_count": 61,
   "metadata": {},
   "outputs": [
    {
     "data": {
      "text/html": [
       "<ol class=list-inline>\n",
       "\t<li>'arthropoda_data'</li>\n",
       "\t<li>'arthropoda_data1'</li>\n",
       "\t<li>'bold_data'</li>\n",
       "\t<li>'bold_dataframe'</li>\n",
       "\t<li>'COI_Insect_Afrodata'</li>\n",
       "\t<li>'nonInsecta_data'</li>\n",
       "</ol>\n"
      ],
      "text/latex": [
       "\\begin{enumerate*}\n",
       "\\item 'arthropoda\\_data'\n",
       "\\item 'arthropoda\\_data1'\n",
       "\\item 'bold\\_data'\n",
       "\\item 'bold\\_dataframe'\n",
       "\\item 'COI\\_Insect\\_Afrodata'\n",
       "\\item 'nonInsecta\\_data'\n",
       "\\end{enumerate*}\n"
      ],
      "text/markdown": [
       "1. 'arthropoda_data'\n",
       "2. 'arthropoda_data1'\n",
       "3. 'bold_data'\n",
       "4. 'bold_dataframe'\n",
       "5. 'COI_Insect_Afrodata'\n",
       "6. 'nonInsecta_data'\n",
       "\n",
       "\n"
      ],
      "text/plain": [
       "[1] \"arthropoda_data\"     \"arthropoda_data1\"    \"bold_data\"          \n",
       "[4] \"bold_dataframe\"      \"COI_Insect_Afrodata\" \"nonInsecta_data\"    "
      ]
     },
     "metadata": {},
     "output_type": "display_data"
    }
   ],
   "source": [
    "ls()"
   ]
  },
  {
   "cell_type": "code",
   "execution_count": 62,
   "metadata": {},
   "outputs": [
    {
     "data": {
      "text/html": [
       "'/home/kibet/bioinformatics/github/co1_metaanalysis/code'"
      ],
      "text/latex": [
       "'/home/kibet/bioinformatics/github/co1\\_metaanalysis/code'"
      ],
      "text/markdown": [
       "'/home/kibet/bioinformatics/github/co1_metaanalysis/code'"
      ],
      "text/plain": [
       "[1] \"/home/kibet/bioinformatics/github/co1_metaanalysis/code\""
      ]
     },
     "metadata": {},
     "output_type": "display_data"
    }
   ],
   "source": [
    "getwd()"
   ]
  },
  {
   "cell_type": "markdown",
   "metadata": {},
   "source": [
    "## **Saving final tidy copies of the data to** ***'/co1_metaanalysis/Data/input'*** **directory**"
   ]
  },
  {
   "cell_type": "code",
   "execution_count": 494,
   "metadata": {},
   "outputs": [],
   "source": [
    "### Printing copies of the final tidy files\n",
    "datalist = lapply(c(\"COI_all_data\", \"COI_Over499_data\", \"COI_500to700_data\",\n",
    "                    \"COI_650to660_data\", \"COI_Over700_data\", \"COI_Under500_data\",\n",
    "                    \"COI_testa00_data\", \"COI_testb01_data\", \"COI_testb02_data\",\n",
    "                    \"COI_testb03_data\", \"COI_testc04_data\", \"COI_testc05_data\",\n",
    "                    \"COI_testd06_data\", \"COI_teste07_data\"), get)\n",
    "names(datalist) <- (c(\"../data/input/test_data/COI_all_data\",\n",
    "                      \"../data/input/test_data/COI_Over499_data\",\n",
    "                      \"../data/input/test_data/COI_500to700_data\",\n",
    "                      \"../data/input/test_data/COI_650to660_data\",\n",
    "                      \"../data/input/test_data/COI_Over700_data\",\n",
    "                      \"../data/input/test_data/COI_Under500_data\",\n",
    "                      \"../data/input/test_data/COI_testa00_data\",\n",
    "                      \"../data/input/test_data/COI_testb01_data\",\n",
    "                      \"../data/input/test_data/COI_testb02_data\",\n",
    "                      \"../data/input/test_data/COI_testb03_data\",\n",
    "                      \"../data/input/test_data/COI_testc04_data\",\n",
    "                      \"../data/input/test_data/COI_testc05_data\",\n",
    "                      \"../data/input/test_data/COI_testd06_data\",\n",
    "                      \"../data/input/test_data/COI_teste07_data\"))\n",
    "for (i in 1:length(datalist)) {\n",
    "    write.table(datalist[i], file = paste(\n",
    "        names(datalist[i]), \".tsv\", sep = \"\"), \n",
    "                row.names = FALSE, col.names= TRUE, sep = \"\\t\", quote=FALSE)\n",
    "}"
   ]
  },
  {
   "cell_type": "code",
   "execution_count": 43,
   "metadata": {},
   "outputs": [
    {
     "data": {
      "text/html": [
       "0"
      ],
      "text/latex": [
       "0"
      ],
      "text/markdown": [
       "0"
      ],
      "text/plain": [
       "[1] 0"
      ]
     },
     "metadata": {},
     "output_type": "display_data"
    }
   ],
   "source": [
    "length(which(is.na(COI_500to700_data$order_name)))"
   ]
  },
  {
   "cell_type": "code",
   "execution_count": null,
   "metadata": {},
   "outputs": [],
   "source": []
  }
 ],
 "metadata": {
  "kernelspec": {
   "display_name": "R",
   "language": "R",
   "name": "ir"
  },
  "language_info": {
   "codemirror_mode": "r",
   "file_extension": ".r",
   "mimetype": "text/x-r-source",
   "name": "R",
   "pygments_lexer": "r",
   "version": "4.0.3"
  }
 },
 "nbformat": 4,
 "nbformat_minor": 2
}
