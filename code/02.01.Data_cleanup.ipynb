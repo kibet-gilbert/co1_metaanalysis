{
 "cells": [
  {
   "cell_type": "markdown",
   "metadata": {},
   "source": [
    "# **Installing tidyverse package and loading libraries**\n",
    "Checking if a package is installed and if not installed it is installed. If installed it is loaded.  \n",
    "\"install.packages(\"tidyverse\")\" installs tidyverse"
   ]
  },
  {
   "cell_type": "code",
   "execution_count": 1,
   "metadata": {},
   "outputs": [
    {
     "name": "stdout",
     "output_type": "stream",
     "text": [
      "\n",
      "Checking if needed packages are installed... 'tidyverse','dplyr' and 'magrittr'\n",
      "Excellent tidyverse already installed.\n",
      "proceeding with clean_up and sorting\n"
     ]
    }
   ],
   "source": [
    "cat(\"\\nChecking if needed packages are installed... 'tidyverse','dplyr' and 'magrittr'\")\n",
    "if(\"tidyverse\" %in% rownames(installed.packages()) == FALSE) {\n",
    "        install.packages(\"tidyverse\")\n",
    "} else {\n",
    "        cat(\"\\nExcellent tidyverse already installed.\\nproceeding with clean_up and sorting\\n\")\n",
    "\t## loads dplyr and magrittr packages\n",
    "\tsuppressMessages(library(dplyr))\n",
    "\tsuppressMessages(library(magrittr))\n",
    "\tsuppressMessages(library(tools))\n",
    "}\n"
   ]
  },
  {
   "cell_type": "markdown",
   "metadata": {},
   "source": [
    "## **Loading RDPclassifier results in tab delimited format to a dataframe object.** "
   ]
  },
  {
   "cell_type": "code",
   "execution_count": 2,
   "metadata": {},
   "outputs": [],
   "source": [
    "bold_file <- \"/home/kibet/bioinformatics/github/co1_metaanalysis/data/input/bold_data/diptera_13012021/diptera_13012021.tsv\"\n",
    "#args = commandArgs(trailingOnly=TRUE)\n",
    "filename_ext = file_ext(bold_file)\n",
    "filename = file_path_sans_ext(bold_file)\n",
    "input_src=dirname(file_path_as_absolute(bold_file))\n",
    "bold_dataframe = read.delim(bold_file, stringsAsFactors = F, header = T, na.strings = \"\")\n",
    "## loads bold2.tsv as a dataframe object. works ok, bold2.tsv does not contain any '\\r' characters"
   ]
  },
  {
   "cell_type": "code",
   "execution_count": 3,
   "metadata": {},
   "outputs": [
    {
     "name": "stdout",
     "output_type": "stream",
     "text": [
      "'data.frame':\t81302 obs. of  80 variables:\n",
      " $ processid                 : chr  \"GBDP32377-19\" \"GBDP32805-19\" \"GBDP32808-19\" \"GBDP32817-19\" ...\n",
      " $ sampleid                  : chr  \"MF446534\" \"KX853282\" \"KX853251\" \"KX853243\" ...\n",
      " $ recordID                  : int  9905930 9906358 9906361 9906370 9906371 9906373 9906469 9906470 9906472 9906578 ...\n",
      " $ catalognum                : chr  NA NA NA NA ...\n",
      " $ fieldnum                  : chr  \"ZFMK_D190\" NA NA NA ...\n",
      " $ institution_storing       : chr  \"Mined from GenBank, NCBI\" \"Mined from GenBank, NCBI\" \"Mined from GenBank, NCBI\" \"Mined from GenBank, NCBI\" ...\n",
      " $ collection_code           : logi  NA NA NA NA NA NA ...\n",
      " $ bin_uri                   : chr  \"BOLD:AAZ6524\" NA NA \"BOLD:AED2981\" ...\n",
      " $ phylum_taxID              : int  20 20 20 20 20 20 20 20 20 20 ...\n",
      " $ phylum_name               : chr  \"Arthropoda\" \"Arthropoda\" \"Arthropoda\" \"Arthropoda\" ...\n",
      " $ class_taxID               : int  82 82 82 82 82 82 82 82 82 82 ...\n",
      " $ class_name                : chr  \"Insecta\" \"Insecta\" \"Insecta\" \"Insecta\" ...\n",
      " $ order_taxID               : int  127 127 127 127 127 127 127 127 127 127 ...\n",
      " $ order_name                : chr  \"Diptera\" \"Diptera\" \"Diptera\" \"Diptera\" ...\n",
      " $ family_taxID              : int  1823 567 567 567 567 567 567 567 567 567 ...\n",
      " $ family_name               : chr  \"Syrphidae\" \"Ceratopogonidae\" \"Ceratopogonidae\" \"Ceratopogonidae\" ...\n",
      " $ subfamily_taxID           : int  5924 237167 237167 237167 237167 237167 237167 237167 237167 237167 ...\n",
      " $ subfamily_name            : chr  \"Syrphinae\" \"Ceratopogoninae\" \"Ceratopogoninae\" \"Ceratopogoninae\" ...\n",
      " $ genus_taxID               : int  79311 2403 2403 2403 2403 2403 2403 2403 2403 2403 ...\n",
      " $ genus_name                : chr  \"Ischiodon\" \"Culicoides\" \"Culicoides\" \"Culicoides\" ...\n",
      " $ species_taxID             : int  171028 919728 682519 650500 27425 919732 27425 27425 27425 27425 ...\n",
      " $ species_name              : chr  \"Ischiodon aegyptius\" \"Culicoides sp. G HB-2016\" \"Culicoides shaklawensis\" \"Culicoides jumineri\" ...\n",
      " $ subspecies_taxID          : int  NA NA NA NA NA NA NA NA NA NA ...\n",
      " $ subspecies_name           : chr  NA NA NA NA ...\n",
      " $ identification_provided_by: chr  NA NA NA NA ...\n",
      " $ identification_method     : logi  NA NA NA NA NA NA ...\n",
      " $ identification_reference  : chr  \"Wiedemann, 1830\" NA NA NA ...\n",
      " $ tax_note                  : logi  NA NA NA NA NA NA ...\n",
      " $ voucher_status            : chr  NA NA NA NA ...\n",
      " $ tissue_type               : chr  NA NA NA NA ...\n",
      " $ collection_event_id       : logi  NA NA NA NA NA NA ...\n",
      " $ collectors                : chr  NA NA NA NA ...\n",
      " $ collectiondate_start      : logi  NA NA NA NA NA NA ...\n",
      " $ collectiondate_end        : logi  NA NA NA NA NA NA ...\n",
      " $ collectiontime            : logi  NA NA NA NA NA NA ...\n",
      " $ collection_note           : chr  NA NA NA NA ...\n",
      " $ site_code                 : chr  NA NA NA NA ...\n",
      " $ sampling_protocol         : chr  NA NA NA NA ...\n",
      " $ lifestage                 : chr  NA NA NA NA ...\n",
      " $ sex                       : chr  NA NA NA NA ...\n",
      " $ reproduction              : chr  NA NA NA NA ...\n",
      " $ habitat                   : chr  NA NA NA NA ...\n",
      " $ associated_specimens      : chr  NA NA NA NA ...\n",
      " $ associated_taxa           : chr  NA NA NA NA ...\n",
      " $ extrainfo                 : chr  NA NA NA NA ...\n",
      " $ notes                     : chr  NA NA NA NA ...\n",
      " $ lat                       : num  35.9 NA NA NA NA NA NA NA NA NA ...\n",
      " $ lon                       : num  0.72 NA NA NA NA NA NA NA NA NA ...\n",
      " $ coord_source              : chr  NA NA NA NA ...\n",
      " $ coord_accuracy            : logi  NA NA NA NA NA NA ...\n",
      " $ elev                      : num  NA NA NA NA NA NA NA NA NA NA ...\n",
      " $ depth                     : logi  NA NA NA NA NA NA ...\n",
      " $ elev_accuracy             : int  NA NA NA NA NA NA NA NA NA NA ...\n",
      " $ depth_accuracy            : logi  NA NA NA NA NA NA ...\n",
      " $ country                   : chr  \"Algeria\" \"Algeria\" \"Algeria\" \"Algeria\" ...\n",
      " $ province_state            : chr  NA NA NA NA ...\n",
      " $ region                    : chr  NA NA NA NA ...\n",
      " $ sector                    : chr  NA NA NA NA ...\n",
      " $ exactsite                 : chr  NA NA NA NA ...\n",
      " $ image_ids                 : int  NA NA NA NA NA NA NA NA NA NA ...\n",
      " $ image_urls                : chr  NA NA NA NA ...\n",
      " $ media_descriptors         : chr  NA NA NA NA ...\n",
      " $ captions                  : chr  NA NA NA NA ...\n",
      " $ copyright_holders         : chr  NA NA NA NA ...\n",
      " $ copyright_years           : int  NA NA NA NA NA NA NA NA NA NA ...\n",
      " $ copyright_licenses        : chr  NA NA NA NA ...\n",
      " $ copyright_institutions    : chr  NA NA NA NA ...\n",
      " $ photographers             : chr  NA NA NA NA ...\n",
      " $ sequenceID                : int  11667402 11742976 11742969 11742967 11742961 11742973 11742374 11742375 11742377 11742942 ...\n",
      " $ markercode                : chr  \"COI-5P\" \"COI-5P\" \"COI-5P\" \"COI-5P\" ...\n",
      " $ genbank_accession         : chr  \"MF446534\" \"KX853282\" \"KX853251\" \"KX853243\" ...\n",
      " $ nucleotides               : chr  \"GGAACATGAGCTGGAATAGTAGGAACATCTCTAAGAATTTTAATTCGTGCAGAACTTGGACATCCAGGAGCTTTAATTGGAGATGATCAAATTTATAACGTAATTGTAACA\"| __truncated__ \"TCCAATCATATTAGGGTCTCCAGATATAGCATTTCCTCGTATAAATAATATAAGATTTTGATTATTACCTCCATCATTATCATTATTATTATTATCATCTATATCAGAAAT\"| __truncated__ \"CCCATTAATATTAGGAGCCCCTGATATAGCCTTTCCGCGTATAAATAATATAAGATTTTGAATACTCCCCCCTTCTTTATCACTATTATTAGTTAGAAGCTTAGTAGAAAA\"| __truncated__ \"CCCCCTAATATTAGGGGCCCCTGATATAGCTTTTCCCCGAATAAATAATATAAGATTCTGAATACTCCCTCCTTCTCTTTCTCTTCTATTAGTTAGAAGTTTAGTAGAAAA\"| __truncated__ ...\n",
      " $ trace_ids                 : int  NA NA NA NA NA NA NA NA NA NA ...\n",
      " $ trace_names               : chr  NA NA NA NA ...\n",
      " $ trace_links               : chr  NA NA NA NA ...\n",
      " $ run_dates                 : chr  NA NA NA NA ...\n",
      " $ sequencing_centers        : chr  NA NA NA NA ...\n",
      " $ directions                : chr  NA NA NA NA ...\n",
      " $ seq_primers               : chr  NA NA NA NA ...\n",
      " $ marker_codes              : chr  NA NA NA NA ...\n"
     ]
    }
   ],
   "source": [
    "str(bold_dataframe)"
   ]
  },
  {
   "cell_type": "markdown",
   "metadata": {},
   "source": [
    "## **Taking a closer look at the bold_dataframe$nucleotides field**\n",
    "Introducing a field \"seqlen1\" that has the number of nucleotides in the COI_data"
   ]
  },
  {
   "cell_type": "code",
   "execution_count": 4,
   "metadata": {},
   "outputs": [],
   "source": [
    "bold_data = subset(bold_dataframe, !is.na(nucleotides))\n",
    "bold_data %>% mutate(seqlen1 = nchar(nucleotides)) -> resulting_dataframe1 "
   ]
  },
  {
   "cell_type": "markdown",
   "metadata": {},
   "source": [
    "## **REMOVING '-'characters from nucleotide sequences and creating a field of unalinged nucleotide sequences**\n",
    "(resulting_dataframe2$unaligned_nucleotides)\n"
   ]
  },
  {
   "cell_type": "code",
   "execution_count": 5,
   "metadata": {},
   "outputs": [],
   "source": [
    "resulting_dataframe1 %>% mutate(unaligned_nucleotides = gsub('-', '', resulting_dataframe1$nucleotides, ignore.case = FALSE, perl = FALSE, fixed = FALSE, useBytes = FALSE)) -> resulting_dataframe2 "
   ]
  },
  {
   "cell_type": "markdown",
   "metadata": {},
   "source": [
    "## **Introducing a field seqlen2 with number nucleotides in resulting_dataframe2$unaligned_nucleotides field**\n"
   ]
  },
  {
   "cell_type": "code",
   "execution_count": 6,
   "metadata": {},
   "outputs": [],
   "source": [
    "resulting_dataframe2 %>% mutate(seqlen2 = nchar(unaligned_nucleotides)) -> resulting_dataframe3 "
   ]
  },
  {
   "cell_type": "markdown",
   "metadata": {},
   "source": [
    "## **Taking a closer look at resulting_dataframe3$markercode**\n",
    "Filtering records corresponding to COI-5P markers"
   ]
  },
  {
   "cell_type": "code",
   "execution_count": 8,
   "metadata": {},
   "outputs": [],
   "source": [
    "COI_data = subset(resulting_dataframe3, \n",
    "                  markercode == \"COI-5P\" & !is.na(nucleotides))\n",
    "non_COI_data = subset(resulting_dataframe3, \n",
    "                      markercode != \"COI-5P\" & !is.na(nucleotides))"
   ]
  },
  {
   "cell_type": "markdown",
   "metadata": {},
   "source": [
    "## **Generating a file with all 'COI-5P' sequences**"
   ]
  },
  {
   "cell_type": "code",
   "execution_count": 9,
   "metadata": {},
   "outputs": [
    {
     "name": "stdout",
     "output_type": "stream",
     "text": [
      "\n",
      "Of all 81302 retrieved records,  77892  sequences have 'COI-5P' marker.  These are the only ones retained for downstream analysis::\n"
     ]
    }
   ],
   "source": [
    "COI_data -> COI_all_data\n",
    "cat(\"\\nOf all\",nrow(bold_dataframe), \"retrieved records, \",\n",
    "    length(COI_all_data$unaligned_nucleotides), \" sequences have 'COI-5P' marker.\",\n",
    "    \" These are the only ones retained for downstream analysis::\\n\")"
   ]
  },
  {
   "cell_type": "markdown",
   "metadata": {},
   "source": [
    "## **Introducing a filter to remove sequences with less than 500 nucleotides**"
   ]
  },
  {
   "cell_type": "code",
   "execution_count": 11,
   "metadata": {},
   "outputs": [
    {
     "name": "stdout",
     "output_type": "stream",
     "text": [
      "\t 32351 sequences have 500 or more nucleotide bases\n"
     ]
    }
   ],
   "source": [
    "COI_all_data %>% filter(seqlen2 >= 500 ) -> COI_Over499_data\n",
    "cat(\"\\t\",length(COI_Over499_data$unaligned_nucleotides),\n",
    "    \"sequences have 500 or more nucleotide bases\\n\")"
   ]
  },
  {
   "cell_type": "markdown",
   "metadata": {},
   "source": [
    "## **Introducing a filter to remove any sequence with less than 500 and more than 700 nucleotides**\n"
   ]
  },
  {
   "cell_type": "code",
   "execution_count": 12,
   "metadata": {},
   "outputs": [
    {
     "name": "stdout",
     "output_type": "stream",
     "text": [
      "\t 32302 sequences have 500 to 700 bases\n"
     ]
    }
   ],
   "source": [
    "COI_all_data %>% filter(seqlen2 >= 500 & seqlen2 <= 700) -> COI_500to700_data\n",
    "cat(\"\\t\",length(COI_500to700_data$unaligned_nucleotides),\n",
    "    \"sequences have 500 to 700 bases\\n\")"
   ]
  },
  {
   "cell_type": "markdown",
   "metadata": {},
   "source": [
    "## **Introducing a filter to remove any sequence with less than 650 and over 660 nucleotides**"
   ]
  },
  {
   "cell_type": "code",
   "execution_count": 13,
   "metadata": {},
   "outputs": [
    {
     "name": "stdout",
     "output_type": "stream",
     "text": [
      "\t 4415 sequences have 650 to 660 bases\n"
     ]
    }
   ],
   "source": [
    "COI_all_data %>% filter(seqlen2 >= 650 & seqlen2 <= 660) -> COI_650to660_data\n",
    "cat(\"\\t\",length(COI_650to660_data$unaligned_nucleotides),\n",
    "    \"sequences have 650 to 660 bases\\n\") "
   ]
  },
  {
   "cell_type": "markdown",
   "metadata": {},
   "source": [
    "## **Introducing a filter to remove any sequence with over 500 nucleotides**"
   ]
  },
  {
   "cell_type": "code",
   "execution_count": 14,
   "metadata": {},
   "outputs": [
    {
     "name": "stdout",
     "output_type": "stream",
     "text": [
      "\t 902 sequences have less than 500 bases\n"
     ]
    }
   ],
   "source": [
    "COI_all_data %>% filter(seqlen2 < 500) -> COI_Under500_data\n",
    "cat(\"\\t\",length(COI_Under500_data$unaligned_nucleotides),\n",
    "    \"sequences have less than 500 bases\\n\")"
   ]
  },
  {
   "cell_type": "markdown",
   "metadata": {},
   "source": [
    "## **Introducing a filter to remove any sequence with less than 700 nucleotides**"
   ]
  },
  {
   "cell_type": "code",
   "execution_count": 15,
   "metadata": {},
   "outputs": [
    {
     "name": "stdout",
     "output_type": "stream",
     "text": [
      "\t 49 sequences have more than 700 bases\n"
     ]
    }
   ],
   "source": [
    "COI_all_data %>% filter(seqlen2 > 700) -> COI_Over700_data\n",
    "cat(\"\\t\",length(COI_Over700_data$unaligned_nucleotides),\n",
    "    \"sequences have more than 700 bases\\n\")"
   ]
  },
  {
   "cell_type": "markdown",
   "metadata": {},
   "source": [
    "## **Assessing those with geographical coordinates**"
   ]
  },
  {
   "cell_type": "code",
   "execution_count": 19,
   "metadata": {},
   "outputs": [
    {
     "name": "stdout",
     "output_type": "stream",
     "text": [
      "\t 1750 records lack latitude co-ordinates \n",
      "\t 1750 records lack longitude co-ordinates"
     ]
    }
   ],
   "source": [
    "cat( \"\\t\", nrow(subset (COI_all_data, is.na(lat))), \"records lack latitude co-ordinates \\n\\t\",\n",
    "    nrow(subset (COI_all_data, is.na(lon))), \"records lack longitude co-ordinates\")"
   ]
  },
  {
   "cell_type": "markdown",
   "metadata": {},
   "source": [
    "## **Summary**"
   ]
  },
  {
   "cell_type": "code",
   "execution_count": 37,
   "metadata": {},
   "outputs": [
    {
     "name": "stdout",
     "output_type": "stream",
     "text": [
      "\n",
      " 33253 records have COI-5P marker sequences 43 have non-COI-5P markersequences 185 lack nucleotide sequence values (is.na(nucleotides))"
     ]
    }
   ],
   "source": [
    "cat( \"\\n\", nrow(COI_data), \"records have COI-5P marker sequences\",\n",
    "    nrow(subset(bold_dataframe, markercode != \"COI-5P\")),\n",
    "    \"have non-COI-5P markersequences\",\n",
    "    nrow(subset(bold_dataframe,  is.na(nucleotides) )),\n",
    "    \"lack nucleotide sequence values (is.na(nucleotides))\")"
   ]
  },
  {
   "cell_type": "markdown",
   "metadata": {},
   "source": [
    "## **Printing copies of the final tidy files as dataframes in .tsv format**"
   ]
  },
  {
   "cell_type": "code",
   "execution_count": null,
   "metadata": {},
   "outputs": [],
   "source": [
    "output_list = c(\"COI_all_data\", \"non_COI_data\", \"COI_Over499_data\", \"COI_500to700_data\", \"COI_650to660_data\", \"COI_Over700_data\", \"COI_Under500_data\")\n",
    "output_list_names = c(\"_all_data\", \"_NonCOI_data\", \"_Over499_data\", \"_500to700_data\", \"_650to660_data\", \"_Over700_data\", \"_Under500_data\")\n",
    "\n",
    "datalist = lapply(output_list, get)\n",
    "names(datalist) <- paste(input_src,\"/\", filename, output_list_names, sep= \"\" )\n",
    "for (i in 1:length(datalist)) {write.table(datalist[i], file = paste(names(datalist[i]), \".tsv\", sep = \"\"), row.names = FALSE, col.names= TRUE, sep = \"\\t\", quote=FALSE)}"
   ]
  }
 ],
 "metadata": {
  "kernelspec": {
   "display_name": "R",
   "language": "R",
   "name": "ir"
  },
  "language_info": {
   "codemirror_mode": "r",
   "file_extension": ".r",
   "mimetype": "text/x-r-source",
   "name": "R",
   "pygments_lexer": "r",
   "version": "4.0.3"
  }
 },
 "nbformat": 4,
 "nbformat_minor": 2
}
