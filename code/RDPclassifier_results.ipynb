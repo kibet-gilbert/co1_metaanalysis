{
 "cells": [
  {
   "cell_type": "markdown",
   "metadata": {},
   "source": [
    "# **Analysis of RDPclassifier analysis results**  \n",
    "Here we set out to understand the output of RDPclassifier taxonomic classification on our dataset in Order Diptera  \n",
    "### **Setting up the environment**\n",
    "1. **Setting the working directory**"
   ]
  },
  {
   "cell_type": "code",
   "execution_count": 5,
   "metadata": {},
   "outputs": [
    {
     "data": {
      "text/html": [
       "'/home/kibet/bioinformatics/github/co1_metaanalysis/data/input/diptera_13012021'"
      ],
      "text/latex": [
       "'/home/kibet/bioinformatics/github/co1\\_metaanalysis/data/input/diptera\\_13012021'"
      ],
      "text/markdown": [
       "'/home/kibet/bioinformatics/github/co1_metaanalysis/data/input/diptera_13012021'"
      ],
      "text/plain": [
       "[1] \"/home/kibet/bioinformatics/github/co1_metaanalysis/data/input/diptera_13012021\""
      ]
     },
     "metadata": {},
     "output_type": "display_data"
    },
    {
     "data": {
      "text/html": [
       "'/home/kibet/bioinformatics/github/co1_metaanalysis/data/input/diptera_13012021'"
      ],
      "text/latex": [
       "'/home/kibet/bioinformatics/github/co1\\_metaanalysis/data/input/diptera\\_13012021'"
      ],
      "text/markdown": [
       "'/home/kibet/bioinformatics/github/co1_metaanalysis/data/input/diptera_13012021'"
      ],
      "text/plain": [
       "[1] \"/home/kibet/bioinformatics/github/co1_metaanalysis/data/input/diptera_13012021\""
      ]
     },
     "metadata": {},
     "output_type": "display_data"
    }
   ],
   "source": [
    "getwd()\n",
    "setwd(\"/home/kibet/bioinformatics/github/co1_metaanalysis/data/input/diptera_13012021\")\n",
    "getwd()"
   ]
  },
  {
   "cell_type": "markdown",
   "metadata": {},
   "source": [
    "2. **Loading packages**"
   ]
  },
  {
   "cell_type": "code",
   "execution_count": 6,
   "metadata": {},
   "outputs": [
    {
     "name": "stdout",
     "output_type": "stream",
     "text": [
      "\n",
      "Checking if needed packages are installed... tidyverse packages: 'ggplot2','dplyr' and 'magrittr' and 'tools'\n",
      "Excellent tidyverse already installed.\n",
      "proceeding with summary analysis of RDPclassifier results...\n"
     ]
    },
    {
     "data": {
      "text/html": [
       "'tsv'"
      ],
      "text/latex": [
       "'tsv'"
      ],
      "text/markdown": [
       "'tsv'"
      ],
      "text/plain": [
       "[1] \"tsv\""
      ]
     },
     "metadata": {},
     "output_type": "display_data"
    },
    {
     "data": {
      "text/html": [
       "'diptera_13012021_all_data_unpublished_Diptera_dgpd_taxa'"
      ],
      "text/latex": [
       "'diptera\\_13012021\\_all\\_data\\_unpublished\\_Diptera\\_dgpd\\_taxa'"
      ],
      "text/markdown": [
       "'diptera_13012021_all_data_unpublished_Diptera_dgpd_taxa'"
      ],
      "text/plain": [
       "[1] \"diptera_13012021_all_data_unpublished_Diptera_dgpd_taxa\""
      ]
     },
     "metadata": {},
     "output_type": "display_data"
    },
    {
     "data": {
      "text/html": [
       "'/home/kibet/bioinformatics/github/co1_metaanalysis/data/input/diptera_13012021/diptera_13012021_all_data_unpublished_Diptera_dgpd_taxa.tsv'"
      ],
      "text/latex": [
       "'/home/kibet/bioinformatics/github/co1\\_metaanalysis/data/input/diptera\\_13012021/diptera\\_13012021\\_all\\_data\\_unpublished\\_Diptera\\_dgpd\\_taxa.tsv'"
      ],
      "text/markdown": [
       "'/home/kibet/bioinformatics/github/co1_metaanalysis/data/input/diptera_13012021/diptera_13012021_all_data_unpublished_Diptera_dgpd_taxa.tsv'"
      ],
      "text/plain": [
       "[1] \"/home/kibet/bioinformatics/github/co1_metaanalysis/data/input/diptera_13012021/diptera_13012021_all_data_unpublished_Diptera_dgpd_taxa.tsv\""
      ]
     },
     "metadata": {},
     "output_type": "display_data"
    },
    {
     "data": {
      "text/html": [
       "'/home/kibet/bioinformatics/github/co1_metaanalysis/data/input/diptera_13012021'"
      ],
      "text/latex": [
       "'/home/kibet/bioinformatics/github/co1\\_metaanalysis/data/input/diptera\\_13012021'"
      ],
      "text/markdown": [
       "'/home/kibet/bioinformatics/github/co1_metaanalysis/data/input/diptera_13012021'"
      ],
      "text/plain": [
       "[1] \"/home/kibet/bioinformatics/github/co1_metaanalysis/data/input/diptera_13012021\""
      ]
     },
     "metadata": {},
     "output_type": "display_data"
    },
    {
     "data": {
      "text/html": [
       "'diptera_13012021_all_data_unpublished_Diptera_dgpd_taxa.tsv'"
      ],
      "text/latex": [
       "'diptera\\_13012021\\_all\\_data\\_unpublished\\_Diptera\\_dgpd\\_taxa.tsv'"
      ],
      "text/markdown": [
       "'diptera_13012021_all_data_unpublished_Diptera_dgpd_taxa.tsv'"
      ],
      "text/plain": [
       "[1] \"diptera_13012021_all_data_unpublished_Diptera_dgpd_taxa.tsv\""
      ]
     },
     "metadata": {},
     "output_type": "display_data"
    },
    {
     "data": {
      "text/html": [
       "'/home/kibet/bioinformatics/github/co1_metaanalysis/data/input/diptera_13012021'"
      ],
      "text/latex": [
       "'/home/kibet/bioinformatics/github/co1\\_metaanalysis/data/input/diptera\\_13012021'"
      ],
      "text/markdown": [
       "'/home/kibet/bioinformatics/github/co1_metaanalysis/data/input/diptera_13012021'"
      ],
      "text/plain": [
       "[1] \"/home/kibet/bioinformatics/github/co1_metaanalysis/data/input/diptera_13012021\""
      ]
     },
     "metadata": {},
     "output_type": "display_data"
    },
    {
     "data": {
      "text/html": [
       "'/home/kibet/bioinformatics/github/co1_metaanalysis/data/input/diptera_13012021'"
      ],
      "text/latex": [
       "'/home/kibet/bioinformatics/github/co1\\_metaanalysis/data/input/diptera\\_13012021'"
      ],
      "text/markdown": [
       "'/home/kibet/bioinformatics/github/co1_metaanalysis/data/input/diptera_13012021'"
      ],
      "text/plain": [
       "[1] \"/home/kibet/bioinformatics/github/co1_metaanalysis/data/input/diptera_13012021\""
      ]
     },
     "metadata": {},
     "output_type": "display_data"
    }
   ],
   "source": [
    "cat(\"\\nChecking if needed packages are installed... tidyverse packages: 'ggplot2','dplyr' and 'magrittr' and 'tools'\")\n",
    "if(\"tidyverse\" %in% rownames(installed.packages()) == FALSE) {\n",
    "        install.packages(\"tidyverse\")\n",
    "} else {\n",
    "        cat(\"\\nExcellent tidyverse already installed.\\nproceeding with summary analysis of RDPclassifier results...\\n\")\n",
    "\t## loading dplyr, ggplot2 and magrittr packages\n",
    "    suppressMessages(library(dplyr))\n",
    "    suppressMessages(library(ggplot2))\n",
    "    suppressMessages(library(magrittr))\n",
    "    suppressMessages(library(tools))\n",
    "}\n",
    "filename_ext = file_ext(\"diptera_13012021_all_data_unpublished_Diptera_dgpd_taxa.tsv\")\n",
    "filename_ext\n",
    "filename = file_path_sans_ext(\"diptera_13012021_all_data_unpublished_Diptera_dgpd_taxa.tsv\")\n",
    "filename\n",
    "file_path_as_absolute(\"diptera_13012021_all_data_unpublished_Diptera_dgpd_taxa.tsv\")\n",
    "workingdir=getwd()\n",
    "workingdir\n",
    "basename(\"diptera_13012021_all_data_unpublished_Diptera_dgpd_taxa.tsv\")\n",
    "input_src=dirname(file_path_as_absolute(\"diptera_13012021_all_data_unpublished_Diptera_dgpd_taxa.tsv\"))\n",
    "input_src\n",
    "setwd(input_src)\n",
    "getwd()"
   ]
  },
  {
   "cell_type": "markdown",
   "metadata": {},
   "source": [
    "3. **Loading Data**"
   ]
  },
  {
   "cell_type": "code",
   "execution_count": 7,
   "metadata": {},
   "outputs": [
    {
     "name": "stdout",
     "output_type": "stream",
     "text": [
      "diptera_13012021_all_data_unpublished_Diptera_dgpd_taxa'data.frame':\t84593 obs. of  34 variables:\n",
      " $ Process_ID         : chr  \"GBDP32377-19(MF446534)\" \"GBDP32805-19(KX853282)\" \"GBDP32808-19(KX853251)\" \"GBDP32817-19(KX853243)\" ...\n",
      " $ Phylum             : chr  \"Arthropoda\" \"Arthropoda\" \"Arthropoda\" \"Arthropoda\" ...\n",
      " $ Class              : chr  \"Insecta\" \"Insecta\" \"Insecta\" \"Insecta\" ...\n",
      " $ Order              : chr  \"Diptera\" \"Diptera\" \"Diptera\" \"Diptera\" ...\n",
      " $ Family             : chr  \"Syrphidae\" \"Ceratopogonidae\" \"Ceratopogonidae\" \"Ceratopogonidae\" ...\n",
      " $ Subfamily          : chr  \"Syrphinae\" \"Ceratopogoninae\" \"Ceratopogoninae\" \"Ceratopogoninae\" ...\n",
      " $ Tribe              : chr  NA NA NA NA ...\n",
      " $ Genus              : chr  \"Ischiodon\" \"Culicoides\" \"Culicoides\" \"Culicoides\" ...\n",
      " $ Species            : chr  \"Ischiodon_aegyptius\" \"Culicoides_sp._G_HB-2016\" \"Culicoides_shaklawensis\" \"Culicoides_jumineri\" ...\n",
      " $ Subspecies         : chr  NA NA NA NA ...\n",
      " $ Country            : chr  \"Algeria\" \"Algeria\" \"Algeria\" \"Algeria\" ...\n",
      " $ Exactsite          : chr  NA NA NA NA ...\n",
      " $ Latitude           : num  35.9 NA NA NA NA NA NA NA NA NA ...\n",
      " $ Longitude          : num  0.72 NA NA NA NA NA NA NA NA NA ...\n",
      " $ Elevation          : num  NA NA NA NA NA NA NA NA NA NA ...\n",
      " $ seq_len            : logi  NA NA NA NA NA NA ...\n",
      " $ As_CellularOrganism: chr  \"cellularOrganisms\" \"cellularOrganisms\" \"cellularOrganisms\" \"cellularOrganisms\" ...\n",
      " $ CellularOrganism_sc: chr  \"1.0\" \"1.0\" \"1.0\" \"1.0\" ...\n",
      " $ As_superkingdom    : chr  \"Eukaryota\" \"Eukaryota\" \"Eukaryota\" \"Eukaryota\" ...\n",
      " $ Superkingdom_sc    : chr  \"1.0\" \"1.0\" \"1.0\" \"1.0\" ...\n",
      " $ As_kingdom         : chr  \"Metazoa\" \"Metazoa\" \"Metazoa\" \"Metazoa\" ...\n",
      " $ Kingdom_sc         : chr  \"1.0\" \"0.99\" \"1.0\" \"1.0\" ...\n",
      " $ As_phylum          : chr  \"Arthropoda\" \"Arthropoda\" \"Arthropoda\" \"Arthropoda\" ...\n",
      " $ Phylum_sc          : chr  \"1.0\" \"0.96\" \"1.0\" \"0.99\" ...\n",
      " $ As_class           : chr  \"Insecta\" \"Insecta\" \"Insecta\" \"Insecta\" ...\n",
      " $ Class_sc           : chr  \"1.0\" \"0.92\" \"1.0\" \"0.98\" ...\n",
      " $ As_order           : chr  \"Diptera\" \"Diptera\" \"Diptera\" \"Diptera\" ...\n",
      " $ Order_sc           : chr  \"1.0\" \"0.08\" \"0.55\" \"0.77\" ...\n",
      " $ As_family          : chr  \"Syrphidae\" \"Psychodidae\" \"Ceratopogonidae\" \"Ceratopogonidae\" ...\n",
      " $ Family_sc          : chr  \"1.0\" \"0.04\" \"0.16\" \"0.31\" ...\n",
      " $ As_genus           : chr  \"Ischiodon\" \"Micropygomyia\" \"Culicoides\" \"Culicoides\" ...\n",
      " $ Genus_sc           : chr  \"1.0\" \"0.04\" \"0.16\" \"0.31\" ...\n",
      " $ As_species         : chr  \"Ischiodon_aegyptius\" \"Micropygomyia_chassigneti\" \"Culicoides_matsuzawai\" \"Culicoides_verbosus\" ...\n",
      " $ Species_sc         : num  1 0.04 0.05 0.1 0.09 0.01 0.04 0.04 0.04 0.04 ...\n"
     ]
    }
   ],
   "source": [
    "cat(filename)\n",
    "df_taxa = read.delim(\"diptera_13012021_all_data_unpublished_Diptera_dgpd_taxa.tsv\", sep = \"\\t\", stringsAsFactors = F, dec = \".\", header = T) \n",
    "str(df_taxa)"
   ]
  },
  {
   "cell_type": "code",
   "execution_count": 8,
   "metadata": {},
   "outputs": [
    {
     "data": {
      "text/html": [
       "<table>\n",
       "<caption>A data.frame: 527 × 2</caption>\n",
       "<thead>\n",
       "\t<tr><th scope=col>Var1</th><th scope=col>Freq</th></tr>\n",
       "\t<tr><th scope=col>&lt;fct&gt;</th><th scope=col>&lt;int&gt;</th></tr>\n",
       "</thead>\n",
       "<tbody>\n",
       "\t<tr><td>0.0 </td><td>  79</td></tr>\n",
       "\t<tr><td>0.01</td><td> 195</td></tr>\n",
       "\t<tr><td>0.02</td><td> 415</td></tr>\n",
       "\t<tr><td>0.03</td><td> 595</td></tr>\n",
       "\t<tr><td>0.04</td><td>1082</td></tr>\n",
       "\t<tr><td>0.05</td><td>1096</td></tr>\n",
       "\t<tr><td>0.06</td><td>1627</td></tr>\n",
       "\t<tr><td>0.07</td><td>1302</td></tr>\n",
       "\t<tr><td>0.08</td><td>1252</td></tr>\n",
       "\t<tr><td>0.09</td><td>1191</td></tr>\n",
       "\t<tr><td>0.1 </td><td>1369</td></tr>\n",
       "\t<tr><td>0.11</td><td>1377</td></tr>\n",
       "\t<tr><td>0.12</td><td>1397</td></tr>\n",
       "\t<tr><td>0.13</td><td>1211</td></tr>\n",
       "\t<tr><td>0.14</td><td>1238</td></tr>\n",
       "\t<tr><td>0.15</td><td>1036</td></tr>\n",
       "\t<tr><td>0.16</td><td>1154</td></tr>\n",
       "\t<tr><td>0.17</td><td> 919</td></tr>\n",
       "\t<tr><td>0.18</td><td> 897</td></tr>\n",
       "\t<tr><td>0.19</td><td> 793</td></tr>\n",
       "\t<tr><td>0.2 </td><td> 835</td></tr>\n",
       "\t<tr><td>0.21</td><td> 897</td></tr>\n",
       "\t<tr><td>0.22</td><td> 713</td></tr>\n",
       "\t<tr><td>0.23</td><td> 689</td></tr>\n",
       "\t<tr><td>0.24</td><td> 860</td></tr>\n",
       "\t<tr><td>0.25</td><td> 992</td></tr>\n",
       "\t<tr><td>0.26</td><td> 729</td></tr>\n",
       "\t<tr><td>0.27</td><td> 786</td></tr>\n",
       "\t<tr><td>0.28</td><td> 598</td></tr>\n",
       "\t<tr><td>0.29</td><td> 699</td></tr>\n",
       "\t<tr><td>⋮</td><td>⋮</td></tr>\n",
       "\t<tr><td>Topomyia        </td><td> 4</td></tr>\n",
       "\t<tr><td>Toxomerus       </td><td>18</td></tr>\n",
       "\t<tr><td>Toxonevra       </td><td>14</td></tr>\n",
       "\t<tr><td>Toxorhynchites  </td><td> 1</td></tr>\n",
       "\t<tr><td>Trichopeza      </td><td> 2</td></tr>\n",
       "\t<tr><td>Trichopygomyia  </td><td> 1</td></tr>\n",
       "\t<tr><td>Trichosia       </td><td>72</td></tr>\n",
       "\t<tr><td>Tricimba        </td><td> 3</td></tr>\n",
       "\t<tr><td>Tricyclea       </td><td> 6</td></tr>\n",
       "\t<tr><td>Triphleba       </td><td> 1</td></tr>\n",
       "\t<tr><td>Trisetacus      </td><td> 1</td></tr>\n",
       "\t<tr><td>Tritoxa         </td><td> 1</td></tr>\n",
       "\t<tr><td>Trupanea        </td><td> 1</td></tr>\n",
       "\t<tr><td>Tuberculanostoma</td><td> 1</td></tr>\n",
       "\t<tr><td>Tvetenia        </td><td>28</td></tr>\n",
       "\t<tr><td>Ulomyia         </td><td> 3</td></tr>\n",
       "\t<tr><td>undef_Phoridae  </td><td>90</td></tr>\n",
       "\t<tr><td>Uramya          </td><td>30</td></tr>\n",
       "\t<tr><td>Uranotaenia     </td><td> 2</td></tr>\n",
       "\t<tr><td>Verticia        </td><td> 2</td></tr>\n",
       "\t<tr><td>Viridivora      </td><td> 1</td></tr>\n",
       "\t<tr><td>Warileya        </td><td> 1</td></tr>\n",
       "\t<tr><td>Winnertzia      </td><td> 2</td></tr>\n",
       "\t<tr><td>Wohlfahrtia     </td><td> 8</td></tr>\n",
       "\t<tr><td>Xanthandrus     </td><td> 2</td></tr>\n",
       "\t<tr><td>Xylosciara      </td><td> 3</td></tr>\n",
       "\t<tr><td>Yponomeuta      </td><td> 2</td></tr>\n",
       "\t<tr><td>Zaprionus       </td><td>43</td></tr>\n",
       "\t<tr><td>Zinaida         </td><td> 1</td></tr>\n",
       "\t<tr><td>Zygoneura       </td><td> 2</td></tr>\n",
       "</tbody>\n",
       "</table>\n"
      ],
      "text/latex": [
       "A data.frame: 527 × 2\n",
       "\\begin{tabular}{ll}\n",
       " Var1 & Freq\\\\\n",
       " <fct> & <int>\\\\\n",
       "\\hline\n",
       "\t 0.0  &   79\\\\\n",
       "\t 0.01 &  195\\\\\n",
       "\t 0.02 &  415\\\\\n",
       "\t 0.03 &  595\\\\\n",
       "\t 0.04 & 1082\\\\\n",
       "\t 0.05 & 1096\\\\\n",
       "\t 0.06 & 1627\\\\\n",
       "\t 0.07 & 1302\\\\\n",
       "\t 0.08 & 1252\\\\\n",
       "\t 0.09 & 1191\\\\\n",
       "\t 0.1  & 1369\\\\\n",
       "\t 0.11 & 1377\\\\\n",
       "\t 0.12 & 1397\\\\\n",
       "\t 0.13 & 1211\\\\\n",
       "\t 0.14 & 1238\\\\\n",
       "\t 0.15 & 1036\\\\\n",
       "\t 0.16 & 1154\\\\\n",
       "\t 0.17 &  919\\\\\n",
       "\t 0.18 &  897\\\\\n",
       "\t 0.19 &  793\\\\\n",
       "\t 0.2  &  835\\\\\n",
       "\t 0.21 &  897\\\\\n",
       "\t 0.22 &  713\\\\\n",
       "\t 0.23 &  689\\\\\n",
       "\t 0.24 &  860\\\\\n",
       "\t 0.25 &  992\\\\\n",
       "\t 0.26 &  729\\\\\n",
       "\t 0.27 &  786\\\\\n",
       "\t 0.28 &  598\\\\\n",
       "\t 0.29 &  699\\\\\n",
       "\t ⋮ & ⋮\\\\\n",
       "\t Topomyia         &  4\\\\\n",
       "\t Toxomerus        & 18\\\\\n",
       "\t Toxonevra        & 14\\\\\n",
       "\t Toxorhynchites   &  1\\\\\n",
       "\t Trichopeza       &  2\\\\\n",
       "\t Trichopygomyia   &  1\\\\\n",
       "\t Trichosia        & 72\\\\\n",
       "\t Tricimba         &  3\\\\\n",
       "\t Tricyclea        &  6\\\\\n",
       "\t Triphleba        &  1\\\\\n",
       "\t Trisetacus       &  1\\\\\n",
       "\t Tritoxa          &  1\\\\\n",
       "\t Trupanea         &  1\\\\\n",
       "\t Tuberculanostoma &  1\\\\\n",
       "\t Tvetenia         & 28\\\\\n",
       "\t Ulomyia          &  3\\\\\n",
       "\t undef\\_Phoridae   & 90\\\\\n",
       "\t Uramya           & 30\\\\\n",
       "\t Uranotaenia      &  2\\\\\n",
       "\t Verticia         &  2\\\\\n",
       "\t Viridivora       &  1\\\\\n",
       "\t Warileya         &  1\\\\\n",
       "\t Winnertzia       &  2\\\\\n",
       "\t Wohlfahrtia      &  8\\\\\n",
       "\t Xanthandrus      &  2\\\\\n",
       "\t Xylosciara       &  3\\\\\n",
       "\t Yponomeuta       &  2\\\\\n",
       "\t Zaprionus        & 43\\\\\n",
       "\t Zinaida          &  1\\\\\n",
       "\t Zygoneura        &  2\\\\\n",
       "\\end{tabular}\n"
      ],
      "text/markdown": [
       "\n",
       "A data.frame: 527 × 2\n",
       "\n",
       "| Var1 &lt;fct&gt; | Freq &lt;int&gt; |\n",
       "|---|---|\n",
       "| 0.0  |   79 |\n",
       "| 0.01 |  195 |\n",
       "| 0.02 |  415 |\n",
       "| 0.03 |  595 |\n",
       "| 0.04 | 1082 |\n",
       "| 0.05 | 1096 |\n",
       "| 0.06 | 1627 |\n",
       "| 0.07 | 1302 |\n",
       "| 0.08 | 1252 |\n",
       "| 0.09 | 1191 |\n",
       "| 0.1  | 1369 |\n",
       "| 0.11 | 1377 |\n",
       "| 0.12 | 1397 |\n",
       "| 0.13 | 1211 |\n",
       "| 0.14 | 1238 |\n",
       "| 0.15 | 1036 |\n",
       "| 0.16 | 1154 |\n",
       "| 0.17 |  919 |\n",
       "| 0.18 |  897 |\n",
       "| 0.19 |  793 |\n",
       "| 0.2  |  835 |\n",
       "| 0.21 |  897 |\n",
       "| 0.22 |  713 |\n",
       "| 0.23 |  689 |\n",
       "| 0.24 |  860 |\n",
       "| 0.25 |  992 |\n",
       "| 0.26 |  729 |\n",
       "| 0.27 |  786 |\n",
       "| 0.28 |  598 |\n",
       "| 0.29 |  699 |\n",
       "| ⋮ | ⋮ |\n",
       "| Topomyia         |  4 |\n",
       "| Toxomerus        | 18 |\n",
       "| Toxonevra        | 14 |\n",
       "| Toxorhynchites   |  1 |\n",
       "| Trichopeza       |  2 |\n",
       "| Trichopygomyia   |  1 |\n",
       "| Trichosia        | 72 |\n",
       "| Tricimba         |  3 |\n",
       "| Tricyclea        |  6 |\n",
       "| Triphleba        |  1 |\n",
       "| Trisetacus       |  1 |\n",
       "| Tritoxa          |  1 |\n",
       "| Trupanea         |  1 |\n",
       "| Tuberculanostoma |  1 |\n",
       "| Tvetenia         | 28 |\n",
       "| Ulomyia          |  3 |\n",
       "| undef_Phoridae   | 90 |\n",
       "| Uramya           | 30 |\n",
       "| Uranotaenia      |  2 |\n",
       "| Verticia         |  2 |\n",
       "| Viridivora       |  1 |\n",
       "| Warileya         |  1 |\n",
       "| Winnertzia       |  2 |\n",
       "| Wohlfahrtia      |  8 |\n",
       "| Xanthandrus      |  2 |\n",
       "| Xylosciara       |  3 |\n",
       "| Yponomeuta       |  2 |\n",
       "| Zaprionus        | 43 |\n",
       "| Zinaida          |  1 |\n",
       "| Zygoneura        |  2 |\n",
       "\n"
      ],
      "text/plain": [
       "    Var1             Freq\n",
       "1   0.0                79\n",
       "2   0.01              195\n",
       "3   0.02              415\n",
       "4   0.03              595\n",
       "5   0.04             1082\n",
       "6   0.05             1096\n",
       "7   0.06             1627\n",
       "8   0.07             1302\n",
       "9   0.08             1252\n",
       "10  0.09             1191\n",
       "11  0.1              1369\n",
       "12  0.11             1377\n",
       "13  0.12             1397\n",
       "14  0.13             1211\n",
       "15  0.14             1238\n",
       "16  0.15             1036\n",
       "17  0.16             1154\n",
       "18  0.17              919\n",
       "19  0.18              897\n",
       "20  0.19              793\n",
       "21  0.2               835\n",
       "22  0.21              897\n",
       "23  0.22              713\n",
       "24  0.23              689\n",
       "25  0.24              860\n",
       "26  0.25              992\n",
       "27  0.26              729\n",
       "28  0.27              786\n",
       "29  0.28              598\n",
       "30  0.29              699\n",
       "⋮   ⋮                ⋮   \n",
       "498 Topomyia          4  \n",
       "499 Toxomerus        18  \n",
       "500 Toxonevra        14  \n",
       "501 Toxorhynchites    1  \n",
       "502 Trichopeza        2  \n",
       "503 Trichopygomyia    1  \n",
       "504 Trichosia        72  \n",
       "505 Tricimba          3  \n",
       "506 Tricyclea         6  \n",
       "507 Triphleba         1  \n",
       "508 Trisetacus        1  \n",
       "509 Tritoxa           1  \n",
       "510 Trupanea          1  \n",
       "511 Tuberculanostoma  1  \n",
       "512 Tvetenia         28  \n",
       "513 Ulomyia           3  \n",
       "514 undef_Phoridae   90  \n",
       "515 Uramya           30  \n",
       "516 Uranotaenia       2  \n",
       "517 Verticia          2  \n",
       "518 Viridivora        1  \n",
       "519 Warileya          1  \n",
       "520 Winnertzia        2  \n",
       "521 Wohlfahrtia       8  \n",
       "522 Xanthandrus       2  \n",
       "523 Xylosciara        3  \n",
       "524 Yponomeuta        2  \n",
       "525 Zaprionus        43  \n",
       "526 Zinaida           1  \n",
       "527 Zygoneura         2  "
      ]
     },
     "metadata": {},
     "output_type": "display_data"
    }
   ],
   "source": [
    "as.data.frame(table(c(df_taxa$Family_sc)))\n",
    "#subset(df_taxa, Family_sc == \"Lutzomyia\")\n",
    "#length(df_taxa$As_family)\n",
    "#subset(df_taxa, Family_sc >= 1.0)"
   ]
  },
  {
   "cell_type": "code",
   "execution_count": 67,
   "metadata": {},
   "outputs": [
    {
     "data": {
      "text/html": [
       "<table>\n",
       "<caption>A data.frame: 4 × 2</caption>\n",
       "<thead>\n",
       "\t<tr><th scope=col>Var1</th><th scope=col>Freq</th></tr>\n",
       "\t<tr><th scope=col>&lt;fct&gt;</th><th scope=col>&lt;int&gt;</th></tr>\n",
       "</thead>\n",
       "<tbody>\n",
       "\t<tr><td>Aphididae     </td><td>   1</td></tr>\n",
       "\t<tr><td>Calopterygidae</td><td> 139</td></tr>\n",
       "\t<tr><td>Gekkonidae    </td><td>   4</td></tr>\n",
       "\t<tr><td>Psychodidae   </td><td>6589</td></tr>\n",
       "</tbody>\n",
       "</table>\n"
      ],
      "text/latex": [
       "A data.frame: 4 × 2\n",
       "\\begin{tabular}{ll}\n",
       " Var1 & Freq\\\\\n",
       " <fct> & <int>\\\\\n",
       "\\hline\n",
       "\t Aphididae      &    1\\\\\n",
       "\t Calopterygidae &  139\\\\\n",
       "\t Gekkonidae     &    4\\\\\n",
       "\t Psychodidae    & 6589\\\\\n",
       "\\end{tabular}\n"
      ],
      "text/markdown": [
       "\n",
       "A data.frame: 4 × 2\n",
       "\n",
       "| Var1 &lt;fct&gt; | Freq &lt;int&gt; |\n",
       "|---|---|\n",
       "| Aphididae      |    1 |\n",
       "| Calopterygidae |  139 |\n",
       "| Gekkonidae     |    4 |\n",
       "| Psychodidae    | 6589 |\n",
       "\n"
      ],
      "text/plain": [
       "  Var1           Freq\n",
       "1 Aphididae         1\n",
       "2 Calopterygidae  139\n",
       "3 Gekkonidae        4\n",
       "4 Psychodidae    6589"
      ]
     },
     "metadata": {},
     "output_type": "display_data"
    },
    {
     "data": {
      "text/html": [
       "<table>\n",
       "<caption>A data.frame: 4 × 2</caption>\n",
       "<thead>\n",
       "\t<tr><th scope=col>Var1</th><th scope=col>Freq</th></tr>\n",
       "\t<tr><th scope=col>&lt;fct&gt;</th><th scope=col>&lt;int&gt;</th></tr>\n",
       "</thead>\n",
       "<tbody>\n",
       "\t<tr><td>Aphididae     </td><td>   1</td></tr>\n",
       "\t<tr><td>Calopterygidae</td><td> 138</td></tr>\n",
       "\t<tr><td>Gekkonidae    </td><td>   4</td></tr>\n",
       "\t<tr><td>Psychodidae   </td><td>5995</td></tr>\n",
       "</tbody>\n",
       "</table>\n"
      ],
      "text/latex": [
       "A data.frame: 4 × 2\n",
       "\\begin{tabular}{ll}\n",
       " Var1 & Freq\\\\\n",
       " <fct> & <int>\\\\\n",
       "\\hline\n",
       "\t Aphididae      &    1\\\\\n",
       "\t Calopterygidae &  138\\\\\n",
       "\t Gekkonidae     &    4\\\\\n",
       "\t Psychodidae    & 5995\\\\\n",
       "\\end{tabular}\n"
      ],
      "text/markdown": [
       "\n",
       "A data.frame: 4 × 2\n",
       "\n",
       "| Var1 &lt;fct&gt; | Freq &lt;int&gt; |\n",
       "|---|---|\n",
       "| Aphididae      |    1 |\n",
       "| Calopterygidae |  138 |\n",
       "| Gekkonidae     |    4 |\n",
       "| Psychodidae    | 5995 |\n",
       "\n"
      ],
      "text/plain": [
       "  Var1           Freq\n",
       "1 Aphididae         1\n",
       "2 Calopterygidae  138\n",
       "3 Gekkonidae        4\n",
       "4 Psychodidae    5995"
      ]
     },
     "metadata": {},
     "output_type": "display_data"
    },
    {
     "data": {
      "text/html": [
       "<table>\n",
       "<caption>A data.frame: 4 × 2</caption>\n",
       "<thead>\n",
       "\t<tr><th scope=col>Var1</th><th scope=col>Freq</th></tr>\n",
       "\t<tr><th scope=col>&lt;fct&gt;</th><th scope=col>&lt;int&gt;</th></tr>\n",
       "</thead>\n",
       "<tbody>\n",
       "\t<tr><td>Aphididae     </td><td>   1</td></tr>\n",
       "\t<tr><td>Calopterygidae</td><td> 138</td></tr>\n",
       "\t<tr><td>Gekkonidae    </td><td>   4</td></tr>\n",
       "\t<tr><td>Psychodidae   </td><td>5995</td></tr>\n",
       "</tbody>\n",
       "</table>\n"
      ],
      "text/latex": [
       "A data.frame: 4 × 2\n",
       "\\begin{tabular}{ll}\n",
       " Var1 & Freq\\\\\n",
       " <fct> & <int>\\\\\n",
       "\\hline\n",
       "\t Aphididae      &    1\\\\\n",
       "\t Calopterygidae &  138\\\\\n",
       "\t Gekkonidae     &    4\\\\\n",
       "\t Psychodidae    & 5995\\\\\n",
       "\\end{tabular}\n"
      ],
      "text/markdown": [
       "\n",
       "A data.frame: 4 × 2\n",
       "\n",
       "| Var1 &lt;fct&gt; | Freq &lt;int&gt; |\n",
       "|---|---|\n",
       "| Aphididae      |    1 |\n",
       "| Calopterygidae |  138 |\n",
       "| Gekkonidae     |    4 |\n",
       "| Psychodidae    | 5995 |\n",
       "\n"
      ],
      "text/plain": [
       "  Var1           Freq\n",
       "1 Aphididae         1\n",
       "2 Calopterygidae  138\n",
       "3 Gekkonidae        4\n",
       "4 Psychodidae    5995"
      ]
     },
     "metadata": {},
     "output_type": "display_data"
    }
   ],
   "source": [
    "#s.data.frame(table(c(subset(df_taxa, seq_len >= 500)$As_family)))\n",
    "#ubset(df_taxa, Family_sc >=1.0)\n",
    "as.data.frame(table(c(subset(df_taxa, Family_sc == 1 )$As_family)))\n",
    "as.data.frame(table(c(subset(df_taxa, Family_sc == 1 & seq_len >= 500)$As_family)),\n",
    "                             row.names = NULL)\n",
    "as.data.frame(table(c(subset(df_taxa, Family_sc == 1.0 & seq_len >= 500)$As_family)),\n",
    "                             row.names = NULL)"
   ]
  },
  {
   "cell_type": "markdown",
   "metadata": {},
   "source": [
    "4. **Taking a closer look at the family taxa statistics**"
   ]
  },
  {
   "cell_type": "code",
   "execution_count": 68,
   "metadata": {},
   "outputs": [
    {
     "name": "stdout",
     "output_type": "stream",
     "text": [
      "1 predefined famil[y|ies] (seq_len >= 500), with frequency of over 1, are found in this clade, out of 1 represented families (seq_len >= 500)\n",
      "\n",
      "4 assigned families (BS score = 1.0 & seq_len >= 500), with frequency of over 1, are found in this clade out of 4 represented assigned families (seq_len >= 500)\n",
      "\n"
     ]
    },
    {
     "data": {
      "text/html": [
       "<table>\n",
       "<caption>A data.frame: 1 × 3</caption>\n",
       "<thead>\n",
       "\t<tr><th></th><th scope=col>Family</th><th scope=col>prefamfreq</th><th scope=col>asfamfreq</th></tr>\n",
       "\t<tr><th></th><th scope=col>&lt;fct&gt;</th><th scope=col>&lt;int&gt;</th><th scope=col>&lt;int&gt;</th></tr>\n",
       "</thead>\n",
       "<tbody>\n",
       "\t<tr><th scope=row>1</th><td>Psychodidae</td><td>35674</td><td>5995</td></tr>\n",
       "</tbody>\n",
       "</table>\n"
      ],
      "text/latex": [
       "A data.frame: 1 × 3\n",
       "\\begin{tabular}{r|lll}\n",
       "  & Family & prefamfreq & asfamfreq\\\\\n",
       "  & <fct> & <int> & <int>\\\\\n",
       "\\hline\n",
       "\t1 & Psychodidae & 35674 & 5995\\\\\n",
       "\\end{tabular}\n"
      ],
      "text/markdown": [
       "\n",
       "A data.frame: 1 × 3\n",
       "\n",
       "| <!--/--> | Family &lt;fct&gt; | prefamfreq &lt;int&gt; | asfamfreq &lt;int&gt; |\n",
       "|---|---|---|---|\n",
       "| 1 | Psychodidae | 35674 | 5995 |\n",
       "\n"
      ],
      "text/plain": [
       "  Family      prefamfreq asfamfreq\n",
       "1 Psychodidae 35674      5995     "
      ]
     },
     "metadata": {},
     "output_type": "display_data"
    }
   ],
   "source": [
    "Prefamily_df <- as.data.frame(table(c(subset(df_taxa, seq_len >= 500)$Family)),\n",
    "                              row.names = NULL)\n",
    "colnames(Prefamily_df) <- c(\"Family\",\"prefamfreq\")\n",
    "cat(nrow(subset(Prefamily_df, prefamfreq >= 1)),\n",
    "    \"predefined famil[y|ies] (seq_len >= 500), with frequency of over 1, are found in this clade, out of\",\n",
    "   nrow(Prefamily_df),\n",
    "   \"represented families (seq_len >= 500)\\n\\n\")\n",
    "#subset(Prefamily_df, prefamfreq >= 1)\n",
    "\n",
    "Asfamily_df <- as.data.frame(table(c(subset(df_taxa, Family_sc >= 1 & seq_len >= 500)$As_family)),\n",
    "                             row.names = NULL)\n",
    "colnames(Asfamily_df) <- c(\"As_family\",\"asfamfreq\")\n",
    "cat(nrow(subset(Asfamily_df, asfamfreq >= 1)),\n",
    "    \"assigned families (BS score = 1.0 & seq_len >= 500), with frequency of over 1, are found in this clade out of\",\n",
    "   nrow(Asfamily_df),\n",
    "   \"represented assigned families (seq_len >= 500)\\n\\n\")\n",
    "#subset(Asfamily_df, asfamfreq >= 1)\n",
    "family_df <- merge(Prefamily_df, Asfamily_df, by.x=\"Family\", by.y=\"As_family\")\n",
    "subset(family_df, prefamfreq >= 1 | asfamfreq >= 1)"
   ]
  },
  {
   "cell_type": "markdown",
   "metadata": {},
   "source": [
    "5. **Taking a closer look at the genera taxa statistics**"
   ]
  },
  {
   "cell_type": "code",
   "execution_count": 69,
   "metadata": {},
   "outputs": [
    {
     "name": "stdout",
     "output_type": "stream",
     "text": [
      "\n",
      "\n",
      " 30 predefined genera (seq_len >= 500 $ frequency >= 5) are found in this clade, out of 45 represented genera (seq_len >= 500)\n",
      "\n",
      "26 assigned genera (BS score = 1.0 & seq_len >= 500), with frequency of over 5, are found in this clade out of 34 represented genera (seq_len >= 500)\n",
      "\n"
     ]
    },
    {
     "data": {
      "text/html": [
       "<table>\n",
       "<caption>A data.frame: 25 × 3</caption>\n",
       "<thead>\n",
       "\t<tr><th></th><th scope=col>Genus</th><th scope=col>pregenusfreq</th><th scope=col>asgenusfreq</th></tr>\n",
       "\t<tr><th></th><th scope=col>&lt;fct&gt;</th><th scope=col>&lt;int&gt;</th><th scope=col>&lt;int&gt;</th></tr>\n",
       "</thead>\n",
       "<tbody>\n",
       "\t<tr><th scope=row>2</th><td>Berdeniella    </td><td>    5</td><td>   7</td></tr>\n",
       "\t<tr><th scope=row>3</th><td>Bichromomyia   </td><td>   17</td><td>  17</td></tr>\n",
       "\t<tr><th scope=row>4</th><td>Brumptomyia    </td><td>   34</td><td>  90</td></tr>\n",
       "\t<tr><th scope=row>5</th><td>Clogmia        </td><td>   86</td><td>  11</td></tr>\n",
       "\t<tr><th scope=row>6</th><td>Evandromyia    </td><td>   69</td><td>  68</td></tr>\n",
       "\t<tr><th scope=row>7</th><td>Expapillata    </td><td>    6</td><td>   6</td></tr>\n",
       "\t<tr><th scope=row>8</th><td>Lutzomyia      </td><td> 1071</td><td> 728</td></tr>\n",
       "\t<tr><th scope=row>9</th><td>Micropygomyia  </td><td>  128</td><td> 145</td></tr>\n",
       "\t<tr><th scope=row>10</th><td>Migonemyia     </td><td>   63</td><td>  65</td></tr>\n",
       "\t<tr><th scope=row>11</th><td>Nyssomyia      </td><td>  323</td><td> 461</td></tr>\n",
       "\t<tr><th scope=row>14</th><td>Pericoma       </td><td>   74</td><td>  34</td></tr>\n",
       "\t<tr><th scope=row>15</th><td>Phlebotomus    </td><td>  710</td><td> 649</td></tr>\n",
       "\t<tr><th scope=row>16</th><td>Pintomyia      </td><td>  137</td><td> 137</td></tr>\n",
       "\t<tr><th scope=row>17</th><td>Pneumia        </td><td>  130</td><td>  19</td></tr>\n",
       "\t<tr><th scope=row>18</th><td>Pressatia      </td><td>   42</td><td>  47</td></tr>\n",
       "\t<tr><th scope=row>19</th><td>Psathyromyia   </td><td>   98</td><td> 155</td></tr>\n",
       "\t<tr><th scope=row>20</th><td>Psychoda       </td><td>10570</td><td>1973</td></tr>\n",
       "\t<tr><th scope=row>21</th><td>Psychodopygus  </td><td>  190</td><td> 204</td></tr>\n",
       "\t<tr><th scope=row>22</th><td>Psychomora     </td><td>    1</td><td>   7</td></tr>\n",
       "\t<tr><th scope=row>23</th><td>Sciopemyia     </td><td>   17</td><td>  18</td></tr>\n",
       "\t<tr><th scope=row>25</th><td>Sergentomyia   </td><td>  607</td><td> 509</td></tr>\n",
       "\t<tr><th scope=row>27</th><td>Telmatoscopus  </td><td>   21</td><td> 439</td></tr>\n",
       "\t<tr><th scope=row>28</th><td>Trichophoromyia</td><td>   19</td><td>  22</td></tr>\n",
       "\t<tr><th scope=row>29</th><td>Trichopygomyia </td><td>   12</td><td>  23</td></tr>\n",
       "\t<tr><th scope=row>31</th><td>Warileya       </td><td>    8</td><td>   8</td></tr>\n",
       "</tbody>\n",
       "</table>\n"
      ],
      "text/latex": [
       "A data.frame: 25 × 3\n",
       "\\begin{tabular}{r|lll}\n",
       "  & Genus & pregenusfreq & asgenusfreq\\\\\n",
       "  & <fct> & <int> & <int>\\\\\n",
       "\\hline\n",
       "\t2 & Berdeniella     &     5 &    7\\\\\n",
       "\t3 & Bichromomyia    &    17 &   17\\\\\n",
       "\t4 & Brumptomyia     &    34 &   90\\\\\n",
       "\t5 & Clogmia         &    86 &   11\\\\\n",
       "\t6 & Evandromyia     &    69 &   68\\\\\n",
       "\t7 & Expapillata     &     6 &    6\\\\\n",
       "\t8 & Lutzomyia       &  1071 &  728\\\\\n",
       "\t9 & Micropygomyia   &   128 &  145\\\\\n",
       "\t10 & Migonemyia      &    63 &   65\\\\\n",
       "\t11 & Nyssomyia       &   323 &  461\\\\\n",
       "\t14 & Pericoma        &    74 &   34\\\\\n",
       "\t15 & Phlebotomus     &   710 &  649\\\\\n",
       "\t16 & Pintomyia       &   137 &  137\\\\\n",
       "\t17 & Pneumia         &   130 &   19\\\\\n",
       "\t18 & Pressatia       &    42 &   47\\\\\n",
       "\t19 & Psathyromyia    &    98 &  155\\\\\n",
       "\t20 & Psychoda        & 10570 & 1973\\\\\n",
       "\t21 & Psychodopygus   &   190 &  204\\\\\n",
       "\t22 & Psychomora      &     1 &    7\\\\\n",
       "\t23 & Sciopemyia      &    17 &   18\\\\\n",
       "\t25 & Sergentomyia    &   607 &  509\\\\\n",
       "\t27 & Telmatoscopus   &    21 &  439\\\\\n",
       "\t28 & Trichophoromyia &    19 &   22\\\\\n",
       "\t29 & Trichopygomyia  &    12 &   23\\\\\n",
       "\t31 & Warileya        &     8 &    8\\\\\n",
       "\\end{tabular}\n"
      ],
      "text/markdown": [
       "\n",
       "A data.frame: 25 × 3\n",
       "\n",
       "| <!--/--> | Genus &lt;fct&gt; | pregenusfreq &lt;int&gt; | asgenusfreq &lt;int&gt; |\n",
       "|---|---|---|---|\n",
       "| 2 | Berdeniella     |     5 |    7 |\n",
       "| 3 | Bichromomyia    |    17 |   17 |\n",
       "| 4 | Brumptomyia     |    34 |   90 |\n",
       "| 5 | Clogmia         |    86 |   11 |\n",
       "| 6 | Evandromyia     |    69 |   68 |\n",
       "| 7 | Expapillata     |     6 |    6 |\n",
       "| 8 | Lutzomyia       |  1071 |  728 |\n",
       "| 9 | Micropygomyia   |   128 |  145 |\n",
       "| 10 | Migonemyia      |    63 |   65 |\n",
       "| 11 | Nyssomyia       |   323 |  461 |\n",
       "| 14 | Pericoma        |    74 |   34 |\n",
       "| 15 | Phlebotomus     |   710 |  649 |\n",
       "| 16 | Pintomyia       |   137 |  137 |\n",
       "| 17 | Pneumia         |   130 |   19 |\n",
       "| 18 | Pressatia       |    42 |   47 |\n",
       "| 19 | Psathyromyia    |    98 |  155 |\n",
       "| 20 | Psychoda        | 10570 | 1973 |\n",
       "| 21 | Psychodopygus   |   190 |  204 |\n",
       "| 22 | Psychomora      |     1 |    7 |\n",
       "| 23 | Sciopemyia      |    17 |   18 |\n",
       "| 25 | Sergentomyia    |   607 |  509 |\n",
       "| 27 | Telmatoscopus   |    21 |  439 |\n",
       "| 28 | Trichophoromyia |    19 |   22 |\n",
       "| 29 | Trichopygomyia  |    12 |   23 |\n",
       "| 31 | Warileya        |     8 |    8 |\n",
       "\n"
      ],
      "text/plain": [
       "   Genus           pregenusfreq asgenusfreq\n",
       "2  Berdeniella         5           7       \n",
       "3  Bichromomyia       17          17       \n",
       "4  Brumptomyia        34          90       \n",
       "5  Clogmia            86          11       \n",
       "6  Evandromyia        69          68       \n",
       "7  Expapillata         6           6       \n",
       "8  Lutzomyia        1071         728       \n",
       "9  Micropygomyia     128         145       \n",
       "10 Migonemyia         63          65       \n",
       "11 Nyssomyia         323         461       \n",
       "14 Pericoma           74          34       \n",
       "15 Phlebotomus       710         649       \n",
       "16 Pintomyia         137         137       \n",
       "17 Pneumia           130          19       \n",
       "18 Pressatia          42          47       \n",
       "19 Psathyromyia       98         155       \n",
       "20 Psychoda        10570        1973       \n",
       "21 Psychodopygus     190         204       \n",
       "22 Psychomora          1           7       \n",
       "23 Sciopemyia         17          18       \n",
       "25 Sergentomyia      607         509       \n",
       "27 Telmatoscopus      21         439       \n",
       "28 Trichophoromyia    19          22       \n",
       "29 Trichopygomyia     12          23       \n",
       "31 Warileya            8           8       "
      ]
     },
     "metadata": {},
     "output_type": "display_data"
    }
   ],
   "source": [
    "Pregenus_df <- as.data.frame(table(c(subset(df_taxa, seq_len >= 500)$Genus)), row.names = NULL)\n",
    "colnames(Pregenus_df) <- c(\"Genus\",\"pregenusfreq\")\n",
    "cat(\"\\n\\n\", nrow(subset(Pregenus_df, pregenusfreq >= 5)),\n",
    "    \"predefined genera (seq_len >= 500 $ frequency >= 5) are found in this clade, out of\",\n",
    "   nrow(Pregenus_df),\n",
    "   \"represented genera (seq_len >= 500)\\n\\n\")\n",
    "#subset(Pregenus_df, pregenusfreq >= 5)\n",
    "\n",
    "Asgenus_df <- as.data.frame(table(c(subset(df_taxa, Genus_sc == 1.0 & seq_len >= 500)$As_genus)), row.names = NULL)\n",
    "colnames(Asgenus_df) <- c(\"As_genus\",\"asgenusfreq\")\n",
    "cat(nrow(subset(Asgenus_df, asgenusfreq >= 5)),\n",
    "    \"assigned genera (BS score = 1.0 & seq_len >= 500), with frequency of over 5, are found in this clade out of\",\n",
    "   nrow(Asgenus_df),\n",
    "   \"represented genera (seq_len >= 500)\\n\\n\")\n",
    "#subset(Asgenus_df, asgenusfreq >= 5)\n",
    "genus_df <- merge(Pregenus_df, Asgenus_df, by.x=\"Genus\", by.y=\"As_genus\")\n",
    "subset(genus_df, pregenusfreq >= 5 | asgenusfreq >= 5)"
   ]
  },
  {
   "cell_type": "markdown",
   "metadata": {},
   "source": [
    "6. **Taking a closer look at species taxa statistics**"
   ]
  },
  {
   "cell_type": "code",
   "execution_count": 70,
   "metadata": {},
   "outputs": [
    {
     "name": "stdout",
     "output_type": "stream",
     "text": [
      "232 predefined species (seq_len >= 500 $ frequency >= 3) are found in this clade, out of 375 represented species (seq_len >= 500)\n",
      "\n",
      "179 assigned species (BS score = 1.0 & seq_len >= 500), with frequency of over 3, are found in this clade out of 209 represented species (seq_len >= 500)\n",
      "\n"
     ]
    },
    {
     "data": {
      "text/html": [
       "<table>\n",
       "<caption>A data.frame: 176 × 3</caption>\n",
       "<thead>\n",
       "\t<tr><th></th><th scope=col>Species</th><th scope=col>prespeciesfreq</th><th scope=col>asspeciesfreq</th></tr>\n",
       "\t<tr><th></th><th scope=col>&lt;fct&gt;</th><th scope=col>&lt;int&gt;</th><th scope=col>&lt;int&gt;</th></tr>\n",
       "</thead>\n",
       "<tbody>\n",
       "\t<tr><th scope=row>2</th><td>Berdeniella_freyi           </td><td> 5</td><td> 7</td></tr>\n",
       "\t<tr><th scope=row>3</th><td>Bichromomyia_flaviscutellata</td><td>12</td><td> 9</td></tr>\n",
       "\t<tr><th scope=row>4</th><td>Bichromomyia_olmeca         </td><td> 4</td><td> 8</td></tr>\n",
       "\t<tr><th scope=row>5</th><td>Brumptomyia_avellari        </td><td>17</td><td>17</td></tr>\n",
       "\t<tr><th scope=row>7</th><td>Brumptomyia_cunhai          </td><td>17</td><td>17</td></tr>\n",
       "\t<tr><th scope=row>8</th><td>Brumptomyia_galindoi        </td><td> 4</td><td> 4</td></tr>\n",
       "\t<tr><th scope=row>9</th><td>Brumptomyia_guimaraesi      </td><td> 6</td><td> 8</td></tr>\n",
       "\t<tr><th scope=row>10</th><td>Brumptomyia_hamata          </td><td> 5</td><td> 5</td></tr>\n",
       "\t<tr><th scope=row>11</th><td>Brumptomyia_mesai           </td><td> 8</td><td> 4</td></tr>\n",
       "\t<tr><th scope=row>12</th><td>Brumptomyia_nitzulescui     </td><td>16</td><td>21</td></tr>\n",
       "\t<tr><th scope=row>13</th><td>Brumptomyia_ortizi          </td><td> 2</td><td> 7</td></tr>\n",
       "\t<tr><th scope=row>15</th><td>Clogmia_albipunctata        </td><td>86</td><td>11</td></tr>\n",
       "\t<tr><th scope=row>16</th><td>Evandromyia_edwardsi        </td><td>12</td><td>11</td></tr>\n",
       "\t<tr><th scope=row>17</th><td>Evandromyia_evandroi        </td><td>13</td><td> 2</td></tr>\n",
       "\t<tr><th scope=row>18</th><td>Evandromyia_infraspinosa    </td><td> 5</td><td> 5</td></tr>\n",
       "\t<tr><th scope=row>19</th><td>Evandromyia_lenti           </td><td>19</td><td>13</td></tr>\n",
       "\t<tr><th scope=row>20</th><td>Evandromyia_termitophila    </td><td> 6</td><td> 6</td></tr>\n",
       "\t<tr><th scope=row>21</th><td>Evandromyia_tupynambai      </td><td> 1</td><td>12</td></tr>\n",
       "\t<tr><th scope=row>22</th><td>Expapillata_firmatoi        </td><td> 6</td><td> 6</td></tr>\n",
       "\t<tr><th scope=row>23</th><td>Lutzomyia_alencari          </td><td> 3</td><td>19</td></tr>\n",
       "\t<tr><th scope=row>24</th><td>Lutzomyia_ayacuchensis      </td><td>16</td><td>16</td></tr>\n",
       "\t<tr><th scope=row>25</th><td>Lutzomyia_battistini        </td><td>10</td><td>20</td></tr>\n",
       "\t<tr><th scope=row>26</th><td>Lutzomyia_bicornuta         </td><td>16</td><td>16</td></tr>\n",
       "\t<tr><th scope=row>27</th><td>Lutzomyia_bifoliata         </td><td>10</td><td>10</td></tr>\n",
       "\t<tr><th scope=row>28</th><td>Lutzomyia_caballeroi        </td><td>20</td><td>20</td></tr>\n",
       "\t<tr><th scope=row>29</th><td>Lutzomyia_castanea          </td><td>18</td><td>18</td></tr>\n",
       "\t<tr><th scope=row>30</th><td>Lutzomyia_columbiana        </td><td>10</td><td>10</td></tr>\n",
       "\t<tr><th scope=row>31</th><td>Lutzomyia_cruciata          </td><td> 8</td><td> 3</td></tr>\n",
       "\t<tr><th scope=row>32</th><td>Lutzomyia_cruzi             </td><td> 6</td><td>12</td></tr>\n",
       "\t<tr><th scope=row>34</th><td>Lutzomyia_dubitans          </td><td>14</td><td>14</td></tr>\n",
       "\t<tr><th scope=row>⋮</th><td>⋮</td><td>⋮</td><td>⋮</td></tr>\n",
       "\t<tr><th scope=row>167</th><td>Sergentomyia_babu             </td><td> 16</td><td> 31</td></tr>\n",
       "\t<tr><th scope=row>168</th><td>Sergentomyia_bailyi           </td><td> 69</td><td> 53</td></tr>\n",
       "\t<tr><th scope=row>169</th><td>Sergentomyia_barraudi         </td><td> 10</td><td>  8</td></tr>\n",
       "\t<tr><th scope=row>170</th><td>Sergentomyia_bedfordi         </td><td> 12</td><td> 18</td></tr>\n",
       "\t<tr><th scope=row>171</th><td>Sergentomyia_christophersi    </td><td> 15</td><td> 14</td></tr>\n",
       "\t<tr><th scope=row>172</th><td>Sergentomyia_clydei           </td><td> 11</td><td> 21</td></tr>\n",
       "\t<tr><th scope=row>173</th><td>Sergentomyia_congolensis      </td><td>  5</td><td>  5</td></tr>\n",
       "\t<tr><th scope=row>174</th><td>Sergentomyia_dentata          </td><td>  8</td><td>  7</td></tr>\n",
       "\t<tr><th scope=row>175</th><td>Sergentomyia_distincta        </td><td>  6</td><td>  7</td></tr>\n",
       "\t<tr><th scope=row>176</th><td>Sergentomyia_dreyfussi        </td><td>  8</td><td>  8</td></tr>\n",
       "\t<tr><th scope=row>177</th><td>Sergentomyia_fallax           </td><td> 20</td><td> 20</td></tr>\n",
       "\t<tr><th scope=row>178</th><td>Sergentomyia_gemmea           </td><td> 11</td><td> 11</td></tr>\n",
       "\t<tr><th scope=row>179</th><td>Sergentomyia_ghesquierei      </td><td>  4</td><td>  4</td></tr>\n",
       "\t<tr><th scope=row>180</th><td>Sergentomyia_indica           </td><td>  5</td><td>  7</td></tr>\n",
       "\t<tr><th scope=row>181</th><td>Sergentomyia_inermis          </td><td>  2</td><td>  4</td></tr>\n",
       "\t<tr><th scope=row>182</th><td>Sergentomyia_ingrami          </td><td>  8</td><td>  8</td></tr>\n",
       "\t<tr><th scope=row>183</th><td>Sergentomyia_insularis        </td><td>  4</td><td>  4</td></tr>\n",
       "\t<tr><th scope=row>184</th><td>Sergentomyia_iyengari         </td><td>  6</td><td>  6</td></tr>\n",
       "\t<tr><th scope=row>185</th><td>Sergentomyia_koloshanensis    </td><td>  5</td><td>  5</td></tr>\n",
       "\t<tr><th scope=row>186</th><td>Sergentomyia_minuta           </td><td>177</td><td>176</td></tr>\n",
       "\t<tr><th scope=row>187</th><td>Sergentomyia_montana          </td><td>  2</td><td> 10</td></tr>\n",
       "\t<tr><th scope=row>189</th><td>Sergentomyia_punjabensis      </td><td> 14</td><td> 16</td></tr>\n",
       "\t<tr><th scope=row>191</th><td>Sergentomyia_schwetzi         </td><td> 14</td><td> 14</td></tr>\n",
       "\t<tr><th scope=row>192</th><td>Sergentomyia_vadhanurensis    </td><td> 20</td><td> 20</td></tr>\n",
       "\t<tr><th scope=row>194</th><td>Telmatoscopus_advenus         </td><td>  2</td><td>  5</td></tr>\n",
       "\t<tr><th scope=row>195</th><td>Telmatoscopus_albipunctatus   </td><td>  1</td><td>434</td></tr>\n",
       "\t<tr><th scope=row>197</th><td>Trichophoromyia_reburra       </td><td>  3</td><td>  6</td></tr>\n",
       "\t<tr><th scope=row>198</th><td>Trichophoromyia_viannamartinsi</td><td> 15</td><td> 15</td></tr>\n",
       "\t<tr><th scope=row>200</th><td>Trichopygomyia_triramula      </td><td> 11</td><td> 22</td></tr>\n",
       "\t<tr><th scope=row>203</th><td>Warileya_rotundipennis        </td><td>  6</td><td>  6</td></tr>\n",
       "</tbody>\n",
       "</table>\n"
      ],
      "text/latex": [
       "A data.frame: 176 × 3\n",
       "\\begin{tabular}{r|lll}\n",
       "  & Species & prespeciesfreq & asspeciesfreq\\\\\n",
       "  & <fct> & <int> & <int>\\\\\n",
       "\\hline\n",
       "\t2 & Berdeniella\\_freyi            &  5 &  7\\\\\n",
       "\t3 & Bichromomyia\\_flaviscutellata & 12 &  9\\\\\n",
       "\t4 & Bichromomyia\\_olmeca          &  4 &  8\\\\\n",
       "\t5 & Brumptomyia\\_avellari         & 17 & 17\\\\\n",
       "\t7 & Brumptomyia\\_cunhai           & 17 & 17\\\\\n",
       "\t8 & Brumptomyia\\_galindoi         &  4 &  4\\\\\n",
       "\t9 & Brumptomyia\\_guimaraesi       &  6 &  8\\\\\n",
       "\t10 & Brumptomyia\\_hamata           &  5 &  5\\\\\n",
       "\t11 & Brumptomyia\\_mesai            &  8 &  4\\\\\n",
       "\t12 & Brumptomyia\\_nitzulescui      & 16 & 21\\\\\n",
       "\t13 & Brumptomyia\\_ortizi           &  2 &  7\\\\\n",
       "\t15 & Clogmia\\_albipunctata         & 86 & 11\\\\\n",
       "\t16 & Evandromyia\\_edwardsi         & 12 & 11\\\\\n",
       "\t17 & Evandromyia\\_evandroi         & 13 &  2\\\\\n",
       "\t18 & Evandromyia\\_infraspinosa     &  5 &  5\\\\\n",
       "\t19 & Evandromyia\\_lenti            & 19 & 13\\\\\n",
       "\t20 & Evandromyia\\_termitophila     &  6 &  6\\\\\n",
       "\t21 & Evandromyia\\_tupynambai       &  1 & 12\\\\\n",
       "\t22 & Expapillata\\_firmatoi         &  6 &  6\\\\\n",
       "\t23 & Lutzomyia\\_alencari           &  3 & 19\\\\\n",
       "\t24 & Lutzomyia\\_ayacuchensis       & 16 & 16\\\\\n",
       "\t25 & Lutzomyia\\_battistini         & 10 & 20\\\\\n",
       "\t26 & Lutzomyia\\_bicornuta          & 16 & 16\\\\\n",
       "\t27 & Lutzomyia\\_bifoliata          & 10 & 10\\\\\n",
       "\t28 & Lutzomyia\\_caballeroi         & 20 & 20\\\\\n",
       "\t29 & Lutzomyia\\_castanea           & 18 & 18\\\\\n",
       "\t30 & Lutzomyia\\_columbiana         & 10 & 10\\\\\n",
       "\t31 & Lutzomyia\\_cruciata           &  8 &  3\\\\\n",
       "\t32 & Lutzomyia\\_cruzi              &  6 & 12\\\\\n",
       "\t34 & Lutzomyia\\_dubitans           & 14 & 14\\\\\n",
       "\t⋮ & ⋮ & ⋮ & ⋮\\\\\n",
       "\t167 & Sergentomyia\\_babu              &  16 &  31\\\\\n",
       "\t168 & Sergentomyia\\_bailyi            &  69 &  53\\\\\n",
       "\t169 & Sergentomyia\\_barraudi          &  10 &   8\\\\\n",
       "\t170 & Sergentomyia\\_bedfordi          &  12 &  18\\\\\n",
       "\t171 & Sergentomyia\\_christophersi     &  15 &  14\\\\\n",
       "\t172 & Sergentomyia\\_clydei            &  11 &  21\\\\\n",
       "\t173 & Sergentomyia\\_congolensis       &   5 &   5\\\\\n",
       "\t174 & Sergentomyia\\_dentata           &   8 &   7\\\\\n",
       "\t175 & Sergentomyia\\_distincta         &   6 &   7\\\\\n",
       "\t176 & Sergentomyia\\_dreyfussi         &   8 &   8\\\\\n",
       "\t177 & Sergentomyia\\_fallax            &  20 &  20\\\\\n",
       "\t178 & Sergentomyia\\_gemmea            &  11 &  11\\\\\n",
       "\t179 & Sergentomyia\\_ghesquierei       &   4 &   4\\\\\n",
       "\t180 & Sergentomyia\\_indica            &   5 &   7\\\\\n",
       "\t181 & Sergentomyia\\_inermis           &   2 &   4\\\\\n",
       "\t182 & Sergentomyia\\_ingrami           &   8 &   8\\\\\n",
       "\t183 & Sergentomyia\\_insularis         &   4 &   4\\\\\n",
       "\t184 & Sergentomyia\\_iyengari          &   6 &   6\\\\\n",
       "\t185 & Sergentomyia\\_koloshanensis     &   5 &   5\\\\\n",
       "\t186 & Sergentomyia\\_minuta            & 177 & 176\\\\\n",
       "\t187 & Sergentomyia\\_montana           &   2 &  10\\\\\n",
       "\t189 & Sergentomyia\\_punjabensis       &  14 &  16\\\\\n",
       "\t191 & Sergentomyia\\_schwetzi          &  14 &  14\\\\\n",
       "\t192 & Sergentomyia\\_vadhanurensis     &  20 &  20\\\\\n",
       "\t194 & Telmatoscopus\\_advenus          &   2 &   5\\\\\n",
       "\t195 & Telmatoscopus\\_albipunctatus    &   1 & 434\\\\\n",
       "\t197 & Trichophoromyia\\_reburra        &   3 &   6\\\\\n",
       "\t198 & Trichophoromyia\\_viannamartinsi &  15 &  15\\\\\n",
       "\t200 & Trichopygomyia\\_triramula       &  11 &  22\\\\\n",
       "\t203 & Warileya\\_rotundipennis         &   6 &   6\\\\\n",
       "\\end{tabular}\n"
      ],
      "text/markdown": [
       "\n",
       "A data.frame: 176 × 3\n",
       "\n",
       "| <!--/--> | Species &lt;fct&gt; | prespeciesfreq &lt;int&gt; | asspeciesfreq &lt;int&gt; |\n",
       "|---|---|---|---|\n",
       "| 2 | Berdeniella_freyi            |  5 |  7 |\n",
       "| 3 | Bichromomyia_flaviscutellata | 12 |  9 |\n",
       "| 4 | Bichromomyia_olmeca          |  4 |  8 |\n",
       "| 5 | Brumptomyia_avellari         | 17 | 17 |\n",
       "| 7 | Brumptomyia_cunhai           | 17 | 17 |\n",
       "| 8 | Brumptomyia_galindoi         |  4 |  4 |\n",
       "| 9 | Brumptomyia_guimaraesi       |  6 |  8 |\n",
       "| 10 | Brumptomyia_hamata           |  5 |  5 |\n",
       "| 11 | Brumptomyia_mesai            |  8 |  4 |\n",
       "| 12 | Brumptomyia_nitzulescui      | 16 | 21 |\n",
       "| 13 | Brumptomyia_ortizi           |  2 |  7 |\n",
       "| 15 | Clogmia_albipunctata         | 86 | 11 |\n",
       "| 16 | Evandromyia_edwardsi         | 12 | 11 |\n",
       "| 17 | Evandromyia_evandroi         | 13 |  2 |\n",
       "| 18 | Evandromyia_infraspinosa     |  5 |  5 |\n",
       "| 19 | Evandromyia_lenti            | 19 | 13 |\n",
       "| 20 | Evandromyia_termitophila     |  6 |  6 |\n",
       "| 21 | Evandromyia_tupynambai       |  1 | 12 |\n",
       "| 22 | Expapillata_firmatoi         |  6 |  6 |\n",
       "| 23 | Lutzomyia_alencari           |  3 | 19 |\n",
       "| 24 | Lutzomyia_ayacuchensis       | 16 | 16 |\n",
       "| 25 | Lutzomyia_battistini         | 10 | 20 |\n",
       "| 26 | Lutzomyia_bicornuta          | 16 | 16 |\n",
       "| 27 | Lutzomyia_bifoliata          | 10 | 10 |\n",
       "| 28 | Lutzomyia_caballeroi         | 20 | 20 |\n",
       "| 29 | Lutzomyia_castanea           | 18 | 18 |\n",
       "| 30 | Lutzomyia_columbiana         | 10 | 10 |\n",
       "| 31 | Lutzomyia_cruciata           |  8 |  3 |\n",
       "| 32 | Lutzomyia_cruzi              |  6 | 12 |\n",
       "| 34 | Lutzomyia_dubitans           | 14 | 14 |\n",
       "| ⋮ | ⋮ | ⋮ | ⋮ |\n",
       "| 167 | Sergentomyia_babu              |  16 |  31 |\n",
       "| 168 | Sergentomyia_bailyi            |  69 |  53 |\n",
       "| 169 | Sergentomyia_barraudi          |  10 |   8 |\n",
       "| 170 | Sergentomyia_bedfordi          |  12 |  18 |\n",
       "| 171 | Sergentomyia_christophersi     |  15 |  14 |\n",
       "| 172 | Sergentomyia_clydei            |  11 |  21 |\n",
       "| 173 | Sergentomyia_congolensis       |   5 |   5 |\n",
       "| 174 | Sergentomyia_dentata           |   8 |   7 |\n",
       "| 175 | Sergentomyia_distincta         |   6 |   7 |\n",
       "| 176 | Sergentomyia_dreyfussi         |   8 |   8 |\n",
       "| 177 | Sergentomyia_fallax            |  20 |  20 |\n",
       "| 178 | Sergentomyia_gemmea            |  11 |  11 |\n",
       "| 179 | Sergentomyia_ghesquierei       |   4 |   4 |\n",
       "| 180 | Sergentomyia_indica            |   5 |   7 |\n",
       "| 181 | Sergentomyia_inermis           |   2 |   4 |\n",
       "| 182 | Sergentomyia_ingrami           |   8 |   8 |\n",
       "| 183 | Sergentomyia_insularis         |   4 |   4 |\n",
       "| 184 | Sergentomyia_iyengari          |   6 |   6 |\n",
       "| 185 | Sergentomyia_koloshanensis     |   5 |   5 |\n",
       "| 186 | Sergentomyia_minuta            | 177 | 176 |\n",
       "| 187 | Sergentomyia_montana           |   2 |  10 |\n",
       "| 189 | Sergentomyia_punjabensis       |  14 |  16 |\n",
       "| 191 | Sergentomyia_schwetzi          |  14 |  14 |\n",
       "| 192 | Sergentomyia_vadhanurensis     |  20 |  20 |\n",
       "| 194 | Telmatoscopus_advenus          |   2 |   5 |\n",
       "| 195 | Telmatoscopus_albipunctatus    |   1 | 434 |\n",
       "| 197 | Trichophoromyia_reburra        |   3 |   6 |\n",
       "| 198 | Trichophoromyia_viannamartinsi |  15 |  15 |\n",
       "| 200 | Trichopygomyia_triramula       |  11 |  22 |\n",
       "| 203 | Warileya_rotundipennis         |   6 |   6 |\n",
       "\n"
      ],
      "text/plain": [
       "    Species                        prespeciesfreq asspeciesfreq\n",
       "2   Berdeniella_freyi               5              7           \n",
       "3   Bichromomyia_flaviscutellata   12              9           \n",
       "4   Bichromomyia_olmeca             4              8           \n",
       "5   Brumptomyia_avellari           17             17           \n",
       "7   Brumptomyia_cunhai             17             17           \n",
       "8   Brumptomyia_galindoi            4              4           \n",
       "9   Brumptomyia_guimaraesi          6              8           \n",
       "10  Brumptomyia_hamata              5              5           \n",
       "11  Brumptomyia_mesai               8              4           \n",
       "12  Brumptomyia_nitzulescui        16             21           \n",
       "13  Brumptomyia_ortizi              2              7           \n",
       "15  Clogmia_albipunctata           86             11           \n",
       "16  Evandromyia_edwardsi           12             11           \n",
       "17  Evandromyia_evandroi           13              2           \n",
       "18  Evandromyia_infraspinosa        5              5           \n",
       "19  Evandromyia_lenti              19             13           \n",
       "20  Evandromyia_termitophila        6              6           \n",
       "21  Evandromyia_tupynambai          1             12           \n",
       "22  Expapillata_firmatoi            6              6           \n",
       "23  Lutzomyia_alencari              3             19           \n",
       "24  Lutzomyia_ayacuchensis         16             16           \n",
       "25  Lutzomyia_battistini           10             20           \n",
       "26  Lutzomyia_bicornuta            16             16           \n",
       "27  Lutzomyia_bifoliata            10             10           \n",
       "28  Lutzomyia_caballeroi           20             20           \n",
       "29  Lutzomyia_castanea             18             18           \n",
       "30  Lutzomyia_columbiana           10             10           \n",
       "31  Lutzomyia_cruciata              8              3           \n",
       "32  Lutzomyia_cruzi                 6             12           \n",
       "34  Lutzomyia_dubitans             14             14           \n",
       "⋮   ⋮                              ⋮              ⋮            \n",
       "167 Sergentomyia_babu               16             31          \n",
       "168 Sergentomyia_bailyi             69             53          \n",
       "169 Sergentomyia_barraudi           10              8          \n",
       "170 Sergentomyia_bedfordi           12             18          \n",
       "171 Sergentomyia_christophersi      15             14          \n",
       "172 Sergentomyia_clydei             11             21          \n",
       "173 Sergentomyia_congolensis         5              5          \n",
       "174 Sergentomyia_dentata             8              7          \n",
       "175 Sergentomyia_distincta           6              7          \n",
       "176 Sergentomyia_dreyfussi           8              8          \n",
       "177 Sergentomyia_fallax             20             20          \n",
       "178 Sergentomyia_gemmea             11             11          \n",
       "179 Sergentomyia_ghesquierei         4              4          \n",
       "180 Sergentomyia_indica              5              7          \n",
       "181 Sergentomyia_inermis             2              4          \n",
       "182 Sergentomyia_ingrami             8              8          \n",
       "183 Sergentomyia_insularis           4              4          \n",
       "184 Sergentomyia_iyengari            6              6          \n",
       "185 Sergentomyia_koloshanensis       5              5          \n",
       "186 Sergentomyia_minuta            177            176          \n",
       "187 Sergentomyia_montana             2             10          \n",
       "189 Sergentomyia_punjabensis        14             16          \n",
       "191 Sergentomyia_schwetzi           14             14          \n",
       "192 Sergentomyia_vadhanurensis      20             20          \n",
       "194 Telmatoscopus_advenus            2              5          \n",
       "195 Telmatoscopus_albipunctatus      1            434          \n",
       "197 Trichophoromyia_reburra          3              6          \n",
       "198 Trichophoromyia_viannamartinsi  15             15          \n",
       "200 Trichopygomyia_triramula        11             22          \n",
       "203 Warileya_rotundipennis           6              6          "
      ]
     },
     "metadata": {},
     "output_type": "display_data"
    }
   ],
   "source": [
    "Prespecies_df <- as.data.frame(table(c(subset(df_taxa, seq_len >= 500)$Species)),\n",
    "                               row.names = NULL)\n",
    "colnames(Prespecies_df) <- c(\"Species\",\"prespeciesfreq\")\n",
    "cat(nrow(subset(Prespecies_df, prespeciesfreq >= 3)),\n",
    "    \"predefined species (seq_len >= 500 $ frequency >= 3) are found in this clade, out of\",\n",
    "   nrow(Prespecies_df),\n",
    "   \"represented species (seq_len >= 500)\\n\\n\")\n",
    "#subset(Prespecies_df, prespeciesfreq >= 3)\n",
    "\n",
    "Asspecies_df <- as.data.frame(table(c(subset(df_taxa, Species_sc == 1.0 & seq_len >= 500)$As_species)), row.names = NULL)\n",
    "colnames(Asspecies_df) <- c(\"As_species\",\"asspeciesfreq\")\n",
    "cat(nrow(subset(Asspecies_df, asspeciesfreq >= 3)),\n",
    "    \"assigned species (BS score = 1.0 & seq_len >= 500), with frequency of over 3, are found in this clade out of\",\n",
    "   nrow(Asspecies_df),\n",
    "   \"represented species (seq_len >= 500)\\n\\n\")\n",
    "#subset(Asspecies_df, asspeciesfreq >= 5)\n",
    "species_df <- merge(Prespecies_df, Asspecies_df, by.x=\"Species\", by.y=\"As_species\")\n",
    "subset(species_df, prespeciesfreq >= 3 | asspeciesfreq >= 3)"
   ]
  },
  {
   "cell_type": "markdown",
   "metadata": {},
   "source": [
    "7. **Detailed analysis of the distribution of variables as a assinged by RDPclassifier**"
   ]
  },
  {
   "cell_type": "code",
   "execution_count": 71,
   "metadata": {},
   "outputs": [
    {
     "name": "stdout",
     "output_type": "stream",
     "text": [
      "36787 total number of records with 35681 records having over 500 base-pairs\n"
     ]
    }
   ],
   "source": [
    "# Total number of records within the file vs those with over 500 base-pairs\n",
    "cat(nrow(df_taxa), \"total number of records with\",\n",
    "    nrow(subset(df_taxa, seq_len >= 500)),\n",
    "    \"records having over 500 base-pairs\\n\")"
   ]
  },
  {
   "cell_type": "code",
   "execution_count": 72,
   "metadata": {},
   "outputs": [
    {
     "name": "stdout",
     "output_type": "stream",
     "text": [
      "6607 records with a predefined species from which 5931 have over 500 base pairs\n",
      "\n"
     ]
    }
   ],
   "source": [
    "# Total number of sequences with predefined species taxa vs \n",
    "# those with over 500 base-pairs\n",
    "cat(nrow(subset(df_taxa, Species != \"NA\")),\n",
    "    \"records with a predefined species from which\",\n",
    "    nrow(subset(df_taxa, Species != \"NA\" & seq_len >= 500 )), \n",
    "    \"have over 500 base pairs\\n\\n\")"
   ]
  },
  {
   "cell_type": "code",
   "execution_count": 73,
   "metadata": {},
   "outputs": [
    {
     "name": "stdout",
     "output_type": "stream",
     "text": [
      "36787 records were assigned species classification with bootstrap support ranging from 0 to 1\n",
      "\n",
      "6336 records were classiffied with a bootsrap of = 1, 6530 with >= 0.95 bootstrap support and 9303 with >= 0.7 bootstrap support\n",
      "\n"
     ]
    }
   ],
   "source": [
    "# All records assigned species classification\n",
    "cat(nrow(subset(df_taxa, Species_sc >= 0)),\n",
    "    \"records were assigned species classification with bootstrap support ranging from 0 to 1\\n\\n\")\n",
    "# All records assigned species classification of BS support of 1, >= 0.95 and >= 0.70\n",
    "cat(nrow(subset(df_taxa, Species_sc == 1.0)),\n",
    "    \"records were classiffied with a bootsrap of = 1,\",\n",
    "   nrow(subset(df_taxa, Species_sc >= 0.95)),\n",
    "    \"with >= 0.95 bootstrap support and\",\n",
    "   nrow(subset(df_taxa, Species_sc >= 0.70)),\n",
    "   \"with >= 0.7 bootstrap support\\n\\n\")"
   ]
  },
  {
   "cell_type": "code",
   "execution_count": 74,
   "metadata": {},
   "outputs": [
    {
     "name": "stdout",
     "output_type": "stream",
     "text": [
      "5428 records, with predefined species, were classiffied with a bootsrap of = 1, 5576 with >= 0.95 bootstrap support and 5757 with >= 0.7 bootstrap support\n",
      "\n",
      "5786 records, with >= 500 seq. length, were classiffied with a bootsrap of = 1, 5943 with >= 0.95 bootstrap support and 8694 with >= 0.7 bootstrap support\n",
      "\n",
      "4967 records, with predefined species and >= 500 seq. length, were classiffied with a bootsrap of = 1, 5082 with >= 0.95 bootstrap support and 5247 with >= 0.7 bootstrap support\n",
      "\n"
     ]
    }
   ],
   "source": [
    "# All records with predefined species and\n",
    "# assigned species classification at BS support of 1, >= 0.95 and >= 0.70\n",
    "cat(nrow(subset(df_taxa, Species != \"NA\" & Species_sc == 1.0)),\n",
    "    \"records, with predefined species, were classiffied with a bootsrap of = 1,\",\n",
    "   nrow(subset(df_taxa, Species != \"NA\" & Species_sc >= 0.95)),\n",
    "    \"with >= 0.95 bootstrap support and\",\n",
    "   nrow(subset(df_taxa, Species != \"NA\" & Species_sc >= 0.70)),\n",
    "   \"with >= 0.7 bootstrap support\\n\\n\")\n",
    "# All records with predefined species, seq-length of >= 500 and\n",
    "# assigned species classification at BS support of 1, >= 0.95 and >= 0.70\n",
    "cat(nrow(subset(df_taxa, seq_len >= 500 & Species_sc == 1.0)),\n",
    "    \"records, with >= 500 seq. length, were classiffied with a bootsrap of = 1,\",\n",
    "   nrow(subset(df_taxa, seq_len >= 500 & Species_sc >= 0.95)),\n",
    "    \"with >= 0.95 bootstrap support and\",\n",
    "   nrow(subset(df_taxa, seq_len >= 500 & Species_sc >= 0.70)),\n",
    "   \"with >= 0.7 bootstrap support\\n\\n\")\n",
    "# All records without predefined species, but with seq-length of >= 500 and\n",
    "# assigned species classification at BS support of 1, >= 0.95 and >= 0.70\n",
    "cat(nrow(subset(df_taxa, Species != \"NA\" & seq_len >= 500 & Species_sc == 1.0)),\n",
    "    \"records, with predefined species and >= 500 seq. length, were classiffied with a bootsrap of = 1,\",\n",
    "   nrow(subset(df_taxa, Species != \"NA\" & seq_len >= 500 & Species_sc >= 0.95)),\n",
    "    \"with >= 0.95 bootstrap support and\",\n",
    "   nrow(subset(df_taxa, Species != \"NA\" & seq_len >= 500 & Species_sc >= 0.70)),\n",
    "   \"with >= 0.7 bootstrap support\\n\\n\")\n"
   ]
  },
  {
   "cell_type": "code",
   "execution_count": 75,
   "metadata": {},
   "outputs": [
    {
     "name": "stdout",
     "output_type": "stream",
     "text": [
      "7515 records either had predefined species, or were classified with a bootstrap value of 1.0, 7561 with bootstrap value of >=0.95 and 10153 with boostrap value of >=0.7\n",
      "\n"
     ]
    }
   ],
   "source": [
    "\n",
    "# All records with a predifined species or RDP species classification BS support of 1.0\n",
    "df_taxa %>% filter(Species != \"NA\" | Species_sc == 1.0) -> df_100per_classified\n",
    "# All records with a predifined species or RDP species classification BS support of 0.95\n",
    "df_taxa %>% filter(Species != \"NA\" | Species_sc >= 0.95) -> df_95per_classified\n",
    "cat(nrow(df_100per_classified),\n",
    "    \"records either had predefined species,\",\n",
    "    \"or were classified with a bootstrap value of 1.0,\",\n",
    "   nrow(df_95per_classified),\n",
    "    \"with bootstrap value of >=0.95 and\",\n",
    "   nrow(subset(df_taxa, Species != \"NA\" | Species_sc >= 0.7)),\n",
    "   \"with boostrap value of >=0.7\\n\\n\")\n"
   ]
  },
  {
   "cell_type": "code",
   "execution_count": 76,
   "metadata": {},
   "outputs": [
    {
     "name": "stdout",
     "output_type": "stream",
     "text": [
      "5786 records classified into species have sequences with over 500 bases, with 819 having no prior species classification\n"
     ]
    }
   ],
   "source": [
    "#Records  with over 500 sequence length and classified into species vs those without prior classification\n",
    "cat(nrow(subset(df_taxa, Species_sc == 1.0 & seq_len >= 500 )),\n",
    "    \"records classified into species have sequences with over 500 bases, with\",\n",
    "    nrow(subset(df_taxa, is.na(Species) & Species_sc == 1.0 & seq_len >= 500 )),\n",
    "    \"having no prior species classification\\n\")\n"
   ]
  },
  {
   "cell_type": "code",
   "execution_count": 103,
   "metadata": {},
   "outputs": [
    {
     "name": "stdout",
     "output_type": "stream",
     "text": [
      "520 records with a species classication confidence of 1.0 have differing assinged species from predefined species, 394 of which have over 500 base-pairs\n",
      "\n"
     ]
    },
    {
     "data": {
      "text/html": [
       "<table>\n",
       "<caption>A data.frame: 1 × 34</caption>\n",
       "<thead>\n",
       "\t<tr><th></th><th scope=col>Process_ID</th><th scope=col>Phylum</th><th scope=col>Class</th><th scope=col>Order</th><th scope=col>Family</th><th scope=col>Subfamily</th><th scope=col>Tribe</th><th scope=col>Genus</th><th scope=col>Species</th><th scope=col>Subspecies</th><th scope=col>⋯</th><th scope=col>As_class</th><th scope=col>Class_sc</th><th scope=col>As_order</th><th scope=col>Order_sc</th><th scope=col>As_family</th><th scope=col>Family_sc</th><th scope=col>As_genus</th><th scope=col>Genus_sc</th><th scope=col>As_species</th><th scope=col>Species_sc</th></tr>\n",
       "\t<tr><th></th><th scope=col>&lt;chr&gt;</th><th scope=col>&lt;chr&gt;</th><th scope=col>&lt;chr&gt;</th><th scope=col>&lt;chr&gt;</th><th scope=col>&lt;chr&gt;</th><th scope=col>&lt;chr&gt;</th><th scope=col>&lt;lgl&gt;</th><th scope=col>&lt;chr&gt;</th><th scope=col>&lt;chr&gt;</th><th scope=col>&lt;chr&gt;</th><th scope=col>⋯</th><th scope=col>&lt;chr&gt;</th><th scope=col>&lt;dbl&gt;</th><th scope=col>&lt;chr&gt;</th><th scope=col>&lt;dbl&gt;</th><th scope=col>&lt;chr&gt;</th><th scope=col>&lt;dbl&gt;</th><th scope=col>&lt;chr&gt;</th><th scope=col>&lt;dbl&gt;</th><th scope=col>&lt;chr&gt;</th><th scope=col>&lt;dbl&gt;</th></tr>\n",
       "</thead>\n",
       "<tbody>\n",
       "\t<tr><th scope=row>8708</th><td>MGOLF169-14</td><td>Arthropoda</td><td>Insecta</td><td>Diptera</td><td>Psychodidae</td><td>Phlebotominae</td><td>NA</td><td>Idiophlebotomus</td><td>Idiophlebotomus_longiforceps</td><td>NA</td><td>⋯</td><td>Insecta</td><td>0.82</td><td>Lepidoptera</td><td>0.21</td><td>Pieridae</td><td>0</td><td>Colotis</td><td>0</td><td>Colotis_pallene</td><td>0</td></tr>\n",
       "</tbody>\n",
       "</table>\n"
      ],
      "text/latex": [
       "A data.frame: 1 × 34\n",
       "\\begin{tabular}{r|lllllllllllllllllllll}\n",
       "  & Process\\_ID & Phylum & Class & Order & Family & Subfamily & Tribe & Genus & Species & Subspecies & ⋯ & As\\_class & Class\\_sc & As\\_order & Order\\_sc & As\\_family & Family\\_sc & As\\_genus & Genus\\_sc & As\\_species & Species\\_sc\\\\\n",
       "  & <chr> & <chr> & <chr> & <chr> & <chr> & <chr> & <lgl> & <chr> & <chr> & <chr> & ⋯ & <chr> & <dbl> & <chr> & <dbl> & <chr> & <dbl> & <chr> & <dbl> & <chr> & <dbl>\\\\\n",
       "\\hline\n",
       "\t8708 & MGOLF169-14 & Arthropoda & Insecta & Diptera & Psychodidae & Phlebotominae & NA & Idiophlebotomus & Idiophlebotomus\\_longiforceps & NA & ⋯ & Insecta & 0.82 & Lepidoptera & 0.21 & Pieridae & 0 & Colotis & 0 & Colotis\\_pallene & 0\\\\\n",
       "\\end{tabular}\n"
      ],
      "text/markdown": [
       "\n",
       "A data.frame: 1 × 34\n",
       "\n",
       "| <!--/--> | Process_ID &lt;chr&gt; | Phylum &lt;chr&gt; | Class &lt;chr&gt; | Order &lt;chr&gt; | Family &lt;chr&gt; | Subfamily &lt;chr&gt; | Tribe &lt;lgl&gt; | Genus &lt;chr&gt; | Species &lt;chr&gt; | Subspecies &lt;chr&gt; | ⋯ ⋯ | As_class &lt;chr&gt; | Class_sc &lt;dbl&gt; | As_order &lt;chr&gt; | Order_sc &lt;dbl&gt; | As_family &lt;chr&gt; | Family_sc &lt;dbl&gt; | As_genus &lt;chr&gt; | Genus_sc &lt;dbl&gt; | As_species &lt;chr&gt; | Species_sc &lt;dbl&gt; |\n",
       "|---|---|---|---|---|---|---|---|---|---|---|---|---|---|---|---|---|---|---|---|---|---|\n",
       "| 8708 | MGOLF169-14 | Arthropoda | Insecta | Diptera | Psychodidae | Phlebotominae | NA | Idiophlebotomus | Idiophlebotomus_longiforceps | NA | ⋯ | Insecta | 0.82 | Lepidoptera | 0.21 | Pieridae | 0 | Colotis | 0 | Colotis_pallene | 0 |\n",
       "\n"
      ],
      "text/plain": [
       "     Process_ID  Phylum     Class   Order   Family      Subfamily     Tribe\n",
       "8708 MGOLF169-14 Arthropoda Insecta Diptera Psychodidae Phlebotominae NA   \n",
       "     Genus           Species                      Subspecies ⋯ As_class\n",
       "8708 Idiophlebotomus Idiophlebotomus_longiforceps NA         ⋯ Insecta \n",
       "     Class_sc As_order    Order_sc As_family Family_sc As_genus Genus_sc\n",
       "8708 0.82     Lepidoptera 0.21     Pieridae  0         Colotis  0       \n",
       "     As_species      Species_sc\n",
       "8708 Colotis_pallene 0         "
      ]
     },
     "metadata": {},
     "output_type": "display_data"
    }
   ],
   "source": [
    "#Records whose assinged species at Bootstrap score of 1.0 do not match with the predefined species (clash)\n",
    "cat(nrow(subset(df_taxa, Species_sc == 1.0 & Species != df_taxa$As_species)),\n",
    "    \"records with a species classication confidence of 1.0\",\n",
    "    \"have differing assinged species from predefined species,\",\n",
    "   nrow(subset(\n",
    "       df_taxa, seq_len >= 500 & Species_sc == 1.0 & Species != df_taxa$As_species)),\n",
    "    \"of which have over 500 base-pairs\\n\\n\")\n",
    "df_taxa_clash <- subset(\n",
    "    df_taxa, seq_len >= 500 & Species_sc == 1.0 & Species != df_taxa$As_species)\n",
    "#output_list = c(\"families_df\",\"df_taxa_clash\")\n",
    "#datalist = lapply(output_list,get)\n",
    "#names(datalist) <- paste(input_src,\"/\",output_list,sep=\"\")\n",
    "#for (i in 1:length(datalist)) {write.table(datalist[i],file = paste(names(datalist[i]), \".tsv\", sep = \"\"), row.names = FALSE, col.names = TRUE, sep = \"\\t\", quote = FALSE)}\n",
    "write.table(df_taxa_clash, file = paste(input_src,\"/\",filename, \"_clash.tsv\", sep =\"\"),\n",
    "            row.names = FALSE, col.names= TRUE, sep = \"\\t\", quote=FALSE )\n",
    "write.table(family_df, file = paste(input_src,\"/\",filename, \"_families.tsv\", sep =\"\"),\n",
    "            row.names = FALSE, col.names= TRUE, sep = \"\\t\", quote=FALSE )\n",
    "write.table(genus_df, file = paste(input_src,\"/\",filename, \"_genera.tsv\", sep =\"\"),\n",
    "            row.names = FALSE, col.names= TRUE, sep = \"\\t\", quote=FALSE )\n",
    "write.table(species_df, file = paste(input_src,\"/\",filename, \"_species.tsv\", sep =\"\"),\n",
    "            row.names = FALSE, col.names= TRUE, sep = \"\\t\", quote=FALSE )\n",
    "#head(diptera_classified)\n",
    "head(subset(df_taxa, Species != \"NA\" & Species_sc == 0))"
   ]
  },
  {
   "cell_type": "markdown",
   "metadata": {},
   "source": [
    "5. **Graphical representation of the distributions**"
   ]
  },
  {
   "cell_type": "code",
   "execution_count": 16,
   "metadata": {},
   "outputs": [
    {
     "data": {
      "image/png": "[encoded data removed]",
      "text/plain": [
       "Plot with title “Histogram of df_taxa$Species_sc”"
      ]
     },
     "metadata": {
      "image/png": {
       "height": 420,
       "width": 420
      },
      "text/plain": {
       "height": 420,
       "width": 420
      }
     },
     "output_type": "display_data"
    },
    {
     "data": {
      "image/png": "[encoded data removed]",
      "text/plain": [
       "plot without title"
      ]
     },
     "metadata": {
      "image/png": {
       "height": 420,
       "width": 420
      },
      "text/plain": {
       "height": 420,
       "width": 420
      }
     },
     "output_type": "display_data"
    },
    {
     "name": "stdout",
     "output_type": "stream",
     "text": [
      "1 Families are represented\n"
     ]
    },
    {
     "data": {
      "image/png": "[encoded data removed]",
      "text/plain": [
       "plot without title"
      ]
     },
     "metadata": {
      "image/png": {
       "height": 420,
       "width": 420
      },
      "text/plain": {
       "height": 420,
       "width": 420
      }
     },
     "output_type": "display_data"
    },
    {
     "name": "stdout",
     "output_type": "stream",
     "text": [
      "8208 sequences have over 0.7 species identification score\n"
     ]
    },
    {
     "data": {
      "image/png": "[encoded data removed]",
      "text/plain": [
       "plot without title"
      ]
     },
     "metadata": {
      "image/png": {
       "height": 420,
       "width": 420
      },
      "text/plain": {
       "height": 420,
       "width": 420
      }
     },
     "output_type": "display_data"
    }
   ],
   "source": [
    "#Species score distribution.\n",
    "hist(df_taxa$Species_sc)\n",
    "ggplot(df_taxa, mapping = aes(x = seq_len)) + geom_freqpoly(\n",
    "    mapping = aes(colour = is.na(Species)), binwidth = 50)\n",
    "ggplot(df_taxa, aes(x = seq_len, y = Species_sc)) + geom_boxplot(\n",
    "    mapping = aes(group = cut_width(seq_len, 50)))\n",
    "cat(nrow(as.data.frame(table(c((df_taxa)$Family)))),\n",
    "    \"Families are represented\\n\")\n",
    "#as.data.frame(table(c(diptera_taxa$Family)))\n",
    "df_taxa %>% filter(df_taxa$Family_sc == 1.0 ) -> df_family\n",
    "as.data.frame(table(c(df_family$As_family))) -> df_fam\n",
    "df_fam %>% filter(df_fam$Freq > 50 ) -> df_fam1\n",
    "ggplot(\n",
    "    data = df_fam1\n",
    ") + geom_bar(\n",
    "    mapping = aes (x = df_fam1$Var1, y = df_fam1$Freq),\n",
    "    stat = \"identity\")\n",
    "#ggplot( data = diptera_family ) + geom_bar(mapping = aes(x = diptera_family$As_family ))\n",
    "df_taxa %>% filter(Species_sc >= 0.7 ) -> df_newsp\n",
    "cat(nrow(df_newsp),\"sequences have over 0.7 species identification score\\n\")\n",
    "#head(diptera_newsp)\n",
    "#hist(diptera_newsp$)\n",
    "#ggplot(diptera_genussc_over07, aes(x = seq_len, y = Species_sc)) + geom_line()\n",
    "#hist(as.integer(diptera_genussc_over07$seq_len))"
   ]
  },
  {
   "cell_type": "code",
   "execution_count": null,
   "metadata": {},
   "outputs": [],
   "source": []
  }
 ],
 "metadata": {
  "kernelspec": {
   "display_name": "R",
   "language": "R",
   "name": "ir"
  },
  "language_info": {
   "codemirror_mode": "r",
   "file_extension": ".r",
   "mimetype": "text/x-r-source",
   "name": "R",
   "pygments_lexer": "r",
   "version": "4.0.3"
  }
 },
 "nbformat": 4,
 "nbformat_minor": 2
}
